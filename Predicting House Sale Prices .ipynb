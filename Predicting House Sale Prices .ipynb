{
 "cells": [
  {
   "cell_type": "markdown",
   "metadata": {
    "collapsed": true
   },
   "source": [
    "# Predicting House Sale Prices with Linear Regression\n",
    "---\n",
    "In this project, we'll build a Linear Regression model and exploring ways to improve it. We will work with housing data for the city of Ames, Iowa, United States from 2006 to 2010. Read more about why the data was collected [here](https://www.tandfonline.com/doi/abs/10.1080/10691898.2011.11889627). Read about the different columns in the data [here](https://s3.amazonaws.com/dq-content/307/data_description.txt)."
   ]
  },
  {
   "cell_type": "markdown",
   "metadata": {
    "heading_collapsed": true
   },
   "source": [
    "## Import And Explore The Dataset"
   ]
  },
  {
   "cell_type": "code",
   "execution_count": 1,
   "metadata": {
    "ExecuteTime": {
     "end_time": "2020-10-20T17:27:25.283735Z",
     "start_time": "2020-10-20T17:27:25.276629Z"
    },
    "hidden": true
   },
   "outputs": [],
   "source": [
    "import pandas as pd\n",
    "import matplotlib.pyplot as plt\n",
    "import numpy as np\n",
    "import seaborn as sns\n",
    "from sklearn.linear_model import LinearRegression\n",
    "from sklearn.linear_model import Lasso # Linear Model trained with L1 prior as regularizer (aka the Lasso)\n",
    "from sklearn.linear_model import Ridge # Linear least squares with l2 regularization.\n",
    "from sklearn.model_selection import train_test_split\n",
    "from sklearn.decomposition import PCA\n",
    "from sklearn.feature_selection import SelectKBest\n",
    "from sklearn.feature_selection import f_regression\n",
    "from sklearn.preprocessing import OneHotEncoder\n",
    "from sklearn.metrics import mean_squared_error\n",
    "%matplotlib inline"
   ]
  },
  {
   "cell_type": "code",
   "execution_count": 2,
   "metadata": {
    "ExecuteTime": {
     "end_time": "2020-10-20T17:15:23.765451Z",
     "start_time": "2020-10-20T17:15:23.740806Z"
    },
    "hidden": true
   },
   "outputs": [],
   "source": [
    "ames_housing = pd.read_csv('AmesHousing.tsv', sep = '\\t')"
   ]
  },
  {
   "cell_type": "code",
   "execution_count": 3,
   "metadata": {
    "ExecuteTime": {
     "end_time": "2020-10-20T17:15:23.807629Z",
     "start_time": "2020-10-20T17:15:23.766915Z"
    },
    "hidden": true,
    "scrolled": true
   },
   "outputs": [
    {
     "data": {
      "text/html": [
       "<div>\n",
       "<style scoped>\n",
       "    .dataframe tbody tr th:only-of-type {\n",
       "        vertical-align: middle;\n",
       "    }\n",
       "\n",
       "    .dataframe tbody tr th {\n",
       "        vertical-align: top;\n",
       "    }\n",
       "\n",
       "    .dataframe thead th {\n",
       "        text-align: right;\n",
       "    }\n",
       "</style>\n",
       "<table border=\"1\" class=\"dataframe\">\n",
       "  <thead>\n",
       "    <tr style=\"text-align: right;\">\n",
       "      <th></th>\n",
       "      <th>Order</th>\n",
       "      <th>PID</th>\n",
       "      <th>MS SubClass</th>\n",
       "      <th>MS Zoning</th>\n",
       "      <th>Lot Frontage</th>\n",
       "      <th>Lot Area</th>\n",
       "      <th>Street</th>\n",
       "      <th>Alley</th>\n",
       "      <th>Lot Shape</th>\n",
       "      <th>Land Contour</th>\n",
       "      <th>Utilities</th>\n",
       "      <th>Lot Config</th>\n",
       "      <th>Land Slope</th>\n",
       "      <th>Neighborhood</th>\n",
       "      <th>Condition 1</th>\n",
       "      <th>Condition 2</th>\n",
       "      <th>Bldg Type</th>\n",
       "      <th>House Style</th>\n",
       "      <th>Overall Qual</th>\n",
       "      <th>Overall Cond</th>\n",
       "      <th>Year Built</th>\n",
       "      <th>Year Remod/Add</th>\n",
       "      <th>Roof Style</th>\n",
       "      <th>Roof Matl</th>\n",
       "      <th>Exterior 1st</th>\n",
       "      <th>Exterior 2nd</th>\n",
       "      <th>Mas Vnr Type</th>\n",
       "      <th>Mas Vnr Area</th>\n",
       "      <th>Exter Qual</th>\n",
       "      <th>Exter Cond</th>\n",
       "      <th>Foundation</th>\n",
       "      <th>Bsmt Qual</th>\n",
       "      <th>Bsmt Cond</th>\n",
       "      <th>Bsmt Exposure</th>\n",
       "      <th>BsmtFin Type 1</th>\n",
       "      <th>BsmtFin SF 1</th>\n",
       "      <th>BsmtFin Type 2</th>\n",
       "      <th>BsmtFin SF 2</th>\n",
       "      <th>Bsmt Unf SF</th>\n",
       "      <th>Total Bsmt SF</th>\n",
       "      <th>Heating</th>\n",
       "      <th>Heating QC</th>\n",
       "      <th>Central Air</th>\n",
       "      <th>Electrical</th>\n",
       "      <th>1st Flr SF</th>\n",
       "      <th>2nd Flr SF</th>\n",
       "      <th>Low Qual Fin SF</th>\n",
       "      <th>Gr Liv Area</th>\n",
       "      <th>Bsmt Full Bath</th>\n",
       "      <th>Bsmt Half Bath</th>\n",
       "      <th>Full Bath</th>\n",
       "      <th>Half Bath</th>\n",
       "      <th>Bedroom AbvGr</th>\n",
       "      <th>Kitchen AbvGr</th>\n",
       "      <th>Kitchen Qual</th>\n",
       "      <th>TotRms AbvGrd</th>\n",
       "      <th>Functional</th>\n",
       "      <th>Fireplaces</th>\n",
       "      <th>Fireplace Qu</th>\n",
       "      <th>Garage Type</th>\n",
       "      <th>Garage Yr Blt</th>\n",
       "      <th>Garage Finish</th>\n",
       "      <th>Garage Cars</th>\n",
       "      <th>Garage Area</th>\n",
       "      <th>Garage Qual</th>\n",
       "      <th>Garage Cond</th>\n",
       "      <th>Paved Drive</th>\n",
       "      <th>Wood Deck SF</th>\n",
       "      <th>Open Porch SF</th>\n",
       "      <th>Enclosed Porch</th>\n",
       "      <th>3Ssn Porch</th>\n",
       "      <th>Screen Porch</th>\n",
       "      <th>Pool Area</th>\n",
       "      <th>Pool QC</th>\n",
       "      <th>Fence</th>\n",
       "      <th>Misc Feature</th>\n",
       "      <th>Misc Val</th>\n",
       "      <th>Mo Sold</th>\n",
       "      <th>Yr Sold</th>\n",
       "      <th>Sale Type</th>\n",
       "      <th>Sale Condition</th>\n",
       "      <th>SalePrice</th>\n",
       "    </tr>\n",
       "  </thead>\n",
       "  <tbody>\n",
       "    <tr>\n",
       "      <th>0</th>\n",
       "      <td>1</td>\n",
       "      <td>526301100</td>\n",
       "      <td>20</td>\n",
       "      <td>RL</td>\n",
       "      <td>141.0</td>\n",
       "      <td>31770</td>\n",
       "      <td>Pave</td>\n",
       "      <td>NaN</td>\n",
       "      <td>IR1</td>\n",
       "      <td>Lvl</td>\n",
       "      <td>AllPub</td>\n",
       "      <td>Corner</td>\n",
       "      <td>Gtl</td>\n",
       "      <td>NAmes</td>\n",
       "      <td>Norm</td>\n",
       "      <td>Norm</td>\n",
       "      <td>1Fam</td>\n",
       "      <td>1Story</td>\n",
       "      <td>6</td>\n",
       "      <td>5</td>\n",
       "      <td>1960</td>\n",
       "      <td>1960</td>\n",
       "      <td>Hip</td>\n",
       "      <td>CompShg</td>\n",
       "      <td>BrkFace</td>\n",
       "      <td>Plywood</td>\n",
       "      <td>Stone</td>\n",
       "      <td>112.0</td>\n",
       "      <td>TA</td>\n",
       "      <td>TA</td>\n",
       "      <td>CBlock</td>\n",
       "      <td>TA</td>\n",
       "      <td>Gd</td>\n",
       "      <td>Gd</td>\n",
       "      <td>BLQ</td>\n",
       "      <td>639.0</td>\n",
       "      <td>Unf</td>\n",
       "      <td>0.0</td>\n",
       "      <td>441.0</td>\n",
       "      <td>1080.0</td>\n",
       "      <td>GasA</td>\n",
       "      <td>Fa</td>\n",
       "      <td>Y</td>\n",
       "      <td>SBrkr</td>\n",
       "      <td>1656</td>\n",
       "      <td>0</td>\n",
       "      <td>0</td>\n",
       "      <td>1656</td>\n",
       "      <td>1.0</td>\n",
       "      <td>0.0</td>\n",
       "      <td>1</td>\n",
       "      <td>0</td>\n",
       "      <td>3</td>\n",
       "      <td>1</td>\n",
       "      <td>TA</td>\n",
       "      <td>7</td>\n",
       "      <td>Typ</td>\n",
       "      <td>2</td>\n",
       "      <td>Gd</td>\n",
       "      <td>Attchd</td>\n",
       "      <td>1960.0</td>\n",
       "      <td>Fin</td>\n",
       "      <td>2.0</td>\n",
       "      <td>528.0</td>\n",
       "      <td>TA</td>\n",
       "      <td>TA</td>\n",
       "      <td>P</td>\n",
       "      <td>210</td>\n",
       "      <td>62</td>\n",
       "      <td>0</td>\n",
       "      <td>0</td>\n",
       "      <td>0</td>\n",
       "      <td>0</td>\n",
       "      <td>NaN</td>\n",
       "      <td>NaN</td>\n",
       "      <td>NaN</td>\n",
       "      <td>0</td>\n",
       "      <td>5</td>\n",
       "      <td>2010</td>\n",
       "      <td>WD</td>\n",
       "      <td>Normal</td>\n",
       "      <td>215000</td>\n",
       "    </tr>\n",
       "    <tr>\n",
       "      <th>1</th>\n",
       "      <td>2</td>\n",
       "      <td>526350040</td>\n",
       "      <td>20</td>\n",
       "      <td>RH</td>\n",
       "      <td>80.0</td>\n",
       "      <td>11622</td>\n",
       "      <td>Pave</td>\n",
       "      <td>NaN</td>\n",
       "      <td>Reg</td>\n",
       "      <td>Lvl</td>\n",
       "      <td>AllPub</td>\n",
       "      <td>Inside</td>\n",
       "      <td>Gtl</td>\n",
       "      <td>NAmes</td>\n",
       "      <td>Feedr</td>\n",
       "      <td>Norm</td>\n",
       "      <td>1Fam</td>\n",
       "      <td>1Story</td>\n",
       "      <td>5</td>\n",
       "      <td>6</td>\n",
       "      <td>1961</td>\n",
       "      <td>1961</td>\n",
       "      <td>Gable</td>\n",
       "      <td>CompShg</td>\n",
       "      <td>VinylSd</td>\n",
       "      <td>VinylSd</td>\n",
       "      <td>None</td>\n",
       "      <td>0.0</td>\n",
       "      <td>TA</td>\n",
       "      <td>TA</td>\n",
       "      <td>CBlock</td>\n",
       "      <td>TA</td>\n",
       "      <td>TA</td>\n",
       "      <td>No</td>\n",
       "      <td>Rec</td>\n",
       "      <td>468.0</td>\n",
       "      <td>LwQ</td>\n",
       "      <td>144.0</td>\n",
       "      <td>270.0</td>\n",
       "      <td>882.0</td>\n",
       "      <td>GasA</td>\n",
       "      <td>TA</td>\n",
       "      <td>Y</td>\n",
       "      <td>SBrkr</td>\n",
       "      <td>896</td>\n",
       "      <td>0</td>\n",
       "      <td>0</td>\n",
       "      <td>896</td>\n",
       "      <td>0.0</td>\n",
       "      <td>0.0</td>\n",
       "      <td>1</td>\n",
       "      <td>0</td>\n",
       "      <td>2</td>\n",
       "      <td>1</td>\n",
       "      <td>TA</td>\n",
       "      <td>5</td>\n",
       "      <td>Typ</td>\n",
       "      <td>0</td>\n",
       "      <td>NaN</td>\n",
       "      <td>Attchd</td>\n",
       "      <td>1961.0</td>\n",
       "      <td>Unf</td>\n",
       "      <td>1.0</td>\n",
       "      <td>730.0</td>\n",
       "      <td>TA</td>\n",
       "      <td>TA</td>\n",
       "      <td>Y</td>\n",
       "      <td>140</td>\n",
       "      <td>0</td>\n",
       "      <td>0</td>\n",
       "      <td>0</td>\n",
       "      <td>120</td>\n",
       "      <td>0</td>\n",
       "      <td>NaN</td>\n",
       "      <td>MnPrv</td>\n",
       "      <td>NaN</td>\n",
       "      <td>0</td>\n",
       "      <td>6</td>\n",
       "      <td>2010</td>\n",
       "      <td>WD</td>\n",
       "      <td>Normal</td>\n",
       "      <td>105000</td>\n",
       "    </tr>\n",
       "    <tr>\n",
       "      <th>2</th>\n",
       "      <td>3</td>\n",
       "      <td>526351010</td>\n",
       "      <td>20</td>\n",
       "      <td>RL</td>\n",
       "      <td>81.0</td>\n",
       "      <td>14267</td>\n",
       "      <td>Pave</td>\n",
       "      <td>NaN</td>\n",
       "      <td>IR1</td>\n",
       "      <td>Lvl</td>\n",
       "      <td>AllPub</td>\n",
       "      <td>Corner</td>\n",
       "      <td>Gtl</td>\n",
       "      <td>NAmes</td>\n",
       "      <td>Norm</td>\n",
       "      <td>Norm</td>\n",
       "      <td>1Fam</td>\n",
       "      <td>1Story</td>\n",
       "      <td>6</td>\n",
       "      <td>6</td>\n",
       "      <td>1958</td>\n",
       "      <td>1958</td>\n",
       "      <td>Hip</td>\n",
       "      <td>CompShg</td>\n",
       "      <td>Wd Sdng</td>\n",
       "      <td>Wd Sdng</td>\n",
       "      <td>BrkFace</td>\n",
       "      <td>108.0</td>\n",
       "      <td>TA</td>\n",
       "      <td>TA</td>\n",
       "      <td>CBlock</td>\n",
       "      <td>TA</td>\n",
       "      <td>TA</td>\n",
       "      <td>No</td>\n",
       "      <td>ALQ</td>\n",
       "      <td>923.0</td>\n",
       "      <td>Unf</td>\n",
       "      <td>0.0</td>\n",
       "      <td>406.0</td>\n",
       "      <td>1329.0</td>\n",
       "      <td>GasA</td>\n",
       "      <td>TA</td>\n",
       "      <td>Y</td>\n",
       "      <td>SBrkr</td>\n",
       "      <td>1329</td>\n",
       "      <td>0</td>\n",
       "      <td>0</td>\n",
       "      <td>1329</td>\n",
       "      <td>0.0</td>\n",
       "      <td>0.0</td>\n",
       "      <td>1</td>\n",
       "      <td>1</td>\n",
       "      <td>3</td>\n",
       "      <td>1</td>\n",
       "      <td>Gd</td>\n",
       "      <td>6</td>\n",
       "      <td>Typ</td>\n",
       "      <td>0</td>\n",
       "      <td>NaN</td>\n",
       "      <td>Attchd</td>\n",
       "      <td>1958.0</td>\n",
       "      <td>Unf</td>\n",
       "      <td>1.0</td>\n",
       "      <td>312.0</td>\n",
       "      <td>TA</td>\n",
       "      <td>TA</td>\n",
       "      <td>Y</td>\n",
       "      <td>393</td>\n",
       "      <td>36</td>\n",
       "      <td>0</td>\n",
       "      <td>0</td>\n",
       "      <td>0</td>\n",
       "      <td>0</td>\n",
       "      <td>NaN</td>\n",
       "      <td>NaN</td>\n",
       "      <td>Gar2</td>\n",
       "      <td>12500</td>\n",
       "      <td>6</td>\n",
       "      <td>2010</td>\n",
       "      <td>WD</td>\n",
       "      <td>Normal</td>\n",
       "      <td>172000</td>\n",
       "    </tr>\n",
       "    <tr>\n",
       "      <th>3</th>\n",
       "      <td>4</td>\n",
       "      <td>526353030</td>\n",
       "      <td>20</td>\n",
       "      <td>RL</td>\n",
       "      <td>93.0</td>\n",
       "      <td>11160</td>\n",
       "      <td>Pave</td>\n",
       "      <td>NaN</td>\n",
       "      <td>Reg</td>\n",
       "      <td>Lvl</td>\n",
       "      <td>AllPub</td>\n",
       "      <td>Corner</td>\n",
       "      <td>Gtl</td>\n",
       "      <td>NAmes</td>\n",
       "      <td>Norm</td>\n",
       "      <td>Norm</td>\n",
       "      <td>1Fam</td>\n",
       "      <td>1Story</td>\n",
       "      <td>7</td>\n",
       "      <td>5</td>\n",
       "      <td>1968</td>\n",
       "      <td>1968</td>\n",
       "      <td>Hip</td>\n",
       "      <td>CompShg</td>\n",
       "      <td>BrkFace</td>\n",
       "      <td>BrkFace</td>\n",
       "      <td>None</td>\n",
       "      <td>0.0</td>\n",
       "      <td>Gd</td>\n",
       "      <td>TA</td>\n",
       "      <td>CBlock</td>\n",
       "      <td>TA</td>\n",
       "      <td>TA</td>\n",
       "      <td>No</td>\n",
       "      <td>ALQ</td>\n",
       "      <td>1065.0</td>\n",
       "      <td>Unf</td>\n",
       "      <td>0.0</td>\n",
       "      <td>1045.0</td>\n",
       "      <td>2110.0</td>\n",
       "      <td>GasA</td>\n",
       "      <td>Ex</td>\n",
       "      <td>Y</td>\n",
       "      <td>SBrkr</td>\n",
       "      <td>2110</td>\n",
       "      <td>0</td>\n",
       "      <td>0</td>\n",
       "      <td>2110</td>\n",
       "      <td>1.0</td>\n",
       "      <td>0.0</td>\n",
       "      <td>2</td>\n",
       "      <td>1</td>\n",
       "      <td>3</td>\n",
       "      <td>1</td>\n",
       "      <td>Ex</td>\n",
       "      <td>8</td>\n",
       "      <td>Typ</td>\n",
       "      <td>2</td>\n",
       "      <td>TA</td>\n",
       "      <td>Attchd</td>\n",
       "      <td>1968.0</td>\n",
       "      <td>Fin</td>\n",
       "      <td>2.0</td>\n",
       "      <td>522.0</td>\n",
       "      <td>TA</td>\n",
       "      <td>TA</td>\n",
       "      <td>Y</td>\n",
       "      <td>0</td>\n",
       "      <td>0</td>\n",
       "      <td>0</td>\n",
       "      <td>0</td>\n",
       "      <td>0</td>\n",
       "      <td>0</td>\n",
       "      <td>NaN</td>\n",
       "      <td>NaN</td>\n",
       "      <td>NaN</td>\n",
       "      <td>0</td>\n",
       "      <td>4</td>\n",
       "      <td>2010</td>\n",
       "      <td>WD</td>\n",
       "      <td>Normal</td>\n",
       "      <td>244000</td>\n",
       "    </tr>\n",
       "    <tr>\n",
       "      <th>4</th>\n",
       "      <td>5</td>\n",
       "      <td>527105010</td>\n",
       "      <td>60</td>\n",
       "      <td>RL</td>\n",
       "      <td>74.0</td>\n",
       "      <td>13830</td>\n",
       "      <td>Pave</td>\n",
       "      <td>NaN</td>\n",
       "      <td>IR1</td>\n",
       "      <td>Lvl</td>\n",
       "      <td>AllPub</td>\n",
       "      <td>Inside</td>\n",
       "      <td>Gtl</td>\n",
       "      <td>Gilbert</td>\n",
       "      <td>Norm</td>\n",
       "      <td>Norm</td>\n",
       "      <td>1Fam</td>\n",
       "      <td>2Story</td>\n",
       "      <td>5</td>\n",
       "      <td>5</td>\n",
       "      <td>1997</td>\n",
       "      <td>1998</td>\n",
       "      <td>Gable</td>\n",
       "      <td>CompShg</td>\n",
       "      <td>VinylSd</td>\n",
       "      <td>VinylSd</td>\n",
       "      <td>None</td>\n",
       "      <td>0.0</td>\n",
       "      <td>TA</td>\n",
       "      <td>TA</td>\n",
       "      <td>PConc</td>\n",
       "      <td>Gd</td>\n",
       "      <td>TA</td>\n",
       "      <td>No</td>\n",
       "      <td>GLQ</td>\n",
       "      <td>791.0</td>\n",
       "      <td>Unf</td>\n",
       "      <td>0.0</td>\n",
       "      <td>137.0</td>\n",
       "      <td>928.0</td>\n",
       "      <td>GasA</td>\n",
       "      <td>Gd</td>\n",
       "      <td>Y</td>\n",
       "      <td>SBrkr</td>\n",
       "      <td>928</td>\n",
       "      <td>701</td>\n",
       "      <td>0</td>\n",
       "      <td>1629</td>\n",
       "      <td>0.0</td>\n",
       "      <td>0.0</td>\n",
       "      <td>2</td>\n",
       "      <td>1</td>\n",
       "      <td>3</td>\n",
       "      <td>1</td>\n",
       "      <td>TA</td>\n",
       "      <td>6</td>\n",
       "      <td>Typ</td>\n",
       "      <td>1</td>\n",
       "      <td>TA</td>\n",
       "      <td>Attchd</td>\n",
       "      <td>1997.0</td>\n",
       "      <td>Fin</td>\n",
       "      <td>2.0</td>\n",
       "      <td>482.0</td>\n",
       "      <td>TA</td>\n",
       "      <td>TA</td>\n",
       "      <td>Y</td>\n",
       "      <td>212</td>\n",
       "      <td>34</td>\n",
       "      <td>0</td>\n",
       "      <td>0</td>\n",
       "      <td>0</td>\n",
       "      <td>0</td>\n",
       "      <td>NaN</td>\n",
       "      <td>MnPrv</td>\n",
       "      <td>NaN</td>\n",
       "      <td>0</td>\n",
       "      <td>3</td>\n",
       "      <td>2010</td>\n",
       "      <td>WD</td>\n",
       "      <td>Normal</td>\n",
       "      <td>189900</td>\n",
       "    </tr>\n",
       "  </tbody>\n",
       "</table>\n",
       "</div>"
      ],
      "text/plain": [
       "   Order        PID  MS SubClass MS Zoning  Lot Frontage  Lot Area Street  \\\n",
       "0      1  526301100           20        RL         141.0     31770   Pave   \n",
       "1      2  526350040           20        RH          80.0     11622   Pave   \n",
       "2      3  526351010           20        RL          81.0     14267   Pave   \n",
       "3      4  526353030           20        RL          93.0     11160   Pave   \n",
       "4      5  527105010           60        RL          74.0     13830   Pave   \n",
       "\n",
       "  Alley Lot Shape Land Contour Utilities Lot Config Land Slope Neighborhood  \\\n",
       "0   NaN       IR1          Lvl    AllPub     Corner        Gtl        NAmes   \n",
       "1   NaN       Reg          Lvl    AllPub     Inside        Gtl        NAmes   \n",
       "2   NaN       IR1          Lvl    AllPub     Corner        Gtl        NAmes   \n",
       "3   NaN       Reg          Lvl    AllPub     Corner        Gtl        NAmes   \n",
       "4   NaN       IR1          Lvl    AllPub     Inside        Gtl      Gilbert   \n",
       "\n",
       "  Condition 1 Condition 2 Bldg Type House Style  Overall Qual  Overall Cond  \\\n",
       "0        Norm        Norm      1Fam      1Story             6             5   \n",
       "1       Feedr        Norm      1Fam      1Story             5             6   \n",
       "2        Norm        Norm      1Fam      1Story             6             6   \n",
       "3        Norm        Norm      1Fam      1Story             7             5   \n",
       "4        Norm        Norm      1Fam      2Story             5             5   \n",
       "\n",
       "   Year Built  Year Remod/Add Roof Style Roof Matl Exterior 1st Exterior 2nd  \\\n",
       "0        1960            1960        Hip   CompShg      BrkFace      Plywood   \n",
       "1        1961            1961      Gable   CompShg      VinylSd      VinylSd   \n",
       "2        1958            1958        Hip   CompShg      Wd Sdng      Wd Sdng   \n",
       "3        1968            1968        Hip   CompShg      BrkFace      BrkFace   \n",
       "4        1997            1998      Gable   CompShg      VinylSd      VinylSd   \n",
       "\n",
       "  Mas Vnr Type  Mas Vnr Area Exter Qual Exter Cond Foundation Bsmt Qual  \\\n",
       "0        Stone         112.0         TA         TA     CBlock        TA   \n",
       "1         None           0.0         TA         TA     CBlock        TA   \n",
       "2      BrkFace         108.0         TA         TA     CBlock        TA   \n",
       "3         None           0.0         Gd         TA     CBlock        TA   \n",
       "4         None           0.0         TA         TA      PConc        Gd   \n",
       "\n",
       "  Bsmt Cond Bsmt Exposure BsmtFin Type 1  BsmtFin SF 1 BsmtFin Type 2  \\\n",
       "0        Gd            Gd            BLQ         639.0            Unf   \n",
       "1        TA            No            Rec         468.0            LwQ   \n",
       "2        TA            No            ALQ         923.0            Unf   \n",
       "3        TA            No            ALQ        1065.0            Unf   \n",
       "4        TA            No            GLQ         791.0            Unf   \n",
       "\n",
       "   BsmtFin SF 2  Bsmt Unf SF  Total Bsmt SF Heating Heating QC Central Air  \\\n",
       "0           0.0        441.0         1080.0    GasA         Fa           Y   \n",
       "1         144.0        270.0          882.0    GasA         TA           Y   \n",
       "2           0.0        406.0         1329.0    GasA         TA           Y   \n",
       "3           0.0       1045.0         2110.0    GasA         Ex           Y   \n",
       "4           0.0        137.0          928.0    GasA         Gd           Y   \n",
       "\n",
       "  Electrical  1st Flr SF  2nd Flr SF  Low Qual Fin SF  Gr Liv Area  \\\n",
       "0      SBrkr        1656           0                0         1656   \n",
       "1      SBrkr         896           0                0          896   \n",
       "2      SBrkr        1329           0                0         1329   \n",
       "3      SBrkr        2110           0                0         2110   \n",
       "4      SBrkr         928         701                0         1629   \n",
       "\n",
       "   Bsmt Full Bath  Bsmt Half Bath  Full Bath  Half Bath  Bedroom AbvGr  \\\n",
       "0             1.0             0.0          1          0              3   \n",
       "1             0.0             0.0          1          0              2   \n",
       "2             0.0             0.0          1          1              3   \n",
       "3             1.0             0.0          2          1              3   \n",
       "4             0.0             0.0          2          1              3   \n",
       "\n",
       "   Kitchen AbvGr Kitchen Qual  TotRms AbvGrd Functional  Fireplaces  \\\n",
       "0              1           TA              7        Typ           2   \n",
       "1              1           TA              5        Typ           0   \n",
       "2              1           Gd              6        Typ           0   \n",
       "3              1           Ex              8        Typ           2   \n",
       "4              1           TA              6        Typ           1   \n",
       "\n",
       "  Fireplace Qu Garage Type  Garage Yr Blt Garage Finish  Garage Cars  \\\n",
       "0           Gd      Attchd         1960.0           Fin          2.0   \n",
       "1          NaN      Attchd         1961.0           Unf          1.0   \n",
       "2          NaN      Attchd         1958.0           Unf          1.0   \n",
       "3           TA      Attchd         1968.0           Fin          2.0   \n",
       "4           TA      Attchd         1997.0           Fin          2.0   \n",
       "\n",
       "   Garage Area Garage Qual Garage Cond Paved Drive  Wood Deck SF  \\\n",
       "0        528.0          TA          TA           P           210   \n",
       "1        730.0          TA          TA           Y           140   \n",
       "2        312.0          TA          TA           Y           393   \n",
       "3        522.0          TA          TA           Y             0   \n",
       "4        482.0          TA          TA           Y           212   \n",
       "\n",
       "   Open Porch SF  Enclosed Porch  3Ssn Porch  Screen Porch  Pool Area Pool QC  \\\n",
       "0             62               0           0             0          0     NaN   \n",
       "1              0               0           0           120          0     NaN   \n",
       "2             36               0           0             0          0     NaN   \n",
       "3              0               0           0             0          0     NaN   \n",
       "4             34               0           0             0          0     NaN   \n",
       "\n",
       "   Fence Misc Feature  Misc Val  Mo Sold  Yr Sold Sale Type Sale Condition  \\\n",
       "0    NaN          NaN         0        5     2010       WD          Normal   \n",
       "1  MnPrv          NaN         0        6     2010       WD          Normal   \n",
       "2    NaN         Gar2     12500        6     2010       WD          Normal   \n",
       "3    NaN          NaN         0        4     2010       WD          Normal   \n",
       "4  MnPrv          NaN         0        3     2010       WD          Normal   \n",
       "\n",
       "   SalePrice  \n",
       "0     215000  \n",
       "1     105000  \n",
       "2     172000  \n",
       "3     244000  \n",
       "4     189900  "
      ]
     },
     "execution_count": 3,
     "metadata": {},
     "output_type": "execute_result"
    }
   ],
   "source": [
    "pd.options.display.max_columns = 82\n",
    "ames_housing.head()"
   ]
  },
  {
   "cell_type": "code",
   "execution_count": 4,
   "metadata": {
    "ExecuteTime": {
     "end_time": "2020-10-20T17:15:23.893353Z",
     "start_time": "2020-10-20T17:15:23.808815Z"
    },
    "hidden": true
   },
   "outputs": [
    {
     "data": {
      "text/html": [
       "<div>\n",
       "<style scoped>\n",
       "    .dataframe tbody tr th:only-of-type {\n",
       "        vertical-align: middle;\n",
       "    }\n",
       "\n",
       "    .dataframe tbody tr th {\n",
       "        vertical-align: top;\n",
       "    }\n",
       "\n",
       "    .dataframe thead th {\n",
       "        text-align: right;\n",
       "    }\n",
       "</style>\n",
       "<table border=\"1\" class=\"dataframe\">\n",
       "  <thead>\n",
       "    <tr style=\"text-align: right;\">\n",
       "      <th></th>\n",
       "      <th>Order</th>\n",
       "      <th>PID</th>\n",
       "      <th>MS SubClass</th>\n",
       "      <th>Lot Frontage</th>\n",
       "      <th>Lot Area</th>\n",
       "      <th>Overall Qual</th>\n",
       "      <th>Overall Cond</th>\n",
       "      <th>Year Built</th>\n",
       "      <th>Year Remod/Add</th>\n",
       "      <th>Mas Vnr Area</th>\n",
       "      <th>BsmtFin SF 1</th>\n",
       "      <th>BsmtFin SF 2</th>\n",
       "      <th>Bsmt Unf SF</th>\n",
       "      <th>Total Bsmt SF</th>\n",
       "      <th>1st Flr SF</th>\n",
       "      <th>2nd Flr SF</th>\n",
       "      <th>Low Qual Fin SF</th>\n",
       "      <th>Gr Liv Area</th>\n",
       "      <th>Bsmt Full Bath</th>\n",
       "      <th>Bsmt Half Bath</th>\n",
       "      <th>Full Bath</th>\n",
       "      <th>Half Bath</th>\n",
       "      <th>Bedroom AbvGr</th>\n",
       "      <th>Kitchen AbvGr</th>\n",
       "      <th>TotRms AbvGrd</th>\n",
       "      <th>Fireplaces</th>\n",
       "      <th>Garage Yr Blt</th>\n",
       "      <th>Garage Cars</th>\n",
       "      <th>Garage Area</th>\n",
       "      <th>Wood Deck SF</th>\n",
       "      <th>Open Porch SF</th>\n",
       "      <th>Enclosed Porch</th>\n",
       "      <th>3Ssn Porch</th>\n",
       "      <th>Screen Porch</th>\n",
       "      <th>Pool Area</th>\n",
       "      <th>Misc Val</th>\n",
       "      <th>Mo Sold</th>\n",
       "      <th>Yr Sold</th>\n",
       "      <th>SalePrice</th>\n",
       "    </tr>\n",
       "  </thead>\n",
       "  <tbody>\n",
       "    <tr>\n",
       "      <th>count</th>\n",
       "      <td>2930.00000</td>\n",
       "      <td>2.930000e+03</td>\n",
       "      <td>2930.000000</td>\n",
       "      <td>2440.000000</td>\n",
       "      <td>2930.000000</td>\n",
       "      <td>2930.000000</td>\n",
       "      <td>2930.000000</td>\n",
       "      <td>2930.000000</td>\n",
       "      <td>2930.000000</td>\n",
       "      <td>2907.000000</td>\n",
       "      <td>2929.000000</td>\n",
       "      <td>2929.000000</td>\n",
       "      <td>2929.000000</td>\n",
       "      <td>2929.000000</td>\n",
       "      <td>2930.000000</td>\n",
       "      <td>2930.000000</td>\n",
       "      <td>2930.000000</td>\n",
       "      <td>2930.000000</td>\n",
       "      <td>2928.000000</td>\n",
       "      <td>2928.000000</td>\n",
       "      <td>2930.000000</td>\n",
       "      <td>2930.000000</td>\n",
       "      <td>2930.000000</td>\n",
       "      <td>2930.000000</td>\n",
       "      <td>2930.000000</td>\n",
       "      <td>2930.000000</td>\n",
       "      <td>2771.000000</td>\n",
       "      <td>2929.000000</td>\n",
       "      <td>2929.000000</td>\n",
       "      <td>2930.000000</td>\n",
       "      <td>2930.000000</td>\n",
       "      <td>2930.000000</td>\n",
       "      <td>2930.000000</td>\n",
       "      <td>2930.000000</td>\n",
       "      <td>2930.000000</td>\n",
       "      <td>2930.000000</td>\n",
       "      <td>2930.000000</td>\n",
       "      <td>2930.000000</td>\n",
       "      <td>2930.000000</td>\n",
       "    </tr>\n",
       "    <tr>\n",
       "      <th>mean</th>\n",
       "      <td>1465.50000</td>\n",
       "      <td>7.144645e+08</td>\n",
       "      <td>57.387372</td>\n",
       "      <td>69.224590</td>\n",
       "      <td>10147.921843</td>\n",
       "      <td>6.094881</td>\n",
       "      <td>5.563140</td>\n",
       "      <td>1971.356314</td>\n",
       "      <td>1984.266553</td>\n",
       "      <td>101.896801</td>\n",
       "      <td>442.629566</td>\n",
       "      <td>49.722431</td>\n",
       "      <td>559.262547</td>\n",
       "      <td>1051.614544</td>\n",
       "      <td>1159.557679</td>\n",
       "      <td>335.455973</td>\n",
       "      <td>4.676792</td>\n",
       "      <td>1499.690444</td>\n",
       "      <td>0.431352</td>\n",
       "      <td>0.061134</td>\n",
       "      <td>1.566553</td>\n",
       "      <td>0.379522</td>\n",
       "      <td>2.854266</td>\n",
       "      <td>1.044369</td>\n",
       "      <td>6.443003</td>\n",
       "      <td>0.599317</td>\n",
       "      <td>1978.132443</td>\n",
       "      <td>1.766815</td>\n",
       "      <td>472.819734</td>\n",
       "      <td>93.751877</td>\n",
       "      <td>47.533447</td>\n",
       "      <td>23.011604</td>\n",
       "      <td>2.592491</td>\n",
       "      <td>16.002048</td>\n",
       "      <td>2.243345</td>\n",
       "      <td>50.635154</td>\n",
       "      <td>6.216041</td>\n",
       "      <td>2007.790444</td>\n",
       "      <td>180796.060068</td>\n",
       "    </tr>\n",
       "    <tr>\n",
       "      <th>std</th>\n",
       "      <td>845.96247</td>\n",
       "      <td>1.887308e+08</td>\n",
       "      <td>42.638025</td>\n",
       "      <td>23.365335</td>\n",
       "      <td>7880.017759</td>\n",
       "      <td>1.411026</td>\n",
       "      <td>1.111537</td>\n",
       "      <td>30.245361</td>\n",
       "      <td>20.860286</td>\n",
       "      <td>179.112611</td>\n",
       "      <td>455.590839</td>\n",
       "      <td>169.168476</td>\n",
       "      <td>439.494153</td>\n",
       "      <td>440.615067</td>\n",
       "      <td>391.890885</td>\n",
       "      <td>428.395715</td>\n",
       "      <td>46.310510</td>\n",
       "      <td>505.508887</td>\n",
       "      <td>0.524820</td>\n",
       "      <td>0.245254</td>\n",
       "      <td>0.552941</td>\n",
       "      <td>0.502629</td>\n",
       "      <td>0.827731</td>\n",
       "      <td>0.214076</td>\n",
       "      <td>1.572964</td>\n",
       "      <td>0.647921</td>\n",
       "      <td>25.528411</td>\n",
       "      <td>0.760566</td>\n",
       "      <td>215.046549</td>\n",
       "      <td>126.361562</td>\n",
       "      <td>67.483400</td>\n",
       "      <td>64.139059</td>\n",
       "      <td>25.141331</td>\n",
       "      <td>56.087370</td>\n",
       "      <td>35.597181</td>\n",
       "      <td>566.344288</td>\n",
       "      <td>2.714492</td>\n",
       "      <td>1.316613</td>\n",
       "      <td>79886.692357</td>\n",
       "    </tr>\n",
       "    <tr>\n",
       "      <th>min</th>\n",
       "      <td>1.00000</td>\n",
       "      <td>5.263011e+08</td>\n",
       "      <td>20.000000</td>\n",
       "      <td>21.000000</td>\n",
       "      <td>1300.000000</td>\n",
       "      <td>1.000000</td>\n",
       "      <td>1.000000</td>\n",
       "      <td>1872.000000</td>\n",
       "      <td>1950.000000</td>\n",
       "      <td>0.000000</td>\n",
       "      <td>0.000000</td>\n",
       "      <td>0.000000</td>\n",
       "      <td>0.000000</td>\n",
       "      <td>0.000000</td>\n",
       "      <td>334.000000</td>\n",
       "      <td>0.000000</td>\n",
       "      <td>0.000000</td>\n",
       "      <td>334.000000</td>\n",
       "      <td>0.000000</td>\n",
       "      <td>0.000000</td>\n",
       "      <td>0.000000</td>\n",
       "      <td>0.000000</td>\n",
       "      <td>0.000000</td>\n",
       "      <td>0.000000</td>\n",
       "      <td>2.000000</td>\n",
       "      <td>0.000000</td>\n",
       "      <td>1895.000000</td>\n",
       "      <td>0.000000</td>\n",
       "      <td>0.000000</td>\n",
       "      <td>0.000000</td>\n",
       "      <td>0.000000</td>\n",
       "      <td>0.000000</td>\n",
       "      <td>0.000000</td>\n",
       "      <td>0.000000</td>\n",
       "      <td>0.000000</td>\n",
       "      <td>0.000000</td>\n",
       "      <td>1.000000</td>\n",
       "      <td>2006.000000</td>\n",
       "      <td>12789.000000</td>\n",
       "    </tr>\n",
       "    <tr>\n",
       "      <th>25%</th>\n",
       "      <td>733.25000</td>\n",
       "      <td>5.284770e+08</td>\n",
       "      <td>20.000000</td>\n",
       "      <td>58.000000</td>\n",
       "      <td>7440.250000</td>\n",
       "      <td>5.000000</td>\n",
       "      <td>5.000000</td>\n",
       "      <td>1954.000000</td>\n",
       "      <td>1965.000000</td>\n",
       "      <td>0.000000</td>\n",
       "      <td>0.000000</td>\n",
       "      <td>0.000000</td>\n",
       "      <td>219.000000</td>\n",
       "      <td>793.000000</td>\n",
       "      <td>876.250000</td>\n",
       "      <td>0.000000</td>\n",
       "      <td>0.000000</td>\n",
       "      <td>1126.000000</td>\n",
       "      <td>0.000000</td>\n",
       "      <td>0.000000</td>\n",
       "      <td>1.000000</td>\n",
       "      <td>0.000000</td>\n",
       "      <td>2.000000</td>\n",
       "      <td>1.000000</td>\n",
       "      <td>5.000000</td>\n",
       "      <td>0.000000</td>\n",
       "      <td>1960.000000</td>\n",
       "      <td>1.000000</td>\n",
       "      <td>320.000000</td>\n",
       "      <td>0.000000</td>\n",
       "      <td>0.000000</td>\n",
       "      <td>0.000000</td>\n",
       "      <td>0.000000</td>\n",
       "      <td>0.000000</td>\n",
       "      <td>0.000000</td>\n",
       "      <td>0.000000</td>\n",
       "      <td>4.000000</td>\n",
       "      <td>2007.000000</td>\n",
       "      <td>129500.000000</td>\n",
       "    </tr>\n",
       "    <tr>\n",
       "      <th>50%</th>\n",
       "      <td>1465.50000</td>\n",
       "      <td>5.354536e+08</td>\n",
       "      <td>50.000000</td>\n",
       "      <td>68.000000</td>\n",
       "      <td>9436.500000</td>\n",
       "      <td>6.000000</td>\n",
       "      <td>5.000000</td>\n",
       "      <td>1973.000000</td>\n",
       "      <td>1993.000000</td>\n",
       "      <td>0.000000</td>\n",
       "      <td>370.000000</td>\n",
       "      <td>0.000000</td>\n",
       "      <td>466.000000</td>\n",
       "      <td>990.000000</td>\n",
       "      <td>1084.000000</td>\n",
       "      <td>0.000000</td>\n",
       "      <td>0.000000</td>\n",
       "      <td>1442.000000</td>\n",
       "      <td>0.000000</td>\n",
       "      <td>0.000000</td>\n",
       "      <td>2.000000</td>\n",
       "      <td>0.000000</td>\n",
       "      <td>3.000000</td>\n",
       "      <td>1.000000</td>\n",
       "      <td>6.000000</td>\n",
       "      <td>1.000000</td>\n",
       "      <td>1979.000000</td>\n",
       "      <td>2.000000</td>\n",
       "      <td>480.000000</td>\n",
       "      <td>0.000000</td>\n",
       "      <td>27.000000</td>\n",
       "      <td>0.000000</td>\n",
       "      <td>0.000000</td>\n",
       "      <td>0.000000</td>\n",
       "      <td>0.000000</td>\n",
       "      <td>0.000000</td>\n",
       "      <td>6.000000</td>\n",
       "      <td>2008.000000</td>\n",
       "      <td>160000.000000</td>\n",
       "    </tr>\n",
       "    <tr>\n",
       "      <th>75%</th>\n",
       "      <td>2197.75000</td>\n",
       "      <td>9.071811e+08</td>\n",
       "      <td>70.000000</td>\n",
       "      <td>80.000000</td>\n",
       "      <td>11555.250000</td>\n",
       "      <td>7.000000</td>\n",
       "      <td>6.000000</td>\n",
       "      <td>2001.000000</td>\n",
       "      <td>2004.000000</td>\n",
       "      <td>164.000000</td>\n",
       "      <td>734.000000</td>\n",
       "      <td>0.000000</td>\n",
       "      <td>802.000000</td>\n",
       "      <td>1302.000000</td>\n",
       "      <td>1384.000000</td>\n",
       "      <td>703.750000</td>\n",
       "      <td>0.000000</td>\n",
       "      <td>1742.750000</td>\n",
       "      <td>1.000000</td>\n",
       "      <td>0.000000</td>\n",
       "      <td>2.000000</td>\n",
       "      <td>1.000000</td>\n",
       "      <td>3.000000</td>\n",
       "      <td>1.000000</td>\n",
       "      <td>7.000000</td>\n",
       "      <td>1.000000</td>\n",
       "      <td>2002.000000</td>\n",
       "      <td>2.000000</td>\n",
       "      <td>576.000000</td>\n",
       "      <td>168.000000</td>\n",
       "      <td>70.000000</td>\n",
       "      <td>0.000000</td>\n",
       "      <td>0.000000</td>\n",
       "      <td>0.000000</td>\n",
       "      <td>0.000000</td>\n",
       "      <td>0.000000</td>\n",
       "      <td>8.000000</td>\n",
       "      <td>2009.000000</td>\n",
       "      <td>213500.000000</td>\n",
       "    </tr>\n",
       "    <tr>\n",
       "      <th>max</th>\n",
       "      <td>2930.00000</td>\n",
       "      <td>1.007100e+09</td>\n",
       "      <td>190.000000</td>\n",
       "      <td>313.000000</td>\n",
       "      <td>215245.000000</td>\n",
       "      <td>10.000000</td>\n",
       "      <td>9.000000</td>\n",
       "      <td>2010.000000</td>\n",
       "      <td>2010.000000</td>\n",
       "      <td>1600.000000</td>\n",
       "      <td>5644.000000</td>\n",
       "      <td>1526.000000</td>\n",
       "      <td>2336.000000</td>\n",
       "      <td>6110.000000</td>\n",
       "      <td>5095.000000</td>\n",
       "      <td>2065.000000</td>\n",
       "      <td>1064.000000</td>\n",
       "      <td>5642.000000</td>\n",
       "      <td>3.000000</td>\n",
       "      <td>2.000000</td>\n",
       "      <td>4.000000</td>\n",
       "      <td>2.000000</td>\n",
       "      <td>8.000000</td>\n",
       "      <td>3.000000</td>\n",
       "      <td>15.000000</td>\n",
       "      <td>4.000000</td>\n",
       "      <td>2207.000000</td>\n",
       "      <td>5.000000</td>\n",
       "      <td>1488.000000</td>\n",
       "      <td>1424.000000</td>\n",
       "      <td>742.000000</td>\n",
       "      <td>1012.000000</td>\n",
       "      <td>508.000000</td>\n",
       "      <td>576.000000</td>\n",
       "      <td>800.000000</td>\n",
       "      <td>17000.000000</td>\n",
       "      <td>12.000000</td>\n",
       "      <td>2010.000000</td>\n",
       "      <td>755000.000000</td>\n",
       "    </tr>\n",
       "  </tbody>\n",
       "</table>\n",
       "</div>"
      ],
      "text/plain": [
       "            Order           PID  MS SubClass  Lot Frontage       Lot Area  \\\n",
       "count  2930.00000  2.930000e+03  2930.000000   2440.000000    2930.000000   \n",
       "mean   1465.50000  7.144645e+08    57.387372     69.224590   10147.921843   \n",
       "std     845.96247  1.887308e+08    42.638025     23.365335    7880.017759   \n",
       "min       1.00000  5.263011e+08    20.000000     21.000000    1300.000000   \n",
       "25%     733.25000  5.284770e+08    20.000000     58.000000    7440.250000   \n",
       "50%    1465.50000  5.354536e+08    50.000000     68.000000    9436.500000   \n",
       "75%    2197.75000  9.071811e+08    70.000000     80.000000   11555.250000   \n",
       "max    2930.00000  1.007100e+09   190.000000    313.000000  215245.000000   \n",
       "\n",
       "       Overall Qual  Overall Cond   Year Built  Year Remod/Add  Mas Vnr Area  \\\n",
       "count   2930.000000   2930.000000  2930.000000     2930.000000   2907.000000   \n",
       "mean       6.094881      5.563140  1971.356314     1984.266553    101.896801   \n",
       "std        1.411026      1.111537    30.245361       20.860286    179.112611   \n",
       "min        1.000000      1.000000  1872.000000     1950.000000      0.000000   \n",
       "25%        5.000000      5.000000  1954.000000     1965.000000      0.000000   \n",
       "50%        6.000000      5.000000  1973.000000     1993.000000      0.000000   \n",
       "75%        7.000000      6.000000  2001.000000     2004.000000    164.000000   \n",
       "max       10.000000      9.000000  2010.000000     2010.000000   1600.000000   \n",
       "\n",
       "       BsmtFin SF 1  BsmtFin SF 2  Bsmt Unf SF  Total Bsmt SF   1st Flr SF  \\\n",
       "count   2929.000000   2929.000000  2929.000000    2929.000000  2930.000000   \n",
       "mean     442.629566     49.722431   559.262547    1051.614544  1159.557679   \n",
       "std      455.590839    169.168476   439.494153     440.615067   391.890885   \n",
       "min        0.000000      0.000000     0.000000       0.000000   334.000000   \n",
       "25%        0.000000      0.000000   219.000000     793.000000   876.250000   \n",
       "50%      370.000000      0.000000   466.000000     990.000000  1084.000000   \n",
       "75%      734.000000      0.000000   802.000000    1302.000000  1384.000000   \n",
       "max     5644.000000   1526.000000  2336.000000    6110.000000  5095.000000   \n",
       "\n",
       "        2nd Flr SF  Low Qual Fin SF  Gr Liv Area  Bsmt Full Bath  \\\n",
       "count  2930.000000      2930.000000  2930.000000     2928.000000   \n",
       "mean    335.455973         4.676792  1499.690444        0.431352   \n",
       "std     428.395715        46.310510   505.508887        0.524820   \n",
       "min       0.000000         0.000000   334.000000        0.000000   \n",
       "25%       0.000000         0.000000  1126.000000        0.000000   \n",
       "50%       0.000000         0.000000  1442.000000        0.000000   \n",
       "75%     703.750000         0.000000  1742.750000        1.000000   \n",
       "max    2065.000000      1064.000000  5642.000000        3.000000   \n",
       "\n",
       "       Bsmt Half Bath    Full Bath    Half Bath  Bedroom AbvGr  Kitchen AbvGr  \\\n",
       "count     2928.000000  2930.000000  2930.000000    2930.000000    2930.000000   \n",
       "mean         0.061134     1.566553     0.379522       2.854266       1.044369   \n",
       "std          0.245254     0.552941     0.502629       0.827731       0.214076   \n",
       "min          0.000000     0.000000     0.000000       0.000000       0.000000   \n",
       "25%          0.000000     1.000000     0.000000       2.000000       1.000000   \n",
       "50%          0.000000     2.000000     0.000000       3.000000       1.000000   \n",
       "75%          0.000000     2.000000     1.000000       3.000000       1.000000   \n",
       "max          2.000000     4.000000     2.000000       8.000000       3.000000   \n",
       "\n",
       "       TotRms AbvGrd   Fireplaces  Garage Yr Blt  Garage Cars  Garage Area  \\\n",
       "count    2930.000000  2930.000000    2771.000000  2929.000000  2929.000000   \n",
       "mean        6.443003     0.599317    1978.132443     1.766815   472.819734   \n",
       "std         1.572964     0.647921      25.528411     0.760566   215.046549   \n",
       "min         2.000000     0.000000    1895.000000     0.000000     0.000000   \n",
       "25%         5.000000     0.000000    1960.000000     1.000000   320.000000   \n",
       "50%         6.000000     1.000000    1979.000000     2.000000   480.000000   \n",
       "75%         7.000000     1.000000    2002.000000     2.000000   576.000000   \n",
       "max        15.000000     4.000000    2207.000000     5.000000  1488.000000   \n",
       "\n",
       "       Wood Deck SF  Open Porch SF  Enclosed Porch   3Ssn Porch  Screen Porch  \\\n",
       "count   2930.000000    2930.000000     2930.000000  2930.000000   2930.000000   \n",
       "mean      93.751877      47.533447       23.011604     2.592491     16.002048   \n",
       "std      126.361562      67.483400       64.139059    25.141331     56.087370   \n",
       "min        0.000000       0.000000        0.000000     0.000000      0.000000   \n",
       "25%        0.000000       0.000000        0.000000     0.000000      0.000000   \n",
       "50%        0.000000      27.000000        0.000000     0.000000      0.000000   \n",
       "75%      168.000000      70.000000        0.000000     0.000000      0.000000   \n",
       "max     1424.000000     742.000000     1012.000000   508.000000    576.000000   \n",
       "\n",
       "         Pool Area      Misc Val      Mo Sold      Yr Sold      SalePrice  \n",
       "count  2930.000000   2930.000000  2930.000000  2930.000000    2930.000000  \n",
       "mean      2.243345     50.635154     6.216041  2007.790444  180796.060068  \n",
       "std      35.597181    566.344288     2.714492     1.316613   79886.692357  \n",
       "min       0.000000      0.000000     1.000000  2006.000000   12789.000000  \n",
       "25%       0.000000      0.000000     4.000000  2007.000000  129500.000000  \n",
       "50%       0.000000      0.000000     6.000000  2008.000000  160000.000000  \n",
       "75%       0.000000      0.000000     8.000000  2009.000000  213500.000000  \n",
       "max     800.000000  17000.000000    12.000000  2010.000000  755000.000000  "
      ]
     },
     "execution_count": 4,
     "metadata": {},
     "output_type": "execute_result"
    }
   ],
   "source": [
    "ames_housing.describe()"
   ]
  },
  {
   "cell_type": "code",
   "execution_count": 5,
   "metadata": {
    "ExecuteTime": {
     "end_time": "2020-10-20T17:15:23.907373Z",
     "start_time": "2020-10-20T17:15:23.894626Z"
    },
    "hidden": true,
    "scrolled": true
   },
   "outputs": [
    {
     "name": "stdout",
     "output_type": "stream",
     "text": [
      "<class 'pandas.core.frame.DataFrame'>\n",
      "RangeIndex: 2930 entries, 0 to 2929\n",
      "Data columns (total 39 columns):\n",
      " #   Column           Non-Null Count  Dtype  \n",
      "---  ------           --------------  -----  \n",
      " 0   Order            2930 non-null   int64  \n",
      " 1   PID              2930 non-null   int64  \n",
      " 2   MS SubClass      2930 non-null   int64  \n",
      " 3   Lot Frontage     2440 non-null   float64\n",
      " 4   Lot Area         2930 non-null   int64  \n",
      " 5   Overall Qual     2930 non-null   int64  \n",
      " 6   Overall Cond     2930 non-null   int64  \n",
      " 7   Year Built       2930 non-null   int64  \n",
      " 8   Year Remod/Add   2930 non-null   int64  \n",
      " 9   Mas Vnr Area     2907 non-null   float64\n",
      " 10  BsmtFin SF 1     2929 non-null   float64\n",
      " 11  BsmtFin SF 2     2929 non-null   float64\n",
      " 12  Bsmt Unf SF      2929 non-null   float64\n",
      " 13  Total Bsmt SF    2929 non-null   float64\n",
      " 14  1st Flr SF       2930 non-null   int64  \n",
      " 15  2nd Flr SF       2930 non-null   int64  \n",
      " 16  Low Qual Fin SF  2930 non-null   int64  \n",
      " 17  Gr Liv Area      2930 non-null   int64  \n",
      " 18  Bsmt Full Bath   2928 non-null   float64\n",
      " 19  Bsmt Half Bath   2928 non-null   float64\n",
      " 20  Full Bath        2930 non-null   int64  \n",
      " 21  Half Bath        2930 non-null   int64  \n",
      " 22  Bedroom AbvGr    2930 non-null   int64  \n",
      " 23  Kitchen AbvGr    2930 non-null   int64  \n",
      " 24  TotRms AbvGrd    2930 non-null   int64  \n",
      " 25  Fireplaces       2930 non-null   int64  \n",
      " 26  Garage Yr Blt    2771 non-null   float64\n",
      " 27  Garage Cars      2929 non-null   float64\n",
      " 28  Garage Area      2929 non-null   float64\n",
      " 29  Wood Deck SF     2930 non-null   int64  \n",
      " 30  Open Porch SF    2930 non-null   int64  \n",
      " 31  Enclosed Porch   2930 non-null   int64  \n",
      " 32  3Ssn Porch       2930 non-null   int64  \n",
      " 33  Screen Porch     2930 non-null   int64  \n",
      " 34  Pool Area        2930 non-null   int64  \n",
      " 35  Misc Val         2930 non-null   int64  \n",
      " 36  Mo Sold          2930 non-null   int64  \n",
      " 37  Yr Sold          2930 non-null   int64  \n",
      " 38  SalePrice        2930 non-null   int64  \n",
      "dtypes: float64(11), int64(28)\n",
      "memory usage: 892.9 KB\n"
     ]
    }
   ],
   "source": [
    "# Check out numerical columns \n",
    "numerical_cols = ames_housing.select_dtypes(np.number)\n",
    "numerical_cols.info()"
   ]
  },
  {
   "cell_type": "code",
   "execution_count": 6,
   "metadata": {
    "ExecuteTime": {
     "end_time": "2020-10-20T17:15:23.924021Z",
     "start_time": "2020-10-20T17:15:23.908525Z"
    },
    "hidden": true,
    "scrolled": true
   },
   "outputs": [
    {
     "name": "stdout",
     "output_type": "stream",
     "text": [
      "<class 'pandas.core.frame.DataFrame'>\n",
      "RangeIndex: 2930 entries, 0 to 2929\n",
      "Data columns (total 43 columns):\n",
      " #   Column          Non-Null Count  Dtype \n",
      "---  ------          --------------  ----- \n",
      " 0   MS Zoning       2930 non-null   object\n",
      " 1   Street          2930 non-null   object\n",
      " 2   Alley           198 non-null    object\n",
      " 3   Lot Shape       2930 non-null   object\n",
      " 4   Land Contour    2930 non-null   object\n",
      " 5   Utilities       2930 non-null   object\n",
      " 6   Lot Config      2930 non-null   object\n",
      " 7   Land Slope      2930 non-null   object\n",
      " 8   Neighborhood    2930 non-null   object\n",
      " 9   Condition 1     2930 non-null   object\n",
      " 10  Condition 2     2930 non-null   object\n",
      " 11  Bldg Type       2930 non-null   object\n",
      " 12  House Style     2930 non-null   object\n",
      " 13  Roof Style      2930 non-null   object\n",
      " 14  Roof Matl       2930 non-null   object\n",
      " 15  Exterior 1st    2930 non-null   object\n",
      " 16  Exterior 2nd    2930 non-null   object\n",
      " 17  Mas Vnr Type    2907 non-null   object\n",
      " 18  Exter Qual      2930 non-null   object\n",
      " 19  Exter Cond      2930 non-null   object\n",
      " 20  Foundation      2930 non-null   object\n",
      " 21  Bsmt Qual       2850 non-null   object\n",
      " 22  Bsmt Cond       2850 non-null   object\n",
      " 23  Bsmt Exposure   2847 non-null   object\n",
      " 24  BsmtFin Type 1  2850 non-null   object\n",
      " 25  BsmtFin Type 2  2849 non-null   object\n",
      " 26  Heating         2930 non-null   object\n",
      " 27  Heating QC      2930 non-null   object\n",
      " 28  Central Air     2930 non-null   object\n",
      " 29  Electrical      2929 non-null   object\n",
      " 30  Kitchen Qual    2930 non-null   object\n",
      " 31  Functional      2930 non-null   object\n",
      " 32  Fireplace Qu    1508 non-null   object\n",
      " 33  Garage Type     2773 non-null   object\n",
      " 34  Garage Finish   2771 non-null   object\n",
      " 35  Garage Qual     2771 non-null   object\n",
      " 36  Garage Cond     2771 non-null   object\n",
      " 37  Paved Drive     2930 non-null   object\n",
      " 38  Pool QC         13 non-null     object\n",
      " 39  Fence           572 non-null    object\n",
      " 40  Misc Feature    106 non-null    object\n",
      " 41  Sale Type       2930 non-null   object\n",
      " 42  Sale Condition  2930 non-null   object\n",
      "dtypes: object(43)\n",
      "memory usage: 984.4+ KB\n"
     ]
    }
   ],
   "source": [
    "# Check out non-numerical columns \n",
    "non_numerical_cols = ames_housing.select_dtypes(exclude = np.number)\n",
    "non_numerical_cols.info()"
   ]
  },
  {
   "cell_type": "code",
   "execution_count": 7,
   "metadata": {
    "ExecuteTime": {
     "end_time": "2020-10-20T17:15:23.986444Z",
     "start_time": "2020-10-20T17:15:23.925149Z"
    },
    "hidden": true,
    "scrolled": true
   },
   "outputs": [
    {
     "name": "stdout",
     "output_type": "stream",
     "text": [
      "RL         2273\n",
      "RM          462\n",
      "FV          139\n",
      "RH           27\n",
      "C (all)      25\n",
      "A (agr)       2\n",
      "I (all)       2\n",
      "Name: MS Zoning, dtype: int64 \n",
      " **********\n",
      "Pave    2918\n",
      "Grvl      12\n",
      "Name: Street, dtype: int64 \n",
      " **********\n",
      "Grvl    120\n",
      "Pave     78\n",
      "Name: Alley, dtype: int64 \n",
      " **********\n",
      "Reg    1859\n",
      "IR1     979\n",
      "IR2      76\n",
      "IR3      16\n",
      "Name: Lot Shape, dtype: int64 \n",
      " **********\n",
      "Lvl    2633\n",
      "HLS     120\n",
      "Bnk     117\n",
      "Low      60\n",
      "Name: Land Contour, dtype: int64 \n",
      " **********\n",
      "AllPub    2927\n",
      "NoSewr       2\n",
      "NoSeWa       1\n",
      "Name: Utilities, dtype: int64 \n",
      " **********\n",
      "Inside     2140\n",
      "Corner      511\n",
      "CulDSac     180\n",
      "FR2          85\n",
      "FR3          14\n",
      "Name: Lot Config, dtype: int64 \n",
      " **********\n",
      "Gtl    2789\n",
      "Mod     125\n",
      "Sev      16\n",
      "Name: Land Slope, dtype: int64 \n",
      " **********\n",
      "NAmes      443\n",
      "CollgCr    267\n",
      "OldTown    239\n",
      "Edwards    194\n",
      "Somerst    182\n",
      "NridgHt    166\n",
      "Gilbert    165\n",
      "Sawyer     151\n",
      "NWAmes     131\n",
      "SawyerW    125\n",
      "Mitchel    114\n",
      "BrkSide    108\n",
      "Crawfor    103\n",
      "IDOTRR      93\n",
      "Timber      72\n",
      "NoRidge     71\n",
      "StoneBr     51\n",
      "SWISU       48\n",
      "ClearCr     44\n",
      "MeadowV     37\n",
      "BrDale      30\n",
      "Blmngtn     28\n",
      "Veenker     24\n",
      "NPkVill     23\n",
      "Blueste     10\n",
      "Greens       8\n",
      "GrnHill      2\n",
      "Landmrk      1\n",
      "Name: Neighborhood, dtype: int64 \n",
      " **********\n",
      "Norm      2522\n",
      "Feedr      164\n",
      "Artery      92\n",
      "RRAn        50\n",
      "PosN        39\n",
      "RRAe        28\n",
      "PosA        20\n",
      "RRNn         9\n",
      "RRNe         6\n",
      "Name: Condition 1, dtype: int64 \n",
      " **********\n",
      "Norm      2900\n",
      "Feedr       13\n",
      "Artery       5\n",
      "PosN         4\n",
      "PosA         4\n",
      "RRNn         2\n",
      "RRAe         1\n",
      "RRAn         1\n",
      "Name: Condition 2, dtype: int64 \n",
      " **********\n",
      "1Fam      2425\n",
      "TwnhsE     233\n",
      "Duplex     109\n",
      "Twnhs      101\n",
      "2fmCon      62\n",
      "Name: Bldg Type, dtype: int64 \n",
      " **********\n",
      "1Story    1481\n",
      "2Story     873\n",
      "1.5Fin     314\n",
      "SLvl       128\n",
      "SFoyer      83\n",
      "2.5Unf      24\n",
      "1.5Unf      19\n",
      "2.5Fin       8\n",
      "Name: House Style, dtype: int64 \n",
      " **********\n",
      "Gable      2321\n",
      "Hip         551\n",
      "Gambrel      22\n",
      "Flat         20\n",
      "Mansard      11\n",
      "Shed          5\n",
      "Name: Roof Style, dtype: int64 \n",
      " **********\n",
      "CompShg    2887\n",
      "Tar&Grv      23\n",
      "WdShake       9\n",
      "WdShngl       7\n",
      "ClyTile       1\n",
      "Metal         1\n",
      "Roll          1\n",
      "Membran       1\n",
      "Name: Roof Matl, dtype: int64 \n",
      " **********\n",
      "VinylSd    1026\n",
      "MetalSd     450\n",
      "HdBoard     442\n",
      "Wd Sdng     420\n",
      "Plywood     221\n",
      "CemntBd     126\n",
      "BrkFace      88\n",
      "WdShing      56\n",
      "AsbShng      44\n",
      "Stucco       43\n",
      "BrkComm       6\n",
      "Stone         2\n",
      "CBlock        2\n",
      "AsphShn       2\n",
      "ImStucc       1\n",
      "PreCast       1\n",
      "Name: Exterior 1st, dtype: int64 \n",
      " **********\n",
      "VinylSd    1015\n",
      "MetalSd     447\n",
      "HdBoard     406\n",
      "Wd Sdng     397\n",
      "Plywood     274\n",
      "CmentBd     126\n",
      "Wd Shng      81\n",
      "BrkFace      47\n",
      "Stucco       47\n",
      "AsbShng      38\n",
      "Brk Cmn      22\n",
      "ImStucc      15\n",
      "Stone         6\n",
      "AsphShn       4\n",
      "CBlock        3\n",
      "Other         1\n",
      "PreCast       1\n",
      "Name: Exterior 2nd, dtype: int64 \n",
      " **********\n",
      "None       1752\n",
      "BrkFace     880\n",
      "Stone       249\n",
      "BrkCmn       25\n",
      "CBlock        1\n",
      "Name: Mas Vnr Type, dtype: int64 \n",
      " **********\n",
      "TA    1799\n",
      "Gd     989\n",
      "Ex     107\n",
      "Fa      35\n",
      "Name: Exter Qual, dtype: int64 \n",
      " **********\n",
      "TA    2549\n",
      "Gd     299\n",
      "Fa      67\n",
      "Ex      12\n",
      "Po       3\n",
      "Name: Exter Cond, dtype: int64 \n",
      " **********\n",
      "PConc     1310\n",
      "CBlock    1244\n",
      "BrkTil     311\n",
      "Slab        49\n",
      "Stone       11\n",
      "Wood         5\n",
      "Name: Foundation, dtype: int64 \n",
      " **********\n",
      "TA    1283\n",
      "Gd    1219\n",
      "Ex     258\n",
      "Fa      88\n",
      "Po       2\n",
      "Name: Bsmt Qual, dtype: int64 \n",
      " **********\n",
      "TA    2616\n",
      "Gd     122\n",
      "Fa     104\n",
      "Po       5\n",
      "Ex       3\n",
      "Name: Bsmt Cond, dtype: int64 \n",
      " **********\n",
      "No    1906\n",
      "Av     418\n",
      "Gd     284\n",
      "Mn     239\n",
      "Name: Bsmt Exposure, dtype: int64 \n",
      " **********\n",
      "GLQ    859\n",
      "Unf    851\n",
      "ALQ    429\n",
      "Rec    288\n",
      "BLQ    269\n",
      "LwQ    154\n",
      "Name: BsmtFin Type 1, dtype: int64 \n",
      " **********\n",
      "Unf    2499\n",
      "Rec     106\n",
      "LwQ      89\n",
      "BLQ      68\n",
      "ALQ      53\n",
      "GLQ      34\n",
      "Name: BsmtFin Type 2, dtype: int64 \n",
      " **********\n",
      "GasA     2885\n",
      "GasW       27\n",
      "Grav        9\n",
      "Wall        6\n",
      "OthW        2\n",
      "Floor       1\n",
      "Name: Heating, dtype: int64 \n",
      " **********\n",
      "Ex    1495\n",
      "TA     864\n",
      "Gd     476\n",
      "Fa      92\n",
      "Po       3\n",
      "Name: Heating QC, dtype: int64 \n",
      " **********\n",
      "Y    2734\n",
      "N     196\n",
      "Name: Central Air, dtype: int64 \n",
      " **********\n",
      "SBrkr    2682\n",
      "FuseA     188\n",
      "FuseF      50\n",
      "FuseP       8\n",
      "Mix         1\n",
      "Name: Electrical, dtype: int64 \n",
      " **********\n",
      "TA    1494\n",
      "Gd    1160\n",
      "Ex     205\n",
      "Fa      70\n",
      "Po       1\n",
      "Name: Kitchen Qual, dtype: int64 \n",
      " **********\n",
      "Typ     2728\n",
      "Min2      70\n",
      "Min1      65\n",
      "Mod       35\n",
      "Maj1      19\n",
      "Maj2       9\n",
      "Sev        2\n",
      "Sal        2\n",
      "Name: Functional, dtype: int64 \n",
      " **********\n",
      "Gd    744\n",
      "TA    600\n",
      "Fa     75\n",
      "Po     46\n",
      "Ex     43\n",
      "Name: Fireplace Qu, dtype: int64 \n",
      " **********\n",
      "Attchd     1731\n",
      "Detchd      782\n",
      "BuiltIn     186\n",
      "Basment      36\n",
      "2Types       23\n",
      "CarPort      15\n",
      "Name: Garage Type, dtype: int64 \n",
      " **********\n",
      "Unf    1231\n",
      "RFn     812\n",
      "Fin     728\n",
      "Name: Garage Finish, dtype: int64 \n",
      " **********\n",
      "TA    2615\n",
      "Fa     124\n",
      "Gd      24\n",
      "Po       5\n",
      "Ex       3\n",
      "Name: Garage Qual, dtype: int64 \n",
      " **********\n",
      "TA    2665\n",
      "Fa      74\n",
      "Gd      15\n",
      "Po      14\n",
      "Ex       3\n",
      "Name: Garage Cond, dtype: int64 \n",
      " **********\n",
      "Y    2652\n",
      "N     216\n",
      "P      62\n",
      "Name: Paved Drive, dtype: int64 \n",
      " **********\n",
      "Ex    4\n",
      "Gd    4\n",
      "TA    3\n",
      "Fa    2\n",
      "Name: Pool QC, dtype: int64 \n",
      " **********\n",
      "MnPrv    330\n",
      "GdPrv    118\n",
      "GdWo     112\n",
      "MnWw      12\n",
      "Name: Fence, dtype: int64 \n",
      " **********\n",
      "Shed    95\n",
      "Gar2     5\n",
      "Othr     4\n",
      "Elev     1\n",
      "TenC     1\n",
      "Name: Misc Feature, dtype: int64 \n",
      " **********\n",
      "WD       2536\n",
      "New       239\n",
      "COD        87\n",
      "ConLD      26\n",
      "CWD        12\n",
      "ConLI       9\n",
      "ConLw       8\n",
      "Oth         7\n",
      "Con         5\n",
      "VWD         1\n",
      "Name: Sale Type, dtype: int64 \n",
      " **********\n",
      "Normal     2413\n",
      "Partial     245\n",
      "Abnorml     190\n",
      "Family       46\n",
      "Alloca       24\n",
      "AdjLand      12\n",
      "Name: Sale Condition, dtype: int64 \n",
      " **********\n"
     ]
    }
   ],
   "source": [
    "# Check values in each non_numerical_cols\n",
    "for col in non_numerical_cols.columns:\n",
    "    print(non_numerical_cols[col].value_counts(), \n",
    "          '\\n',\n",
    "          '*'*10)"
   ]
  },
  {
   "cell_type": "code",
   "execution_count": 8,
   "metadata": {
    "ExecuteTime": {
     "end_time": "2020-10-20T17:15:24.147018Z",
     "start_time": "2020-10-20T17:15:23.988619Z"
    },
    "hidden": true,
    "scrolled": true
   },
   "outputs": [
    {
     "data": {
      "text/plain": [
       "(12800.0, 755000.0)"
      ]
     },
     "execution_count": 8,
     "metadata": {},
     "output_type": "execute_result"
    },
    {
     "data": {
      "image/png": "[encoded data removed]",
      "text/plain": [
       "<Figure size 432x288 with 1 Axes>"
      ]
     },
     "metadata": {
      "needs_background": "light"
     },
     "output_type": "display_data"
    }
   ],
   "source": [
    "# Visualize our target column SalePrice\n",
    "sns.distplot(ames_housing.SalePrice)\n",
    "plt.xlim(12800, 755000) # xlim based on minimum & maximum SalePrice"
   ]
  },
  {
   "cell_type": "code",
   "execution_count": 9,
   "metadata": {
    "ExecuteTime": {
     "end_time": "2020-10-20T17:15:24.275011Z",
     "start_time": "2020-10-20T17:15:24.148390Z"
    },
    "hidden": true
   },
   "outputs": [
    {
     "data": {
      "text/plain": [
       "<matplotlib.collections.PathCollection at 0x24c646fb9a0>"
      ]
     },
     "execution_count": 9,
     "metadata": {},
     "output_type": "execute_result"
    },
    {
     "data": {
      "image/png": "[encoded data removed]",
      "text/plain": [
       "<Figure size 1080x360 with 1 Axes>"
      ]
     },
     "metadata": {
      "needs_background": "light"
     },
     "output_type": "display_data"
    }
   ],
   "source": [
    "# Let's pick a random numerical column and plot a scatter plot with SalePrice\n",
    "fig = plt.figure(figsize = (15,5))\n",
    "plt.scatter(ames_housing['Gr Liv Area'], ames_housing.SalePrice)"
   ]
  },
  {
   "cell_type": "markdown",
   "metadata": {
    "hidden": true
   },
   "source": [
    "**After a quick look at the dataset, we found that:**\n",
    "* In numerical columns, there are columns of which values are obviously not directly related to the sale price. We should drop these columns: `Order`, `PID`.\n",
    "* There are missing values in a few numerical columns. For the 8 columns that only have one or two missing values, we can just drop the rows. For the rest numerical columns with missing values, after checking, we can inpute the columns with their mean.   \n",
    "* There are a few non-numerical columns contain a lot of null values like `Pool QC`. Considering the large amount of missing data, we should just drop those columns. We will arbitrarily set the cut-off of at 25%.\n",
    "* From the frequency table of non-numerical columns, we can tell all of them are categorical, and that's what we will transform them into. "
   ]
  },
  {
   "cell_type": "markdown",
   "metadata": {
    "heading_collapsed": true
   },
   "source": [
    "## Data Cleaning"
   ]
  },
  {
   "cell_type": "markdown",
   "metadata": {
    "hidden": true
   },
   "source": [
    "Let's first drop the columns that are not relevant to our target column"
   ]
  },
  {
   "cell_type": "code",
   "execution_count": 10,
   "metadata": {
    "ExecuteTime": {
     "end_time": "2020-10-20T17:15:24.280156Z",
     "start_time": "2020-10-20T17:15:24.276080Z"
    },
    "hidden": true
   },
   "outputs": [],
   "source": [
    "features = ames_housing.drop(['Order', 'PID'], axis = 1)"
   ]
  },
  {
   "cell_type": "code",
   "execution_count": 11,
   "metadata": {
    "ExecuteTime": {
     "end_time": "2020-10-20T17:15:24.286979Z",
     "start_time": "2020-10-20T17:15:24.281226Z"
    },
    "hidden": true
   },
   "outputs": [],
   "source": [
    "# Function to clean & transform features \n",
    "def transform_features(df):\n",
    "    data = df.copy()\n",
    "    \n",
    "    # Drop_cols & drop columns with more than 25% null values\n",
    "    null_check = data.isnull().sum()\n",
    "    drop_cols = null_check[null_check>len(data)*0.25].index\n",
    "    data.drop(drop_cols, axis = 1, inplace = True)\n",
    "    \n",
    "    # Fill in missing values in non_numerical values with 'missing'\n",
    "    non_numerical_cols = data.copy().select_dtypes(exclude = np.number)\n",
    "    non_numerical_cols.fillna('missing', inplace = True)\n",
    "    \n",
    "    # Convert all non-numerical columns to categorical \n",
    "    for col in non_numerical_cols.columns:\n",
    "        non_numerical_cols[col] = non_numerical_cols[col].astype('category')\n",
    "        \n",
    "    # Inpute numerical columns that has more than 2 missing values\n",
    "    numerical_cols = data.copy().select_dtypes(np.number)\n",
    "    numerical_null_check = numerical_cols.isnull().sum()\n",
    "    inpute_cols = numerical_null_check[numerical_null_check>2].index\n",
    "    numerical_cols[inpute_cols] = numerical_cols[inpute_cols].fillna(numerical_cols[inpute_cols].mean())\n",
    "    \n",
    "    # Concatenate numerical and non-numerical columns \n",
    "    data = pd.concat([numerical_cols, non_numerical_cols], axis = 1)\n",
    "    print(len(data)) \n",
    "    \n",
    "    # Remove remaining rows with missing values \n",
    "    non_null_data = data.dropna()\n",
    "    \n",
    "    return non_null_data "
   ]
  },
  {
   "cell_type": "code",
   "execution_count": 12,
   "metadata": {
    "ExecuteTime": {
     "end_time": "2020-10-20T17:15:24.365180Z",
     "start_time": "2020-10-20T17:15:24.287991Z"
    },
    "hidden": true,
    "scrolled": true
   },
   "outputs": [
    {
     "name": "stdout",
     "output_type": "stream",
     "text": [
      "2930\n",
      "<class 'pandas.core.frame.DataFrame'>\n",
      "RangeIndex: 2927 entries, 0 to 2926\n",
      "Data columns (total 76 columns):\n",
      " #   Column           Non-Null Count  Dtype   \n",
      "---  ------           --------------  -----   \n",
      " 0   index            2927 non-null   int64   \n",
      " 1   MS SubClass      2927 non-null   int64   \n",
      " 2   Lot Frontage     2927 non-null   float64 \n",
      " 3   Lot Area         2927 non-null   int64   \n",
      " 4   Overall Qual     2927 non-null   int64   \n",
      " 5   Overall Cond     2927 non-null   int64   \n",
      " 6   Year Built       2927 non-null   int64   \n",
      " 7   Year Remod/Add   2927 non-null   int64   \n",
      " 8   Mas Vnr Area     2927 non-null   float64 \n",
      " 9   BsmtFin SF 1     2927 non-null   float64 \n",
      " 10  BsmtFin SF 2     2927 non-null   float64 \n",
      " 11  Bsmt Unf SF      2927 non-null   float64 \n",
      " 12  Total Bsmt SF    2927 non-null   float64 \n",
      " 13  1st Flr SF       2927 non-null   int64   \n",
      " 14  2nd Flr SF       2927 non-null   int64   \n",
      " 15  Low Qual Fin SF  2927 non-null   int64   \n",
      " 16  Gr Liv Area      2927 non-null   int64   \n",
      " 17  Bsmt Full Bath   2927 non-null   float64 \n",
      " 18  Bsmt Half Bath   2927 non-null   float64 \n",
      " 19  Full Bath        2927 non-null   int64   \n",
      " 20  Half Bath        2927 non-null   int64   \n",
      " 21  Bedroom AbvGr    2927 non-null   int64   \n",
      " 22  Kitchen AbvGr    2927 non-null   int64   \n",
      " 23  TotRms AbvGrd    2927 non-null   int64   \n",
      " 24  Fireplaces       2927 non-null   int64   \n",
      " 25  Garage Yr Blt    2927 non-null   float64 \n",
      " 26  Garage Cars      2927 non-null   float64 \n",
      " 27  Garage Area      2927 non-null   float64 \n",
      " 28  Wood Deck SF     2927 non-null   int64   \n",
      " 29  Open Porch SF    2927 non-null   int64   \n",
      " 30  Enclosed Porch   2927 non-null   int64   \n",
      " 31  3Ssn Porch       2927 non-null   int64   \n",
      " 32  Screen Porch     2927 non-null   int64   \n",
      " 33  Pool Area        2927 non-null   int64   \n",
      " 34  Misc Val         2927 non-null   int64   \n",
      " 35  Mo Sold          2927 non-null   int64   \n",
      " 36  Yr Sold          2927 non-null   int64   \n",
      " 37  SalePrice        2927 non-null   int64   \n",
      " 38  MS Zoning        2927 non-null   category\n",
      " 39  Street           2927 non-null   category\n",
      " 40  Lot Shape        2927 non-null   category\n",
      " 41  Land Contour     2927 non-null   category\n",
      " 42  Utilities        2927 non-null   category\n",
      " 43  Lot Config       2927 non-null   category\n",
      " 44  Land Slope       2927 non-null   category\n",
      " 45  Neighborhood     2927 non-null   category\n",
      " 46  Condition 1      2927 non-null   category\n",
      " 47  Condition 2      2927 non-null   category\n",
      " 48  Bldg Type        2927 non-null   category\n",
      " 49  House Style      2927 non-null   category\n",
      " 50  Roof Style       2927 non-null   category\n",
      " 51  Roof Matl        2927 non-null   category\n",
      " 52  Exterior 1st     2927 non-null   category\n",
      " 53  Exterior 2nd     2927 non-null   category\n",
      " 54  Mas Vnr Type     2927 non-null   category\n",
      " 55  Exter Qual       2927 non-null   category\n",
      " 56  Exter Cond       2927 non-null   category\n",
      " 57  Foundation       2927 non-null   category\n",
      " 58  Bsmt Qual        2927 non-null   category\n",
      " 59  Bsmt Cond        2927 non-null   category\n",
      " 60  Bsmt Exposure    2927 non-null   category\n",
      " 61  BsmtFin Type 1   2927 non-null   category\n",
      " 62  BsmtFin Type 2   2927 non-null   category\n",
      " 63  Heating          2927 non-null   category\n",
      " 64  Heating QC       2927 non-null   category\n",
      " 65  Central Air      2927 non-null   category\n",
      " 66  Electrical       2927 non-null   category\n",
      " 67  Kitchen Qual     2927 non-null   category\n",
      " 68  Functional       2927 non-null   category\n",
      " 69  Garage Type      2927 non-null   category\n",
      " 70  Garage Finish    2927 non-null   category\n",
      " 71  Garage Qual      2927 non-null   category\n",
      " 72  Garage Cond      2927 non-null   category\n",
      " 73  Paved Drive      2927 non-null   category\n",
      " 74  Sale Type        2927 non-null   category\n",
      " 75  Sale Condition   2927 non-null   category\n",
      "dtypes: category(38), float64(11), int64(27)\n",
      "memory usage: 988.9 KB\n"
     ]
    }
   ],
   "source": [
    "non_null_data = transform_features(features).reset_index()\n",
    "non_null_data.info()"
   ]
  },
  {
   "cell_type": "code",
   "execution_count": 13,
   "metadata": {
    "ExecuteTime": {
     "end_time": "2020-10-20T17:15:24.370469Z",
     "start_time": "2020-10-20T17:15:24.366130Z"
    },
    "hidden": true
   },
   "outputs": [],
   "source": [
    "non_null_data.drop('index', axis = 1, inplace = True)"
   ]
  },
  {
   "cell_type": "code",
   "execution_count": 14,
   "metadata": {
    "ExecuteTime": {
     "end_time": "2020-10-20T17:15:24.374154Z",
     "start_time": "2020-10-20T17:15:24.371557Z"
    },
    "hidden": true,
    "scrolled": true
   },
   "outputs": [],
   "source": [
    "# Transform column names to snake_casing\n",
    "non_null_data.columns = non_null_data.columns.str.lower().str.replace('\\s', '_')"
   ]
  },
  {
   "cell_type": "code",
   "execution_count": 15,
   "metadata": {
    "ExecuteTime": {
     "end_time": "2020-10-20T19:23:29.607349Z",
     "start_time": "2020-10-20T19:23:29.517011Z"
    },
    "hidden": true
   },
   "outputs": [
    {
     "data": {
      "text/html": [
       "<div>\n",
       "<style scoped>\n",
       "    .dataframe tbody tr th:only-of-type {\n",
       "        vertical-align: middle;\n",
       "    }\n",
       "\n",
       "    .dataframe tbody tr th {\n",
       "        vertical-align: top;\n",
       "    }\n",
       "\n",
       "    .dataframe thead th {\n",
       "        text-align: right;\n",
       "    }\n",
       "</style>\n",
       "<table border=\"1\" class=\"dataframe\">\n",
       "  <thead>\n",
       "    <tr style=\"text-align: right;\">\n",
       "      <th></th>\n",
       "      <th>ms_subclass</th>\n",
       "      <th>lot_frontage</th>\n",
       "      <th>lot_area</th>\n",
       "      <th>overall_qual</th>\n",
       "      <th>overall_cond</th>\n",
       "      <th>year_built</th>\n",
       "      <th>year_remod/add</th>\n",
       "      <th>mas_vnr_area</th>\n",
       "      <th>bsmtfin_sf_1</th>\n",
       "      <th>bsmtfin_sf_2</th>\n",
       "      <th>bsmt_unf_sf</th>\n",
       "      <th>total_bsmt_sf</th>\n",
       "      <th>1st_flr_sf</th>\n",
       "      <th>2nd_flr_sf</th>\n",
       "      <th>low_qual_fin_sf</th>\n",
       "      <th>gr_liv_area</th>\n",
       "      <th>bsmt_full_bath</th>\n",
       "      <th>bsmt_half_bath</th>\n",
       "      <th>full_bath</th>\n",
       "      <th>half_bath</th>\n",
       "      <th>bedroom_abvgr</th>\n",
       "      <th>kitchen_abvgr</th>\n",
       "      <th>totrms_abvgrd</th>\n",
       "      <th>fireplaces</th>\n",
       "      <th>garage_yr_blt</th>\n",
       "      <th>garage_cars</th>\n",
       "      <th>garage_area</th>\n",
       "      <th>wood_deck_sf</th>\n",
       "      <th>open_porch_sf</th>\n",
       "      <th>enclosed_porch</th>\n",
       "      <th>3ssn_porch</th>\n",
       "      <th>screen_porch</th>\n",
       "      <th>pool_area</th>\n",
       "      <th>misc_val</th>\n",
       "      <th>mo_sold</th>\n",
       "      <th>yr_sold</th>\n",
       "      <th>saleprice</th>\n",
       "    </tr>\n",
       "  </thead>\n",
       "  <tbody>\n",
       "    <tr>\n",
       "      <th>count</th>\n",
       "      <td>2927.000000</td>\n",
       "      <td>2927.000000</td>\n",
       "      <td>2927.000000</td>\n",
       "      <td>2927.000000</td>\n",
       "      <td>2927.000000</td>\n",
       "      <td>2927.000000</td>\n",
       "      <td>2927.000000</td>\n",
       "      <td>2927.000000</td>\n",
       "      <td>2927.000000</td>\n",
       "      <td>2927.000000</td>\n",
       "      <td>2927.000000</td>\n",
       "      <td>2927.000000</td>\n",
       "      <td>2927.000000</td>\n",
       "      <td>2927.000000</td>\n",
       "      <td>2927.000000</td>\n",
       "      <td>2927.000000</td>\n",
       "      <td>2927.000000</td>\n",
       "      <td>2927.000000</td>\n",
       "      <td>2927.000000</td>\n",
       "      <td>2927.000000</td>\n",
       "      <td>2927.000000</td>\n",
       "      <td>2927.000000</td>\n",
       "      <td>2927.000000</td>\n",
       "      <td>2927.000000</td>\n",
       "      <td>2927.000000</td>\n",
       "      <td>2927.000000</td>\n",
       "      <td>2927.000000</td>\n",
       "      <td>2927.000000</td>\n",
       "      <td>2927.000000</td>\n",
       "      <td>2927.000000</td>\n",
       "      <td>2927.000000</td>\n",
       "      <td>2927.000000</td>\n",
       "      <td>2927.000000</td>\n",
       "      <td>2927.000000</td>\n",
       "      <td>2927.000000</td>\n",
       "      <td>2927.000000</td>\n",
       "      <td>2927.000000</td>\n",
       "    </tr>\n",
       "    <tr>\n",
       "      <th>mean</th>\n",
       "      <td>57.408609</td>\n",
       "      <td>69.202613</td>\n",
       "      <td>10137.138367</td>\n",
       "      <td>6.096344</td>\n",
       "      <td>5.562009</td>\n",
       "      <td>1971.385719</td>\n",
       "      <td>1984.269218</td>\n",
       "      <td>102.001239</td>\n",
       "      <td>442.744790</td>\n",
       "      <td>49.756406</td>\n",
       "      <td>559.538435</td>\n",
       "      <td>1052.039631</td>\n",
       "      <td>1158.813119</td>\n",
       "      <td>335.497096</td>\n",
       "      <td>4.681585</td>\n",
       "      <td>1498.991800</td>\n",
       "      <td>0.431500</td>\n",
       "      <td>0.061155</td>\n",
       "      <td>1.566109</td>\n",
       "      <td>0.379570</td>\n",
       "      <td>2.853775</td>\n",
       "      <td>1.044414</td>\n",
       "      <td>6.442433</td>\n",
       "      <td>0.599248</td>\n",
       "      <td>1978.149958</td>\n",
       "      <td>1.766997</td>\n",
       "      <td>472.833960</td>\n",
       "      <td>93.788521</td>\n",
       "      <td>47.455073</td>\n",
       "      <td>22.962761</td>\n",
       "      <td>2.595149</td>\n",
       "      <td>16.018449</td>\n",
       "      <td>2.245644</td>\n",
       "      <td>50.687052</td>\n",
       "      <td>6.217629</td>\n",
       "      <td>2007.790571</td>\n",
       "      <td>180805.550735</td>\n",
       "    </tr>\n",
       "    <tr>\n",
       "      <th>std</th>\n",
       "      <td>42.648035</td>\n",
       "      <td>21.299187</td>\n",
       "      <td>7854.136212</td>\n",
       "      <td>1.410927</td>\n",
       "      <td>1.111442</td>\n",
       "      <td>30.243145</td>\n",
       "      <td>20.858455</td>\n",
       "      <td>178.469567</td>\n",
       "      <td>455.668872</td>\n",
       "      <td>169.221285</td>\n",
       "      <td>439.498694</td>\n",
       "      <td>440.322069</td>\n",
       "      <td>388.942762</td>\n",
       "      <td>428.404651</td>\n",
       "      <td>46.334003</td>\n",
       "      <td>503.785033</td>\n",
       "      <td>0.524849</td>\n",
       "      <td>0.245293</td>\n",
       "      <td>0.552431</td>\n",
       "      <td>0.502658</td>\n",
       "      <td>0.827049</td>\n",
       "      <td>0.214181</td>\n",
       "      <td>1.570844</td>\n",
       "      <td>0.647546</td>\n",
       "      <td>24.828936</td>\n",
       "      <td>0.760682</td>\n",
       "      <td>215.072336</td>\n",
       "      <td>126.393850</td>\n",
       "      <td>67.239479</td>\n",
       "      <td>64.073909</td>\n",
       "      <td>25.154079</td>\n",
       "      <td>56.113774</td>\n",
       "      <td>35.615352</td>\n",
       "      <td>566.632226</td>\n",
       "      <td>2.714885</td>\n",
       "      <td>1.317195</td>\n",
       "      <td>79880.475356</td>\n",
       "    </tr>\n",
       "    <tr>\n",
       "      <th>min</th>\n",
       "      <td>20.000000</td>\n",
       "      <td>21.000000</td>\n",
       "      <td>1300.000000</td>\n",
       "      <td>1.000000</td>\n",
       "      <td>1.000000</td>\n",
       "      <td>1872.000000</td>\n",
       "      <td>1950.000000</td>\n",
       "      <td>0.000000</td>\n",
       "      <td>0.000000</td>\n",
       "      <td>0.000000</td>\n",
       "      <td>0.000000</td>\n",
       "      <td>0.000000</td>\n",
       "      <td>334.000000</td>\n",
       "      <td>0.000000</td>\n",
       "      <td>0.000000</td>\n",
       "      <td>334.000000</td>\n",
       "      <td>0.000000</td>\n",
       "      <td>0.000000</td>\n",
       "      <td>0.000000</td>\n",
       "      <td>0.000000</td>\n",
       "      <td>0.000000</td>\n",
       "      <td>0.000000</td>\n",
       "      <td>2.000000</td>\n",
       "      <td>0.000000</td>\n",
       "      <td>1895.000000</td>\n",
       "      <td>0.000000</td>\n",
       "      <td>0.000000</td>\n",
       "      <td>0.000000</td>\n",
       "      <td>0.000000</td>\n",
       "      <td>0.000000</td>\n",
       "      <td>0.000000</td>\n",
       "      <td>0.000000</td>\n",
       "      <td>0.000000</td>\n",
       "      <td>0.000000</td>\n",
       "      <td>1.000000</td>\n",
       "      <td>2006.000000</td>\n",
       "      <td>12789.000000</td>\n",
       "    </tr>\n",
       "    <tr>\n",
       "      <th>25%</th>\n",
       "      <td>20.000000</td>\n",
       "      <td>60.000000</td>\n",
       "      <td>7440.500000</td>\n",
       "      <td>5.000000</td>\n",
       "      <td>5.000000</td>\n",
       "      <td>1954.000000</td>\n",
       "      <td>1965.000000</td>\n",
       "      <td>0.000000</td>\n",
       "      <td>0.000000</td>\n",
       "      <td>0.000000</td>\n",
       "      <td>219.000000</td>\n",
       "      <td>793.000000</td>\n",
       "      <td>876.000000</td>\n",
       "      <td>0.000000</td>\n",
       "      <td>0.000000</td>\n",
       "      <td>1126.000000</td>\n",
       "      <td>0.000000</td>\n",
       "      <td>0.000000</td>\n",
       "      <td>1.000000</td>\n",
       "      <td>0.000000</td>\n",
       "      <td>2.000000</td>\n",
       "      <td>1.000000</td>\n",
       "      <td>5.000000</td>\n",
       "      <td>0.000000</td>\n",
       "      <td>1962.000000</td>\n",
       "      <td>1.000000</td>\n",
       "      <td>320.000000</td>\n",
       "      <td>0.000000</td>\n",
       "      <td>0.000000</td>\n",
       "      <td>0.000000</td>\n",
       "      <td>0.000000</td>\n",
       "      <td>0.000000</td>\n",
       "      <td>0.000000</td>\n",
       "      <td>0.000000</td>\n",
       "      <td>4.000000</td>\n",
       "      <td>2007.000000</td>\n",
       "      <td>129500.000000</td>\n",
       "    </tr>\n",
       "    <tr>\n",
       "      <th>50%</th>\n",
       "      <td>50.000000</td>\n",
       "      <td>69.224590</td>\n",
       "      <td>9439.000000</td>\n",
       "      <td>6.000000</td>\n",
       "      <td>5.000000</td>\n",
       "      <td>1973.000000</td>\n",
       "      <td>1993.000000</td>\n",
       "      <td>0.000000</td>\n",
       "      <td>370.000000</td>\n",
       "      <td>0.000000</td>\n",
       "      <td>466.000000</td>\n",
       "      <td>990.000000</td>\n",
       "      <td>1084.000000</td>\n",
       "      <td>0.000000</td>\n",
       "      <td>0.000000</td>\n",
       "      <td>1442.000000</td>\n",
       "      <td>0.000000</td>\n",
       "      <td>0.000000</td>\n",
       "      <td>2.000000</td>\n",
       "      <td>0.000000</td>\n",
       "      <td>3.000000</td>\n",
       "      <td>1.000000</td>\n",
       "      <td>6.000000</td>\n",
       "      <td>1.000000</td>\n",
       "      <td>1978.132443</td>\n",
       "      <td>2.000000</td>\n",
       "      <td>480.000000</td>\n",
       "      <td>0.000000</td>\n",
       "      <td>27.000000</td>\n",
       "      <td>0.000000</td>\n",
       "      <td>0.000000</td>\n",
       "      <td>0.000000</td>\n",
       "      <td>0.000000</td>\n",
       "      <td>0.000000</td>\n",
       "      <td>6.000000</td>\n",
       "      <td>2008.000000</td>\n",
       "      <td>160000.000000</td>\n",
       "    </tr>\n",
       "    <tr>\n",
       "      <th>75%</th>\n",
       "      <td>70.000000</td>\n",
       "      <td>78.000000</td>\n",
       "      <td>11554.500000</td>\n",
       "      <td>7.000000</td>\n",
       "      <td>6.000000</td>\n",
       "      <td>2001.000000</td>\n",
       "      <td>2004.000000</td>\n",
       "      <td>163.000000</td>\n",
       "      <td>734.500000</td>\n",
       "      <td>0.000000</td>\n",
       "      <td>802.500000</td>\n",
       "      <td>1302.000000</td>\n",
       "      <td>1384.000000</td>\n",
       "      <td>703.500000</td>\n",
       "      <td>0.000000</td>\n",
       "      <td>1742.000000</td>\n",
       "      <td>1.000000</td>\n",
       "      <td>0.000000</td>\n",
       "      <td>2.000000</td>\n",
       "      <td>1.000000</td>\n",
       "      <td>3.000000</td>\n",
       "      <td>1.000000</td>\n",
       "      <td>7.000000</td>\n",
       "      <td>1.000000</td>\n",
       "      <td>2001.000000</td>\n",
       "      <td>2.000000</td>\n",
       "      <td>576.000000</td>\n",
       "      <td>168.000000</td>\n",
       "      <td>70.000000</td>\n",
       "      <td>0.000000</td>\n",
       "      <td>0.000000</td>\n",
       "      <td>0.000000</td>\n",
       "      <td>0.000000</td>\n",
       "      <td>0.000000</td>\n",
       "      <td>8.000000</td>\n",
       "      <td>2009.000000</td>\n",
       "      <td>213500.000000</td>\n",
       "    </tr>\n",
       "    <tr>\n",
       "      <th>max</th>\n",
       "      <td>190.000000</td>\n",
       "      <td>313.000000</td>\n",
       "      <td>215245.000000</td>\n",
       "      <td>10.000000</td>\n",
       "      <td>9.000000</td>\n",
       "      <td>2010.000000</td>\n",
       "      <td>2010.000000</td>\n",
       "      <td>1600.000000</td>\n",
       "      <td>5644.000000</td>\n",
       "      <td>1526.000000</td>\n",
       "      <td>2336.000000</td>\n",
       "      <td>6110.000000</td>\n",
       "      <td>5095.000000</td>\n",
       "      <td>2065.000000</td>\n",
       "      <td>1064.000000</td>\n",
       "      <td>5642.000000</td>\n",
       "      <td>3.000000</td>\n",
       "      <td>2.000000</td>\n",
       "      <td>4.000000</td>\n",
       "      <td>2.000000</td>\n",
       "      <td>8.000000</td>\n",
       "      <td>3.000000</td>\n",
       "      <td>15.000000</td>\n",
       "      <td>4.000000</td>\n",
       "      <td>2207.000000</td>\n",
       "      <td>5.000000</td>\n",
       "      <td>1488.000000</td>\n",
       "      <td>1424.000000</td>\n",
       "      <td>742.000000</td>\n",
       "      <td>1012.000000</td>\n",
       "      <td>508.000000</td>\n",
       "      <td>576.000000</td>\n",
       "      <td>800.000000</td>\n",
       "      <td>17000.000000</td>\n",
       "      <td>12.000000</td>\n",
       "      <td>2010.000000</td>\n",
       "      <td>755000.000000</td>\n",
       "    </tr>\n",
       "  </tbody>\n",
       "</table>\n",
       "</div>"
      ],
      "text/plain": [
       "       ms_subclass  lot_frontage       lot_area  overall_qual  overall_cond  \\\n",
       "count  2927.000000   2927.000000    2927.000000   2927.000000   2927.000000   \n",
       "mean     57.408609     69.202613   10137.138367      6.096344      5.562009   \n",
       "std      42.648035     21.299187    7854.136212      1.410927      1.111442   \n",
       "min      20.000000     21.000000    1300.000000      1.000000      1.000000   \n",
       "25%      20.000000     60.000000    7440.500000      5.000000      5.000000   \n",
       "50%      50.000000     69.224590    9439.000000      6.000000      5.000000   \n",
       "75%      70.000000     78.000000   11554.500000      7.000000      6.000000   \n",
       "max     190.000000    313.000000  215245.000000     10.000000      9.000000   \n",
       "\n",
       "        year_built  year_remod/add  mas_vnr_area  bsmtfin_sf_1  bsmtfin_sf_2  \\\n",
       "count  2927.000000     2927.000000   2927.000000   2927.000000   2927.000000   \n",
       "mean   1971.385719     1984.269218    102.001239    442.744790     49.756406   \n",
       "std      30.243145       20.858455    178.469567    455.668872    169.221285   \n",
       "min    1872.000000     1950.000000      0.000000      0.000000      0.000000   \n",
       "25%    1954.000000     1965.000000      0.000000      0.000000      0.000000   \n",
       "50%    1973.000000     1993.000000      0.000000    370.000000      0.000000   \n",
       "75%    2001.000000     2004.000000    163.000000    734.500000      0.000000   \n",
       "max    2010.000000     2010.000000   1600.000000   5644.000000   1526.000000   \n",
       "\n",
       "       bsmt_unf_sf  total_bsmt_sf   1st_flr_sf   2nd_flr_sf  low_qual_fin_sf  \\\n",
       "count  2927.000000    2927.000000  2927.000000  2927.000000      2927.000000   \n",
       "mean    559.538435    1052.039631  1158.813119   335.497096         4.681585   \n",
       "std     439.498694     440.322069   388.942762   428.404651        46.334003   \n",
       "min       0.000000       0.000000   334.000000     0.000000         0.000000   \n",
       "25%     219.000000     793.000000   876.000000     0.000000         0.000000   \n",
       "50%     466.000000     990.000000  1084.000000     0.000000         0.000000   \n",
       "75%     802.500000    1302.000000  1384.000000   703.500000         0.000000   \n",
       "max    2336.000000    6110.000000  5095.000000  2065.000000      1064.000000   \n",
       "\n",
       "       gr_liv_area  bsmt_full_bath  bsmt_half_bath    full_bath    half_bath  \\\n",
       "count  2927.000000     2927.000000     2927.000000  2927.000000  2927.000000   \n",
       "mean   1498.991800        0.431500        0.061155     1.566109     0.379570   \n",
       "std     503.785033        0.524849        0.245293     0.552431     0.502658   \n",
       "min     334.000000        0.000000        0.000000     0.000000     0.000000   \n",
       "25%    1126.000000        0.000000        0.000000     1.000000     0.000000   \n",
       "50%    1442.000000        0.000000        0.000000     2.000000     0.000000   \n",
       "75%    1742.000000        1.000000        0.000000     2.000000     1.000000   \n",
       "max    5642.000000        3.000000        2.000000     4.000000     2.000000   \n",
       "\n",
       "       bedroom_abvgr  kitchen_abvgr  totrms_abvgrd   fireplaces  \\\n",
       "count    2927.000000    2927.000000    2927.000000  2927.000000   \n",
       "mean        2.853775       1.044414       6.442433     0.599248   \n",
       "std         0.827049       0.214181       1.570844     0.647546   \n",
       "min         0.000000       0.000000       2.000000     0.000000   \n",
       "25%         2.000000       1.000000       5.000000     0.000000   \n",
       "50%         3.000000       1.000000       6.000000     1.000000   \n",
       "75%         3.000000       1.000000       7.000000     1.000000   \n",
       "max         8.000000       3.000000      15.000000     4.000000   \n",
       "\n",
       "       garage_yr_blt  garage_cars  garage_area  wood_deck_sf  open_porch_sf  \\\n",
       "count    2927.000000  2927.000000  2927.000000   2927.000000    2927.000000   \n",
       "mean     1978.149958     1.766997   472.833960     93.788521      47.455073   \n",
       "std        24.828936     0.760682   215.072336    126.393850      67.239479   \n",
       "min      1895.000000     0.000000     0.000000      0.000000       0.000000   \n",
       "25%      1962.000000     1.000000   320.000000      0.000000       0.000000   \n",
       "50%      1978.132443     2.000000   480.000000      0.000000      27.000000   \n",
       "75%      2001.000000     2.000000   576.000000    168.000000      70.000000   \n",
       "max      2207.000000     5.000000  1488.000000   1424.000000     742.000000   \n",
       "\n",
       "       enclosed_porch   3ssn_porch  screen_porch    pool_area      misc_val  \\\n",
       "count     2927.000000  2927.000000   2927.000000  2927.000000   2927.000000   \n",
       "mean        22.962761     2.595149     16.018449     2.245644     50.687052   \n",
       "std         64.073909    25.154079     56.113774    35.615352    566.632226   \n",
       "min          0.000000     0.000000      0.000000     0.000000      0.000000   \n",
       "25%          0.000000     0.000000      0.000000     0.000000      0.000000   \n",
       "50%          0.000000     0.000000      0.000000     0.000000      0.000000   \n",
       "75%          0.000000     0.000000      0.000000     0.000000      0.000000   \n",
       "max       1012.000000   508.000000    576.000000   800.000000  17000.000000   \n",
       "\n",
       "           mo_sold      yr_sold      saleprice  \n",
       "count  2927.000000  2927.000000    2927.000000  \n",
       "mean      6.217629  2007.790571  180805.550735  \n",
       "std       2.714885     1.317195   79880.475356  \n",
       "min       1.000000  2006.000000   12789.000000  \n",
       "25%       4.000000  2007.000000  129500.000000  \n",
       "50%       6.000000  2008.000000  160000.000000  \n",
       "75%       8.000000  2009.000000  213500.000000  \n",
       "max      12.000000  2010.000000  755000.000000  "
      ]
     },
     "execution_count": 15,
     "metadata": {},
     "output_type": "execute_result"
    }
   ],
   "source": [
    "non_null_data.select_dtypes(np.number).describe()"
   ]
  },
  {
   "cell_type": "markdown",
   "metadata": {
    "hidden": true
   },
   "source": [
    "### Feature Selection"
   ]
  },
  {
   "cell_type": "code",
   "execution_count": 16,
   "metadata": {
    "ExecuteTime": {
     "end_time": "2020-10-20T17:15:25.441145Z",
     "start_time": "2020-10-20T17:15:24.375158Z"
    },
    "hidden": true,
    "scrolled": true
   },
   "outputs": [
    {
     "data": {
      "text/plain": [
       "[Text(0.5, 0, 'ms_subclass'),\n",
       " Text(1.5, 0, 'lot_frontage'),\n",
       " Text(2.5, 0, 'lot_area'),\n",
       " Text(3.5, 0, 'overall_qual'),\n",
       " Text(4.5, 0, 'overall_cond'),\n",
       " Text(5.5, 0, 'year_built'),\n",
       " Text(6.5, 0, 'year_remod/add'),\n",
       " Text(7.5, 0, 'mas_vnr_area'),\n",
       " Text(8.5, 0, 'bsmtfin_sf_1'),\n",
       " Text(9.5, 0, 'bsmtfin_sf_2'),\n",
       " Text(10.5, 0, 'bsmt_unf_sf'),\n",
       " Text(11.5, 0, 'total_bsmt_sf'),\n",
       " Text(12.5, 0, '1st_flr_sf'),\n",
       " Text(13.5, 0, '2nd_flr_sf'),\n",
       " Text(14.5, 0, 'low_qual_fin_sf'),\n",
       " Text(15.5, 0, 'gr_liv_area'),\n",
       " Text(16.5, 0, 'bsmt_full_bath'),\n",
       " Text(17.5, 0, 'bsmt_half_bath'),\n",
       " Text(18.5, 0, 'full_bath'),\n",
       " Text(19.5, 0, 'half_bath'),\n",
       " Text(20.5, 0, 'bedroom_abvgr'),\n",
       " Text(21.5, 0, 'kitchen_abvgr'),\n",
       " Text(22.5, 0, 'totrms_abvgrd'),\n",
       " Text(23.5, 0, 'fireplaces'),\n",
       " Text(24.5, 0, 'garage_yr_blt'),\n",
       " Text(25.5, 0, 'garage_cars'),\n",
       " Text(26.5, 0, 'garage_area'),\n",
       " Text(27.5, 0, 'wood_deck_sf'),\n",
       " Text(28.5, 0, 'open_porch_sf'),\n",
       " Text(29.5, 0, 'enclosed_porch'),\n",
       " Text(30.5, 0, '3ssn_porch'),\n",
       " Text(31.5, 0, 'screen_porch'),\n",
       " Text(32.5, 0, 'pool_area'),\n",
       " Text(33.5, 0, 'misc_val'),\n",
       " Text(34.5, 0, 'mo_sold'),\n",
       " Text(35.5, 0, 'yr_sold'),\n",
       " Text(36.5, 0, 'saleprice')]"
      ]
     },
     "execution_count": 16,
     "metadata": {},
     "output_type": "execute_result"
    },
    {
     "data": {
      "image/png": "[encoded data removed]",
      "text/plain": [
       "<Figure size 1440x1080 with 2 Axes>"
      ]
     },
     "metadata": {
      "needs_background": "light"
     },
     "output_type": "display_data"
    }
   ],
   "source": [
    "# Generate a heat map based on column correlations\n",
    "feature_corr = round(non_null_data.corr() ,2)\n",
    "\n",
    "# Create a mask for self-referencial correlations \n",
    "mask = feature_corr == 1\n",
    "\n",
    "# Create labels for annotation only show values of strong correlations\n",
    "labels = feature_corr.copy()\n",
    "labels[(abs(labels)<0.6)] = ''\n",
    "\n",
    "\n",
    "# Plot heatmap\n",
    "fig = plt.figure(figsize = (20,15))\n",
    "heat_map = sns.heatmap(feature_corr, annot = labels, mask = mask, fmt = '', annot_kws={'fontsize':12}, cmap = 'summer_r')\n",
    "heat_map.set_xticklabels(heat_map.get_xticklabels(), rotation = 45, horizontalalignment='right')"
   ]
  },
  {
   "cell_type": "markdown",
   "metadata": {
    "hidden": true
   },
   "source": [
    "**From the heatmap, we can tell that:**\n",
    "* Strong correlations (coef bigger than 0.6) with saleprice are all positive.\n",
    "* Columns `overall_qual`, `total_bsmt_sf`, `1st_flr_sf`, `gr_liv_area`, `garage_cars`, `garage_area` have strong correlations with our target column `saleprice`.\n",
    "* Between feature columns, there are strong correlations too. For example `overall_qual` has a strong correlation with `year_built`, and surprisingly, `garage_cars`."
   ]
  },
  {
   "cell_type": "markdown",
   "metadata": {
    "hidden": true
   },
   "source": [
    "Let's create some scatter plot with higher correlations to see if there is linearity to it."
   ]
  },
  {
   "cell_type": "code",
   "execution_count": 17,
   "metadata": {
    "ExecuteTime": {
     "end_time": "2020-10-20T17:15:25.553168Z",
     "start_time": "2020-10-20T17:15:25.442401Z"
    },
    "hidden": true,
    "scrolled": true
   },
   "outputs": [
    {
     "data": {
      "text/plain": [
       "<matplotlib.collections.PathCollection at 0x24c66ba2a00>"
      ]
     },
     "execution_count": 17,
     "metadata": {},
     "output_type": "execute_result"
    },
    {
     "data": {
      "image/png": "[encoded data removed]",
      "text/plain": [
       "<Figure size 432x288 with 1 Axes>"
      ]
     },
     "metadata": {
      "needs_background": "light"
     },
     "output_type": "display_data"
    }
   ],
   "source": [
    "plt.scatter(non_null_data.overall_qual, non_null_data.saleprice)"
   ]
  },
  {
   "cell_type": "code",
   "execution_count": 18,
   "metadata": {
    "ExecuteTime": {
     "end_time": "2020-10-20T17:15:25.662070Z",
     "start_time": "2020-10-20T17:15:25.554210Z"
    },
    "hidden": true
   },
   "outputs": [
    {
     "data": {
      "text/plain": [
       "<matplotlib.collections.PathCollection at 0x24c66c006a0>"
      ]
     },
     "execution_count": 18,
     "metadata": {},
     "output_type": "execute_result"
    },
    {
     "data": {
      "image/png": "[encoded data removed]",
      "text/plain": [
       "<Figure size 432x288 with 1 Axes>"
      ]
     },
     "metadata": {
      "needs_background": "light"
     },
     "output_type": "display_data"
    }
   ],
   "source": [
    "plt.scatter(non_null_data.gr_liv_area, non_null_data.saleprice)"
   ]
  },
  {
   "cell_type": "markdown",
   "metadata": {
    "hidden": true
   },
   "source": [
    "* From the scatter plots above, we can definitely see some linearity in the correlation between features that correlate strongly with sale price. We are going to use f_regression from sklearn to perform feature selection on numerical features. "
   ]
  },
  {
   "cell_type": "markdown",
   "metadata": {
    "hidden": true
   },
   "source": [
    "### Feature selection using  PCA"
   ]
  },
  {
   "cell_type": "code",
   "execution_count": 19,
   "metadata": {
    "ExecuteTime": {
     "end_time": "2020-10-20T17:24:16.752724Z",
     "start_time": "2020-10-20T17:24:16.748988Z"
    },
    "hidden": true
   },
   "outputs": [],
   "source": [
    "# Select features using PCA \n",
    "def select_features_pca(df, target, feature_num):\n",
    "    numerical_features = df.select_dtypes(np.number).drop(target, axis = 1)\n",
    "    categorical_features = df.select_dtypes('category')\n",
    "    \n",
    "\n",
    "    # Numerical feature selection\n",
    "#     test = SelectKBest(score_func=f_regression, k=feature_num)\n",
    "#     top_features = test.fit_transform(numerical_features, non_null_data.saleprice)\n",
    "#     top_numerical_features = pd.DataFrame(top_features)\n",
    "    \n",
    "    # Get dummies for categorical features \n",
    "    categorical_features = pd.get_dummies(categorical_features)\n",
    "    \n",
    "    # Concatenate numerical & categorical features\n",
    "    all_features = pd.concat([numerical_features, categorical_features], axis = 1)\n",
    "    \n",
    "    # Fit pca to features\n",
    "    pca = PCA(n_components=feature_num, random_state=1)\n",
    "    features = pca.fit_transform(all_features)\n",
    "    \n",
    "    # Concatenate numerical & categorical features\n",
    "#     features = pd.concat([top_numerical_features, categorical_features], axis = 1, copy = False )\n",
    "\n",
    "    return features"
   ]
  },
  {
   "cell_type": "code",
   "execution_count": 20,
   "metadata": {
    "ExecuteTime": {
     "end_time": "2020-10-20T17:24:19.061272Z",
     "start_time": "2020-10-20T17:24:18.960912Z"
    },
    "hidden": true
   },
   "outputs": [
    {
     "data": {
      "text/plain": [
       "(2927, 10)"
      ]
     },
     "execution_count": 20,
     "metadata": {},
     "output_type": "execute_result"
    }
   ],
   "source": [
    "# Test select_features_pca function\n",
    "selected_features = select_features_pca(non_null_data, 'saleprice', 10)\n",
    "selected_features.shape"
   ]
  },
  {
   "cell_type": "markdown",
   "metadata": {
    "hidden": true
   },
   "source": [
    "Because it's not recommended to perform PCA on categorical features, and because we have both numerical and categorical features, we will try to do feature selection separately next."
   ]
  },
  {
   "cell_type": "markdown",
   "metadata": {
    "hidden": true
   },
   "source": [
    "### f_regression on numerical features and OneHotEncoder on categorical features"
   ]
  },
  {
   "cell_type": "code",
   "execution_count": 21,
   "metadata": {
    "ExecuteTime": {
     "end_time": "2020-10-20T20:21:47.687012Z",
     "start_time": "2020-10-20T20:21:47.683263Z"
    },
    "hidden": true
   },
   "outputs": [],
   "source": [
    "# # Write our own function to pick features\n",
    "def select_features_by_type(df, target, numerical_num):\n",
    "    # Seperate numerical features and categorical features\n",
    "    numerical_features = df.drop(target, axis = 1).select_dtypes(np.number)\n",
    "    categorical_features = df.select_dtypes('category')\n",
    "    \n",
    "    # Select k best numerical features\n",
    "    kbest = SelectKBest(f_regression, numerical_num)\n",
    "    selected_num = kbest.fit_transform(numerical_features, df[target])\n",
    "    \n",
    "    # Transform categorical columns with get_dummies\n",
    "    enc = OneHotEncoder()\n",
    "    trans_cat = enc.fit_transform(categorical_features).toarray()\n",
    "    \n",
    "#     Concatenate numerical & categorical features\n",
    "    features = np.concatenate((selected_num, trans_cat), axis = 1)\n",
    "    \n",
    "    return features\n",
    "    "
   ]
  },
  {
   "cell_type": "code",
   "execution_count": 22,
   "metadata": {
    "ExecuteTime": {
     "end_time": "2020-10-20T20:21:48.742162Z",
     "start_time": "2020-10-20T20:21:48.667655Z"
    },
    "hidden": true,
    "scrolled": true
   },
   "outputs": [
    {
     "name": "stderr",
     "output_type": "stream",
     "text": [
      "C:\\Users\\Roman\\anaconda3\\lib\\site-packages\\sklearn\\utils\\validation.py:68: FutureWarning: Pass k=5 as keyword args. From version 0.25 passing these as positional arguments will result in an error\n",
      "  warnings.warn(\"Pass {} as keyword args. From version 0.25 \"\n"
     ]
    },
    {
     "data": {
      "text/plain": [
       "(2927, 264)"
      ]
     },
     "execution_count": 22,
     "metadata": {},
     "output_type": "execute_result"
    }
   ],
   "source": [
    "# Test select_features_by_type \n",
    "select_features = select_features_by_type(non_null_data, 'saleprice', 5)\n",
    "select_features.shape"
   ]
  },
  {
   "cell_type": "markdown",
   "metadata": {
    "heading_collapsed": true
   },
   "source": [
    "## Unregularized Linear Regression\n",
    "---\n",
    "In this section, we will use f_regression to pick our numerical features to test on, using Linear Regression model without regularization."
   ]
  },
  {
   "cell_type": "markdown",
   "metadata": {
    "heading_collapsed": true,
    "hidden": true
   },
   "source": [
    "### Model using PCA as feature selection"
   ]
  },
  {
   "cell_type": "code",
   "execution_count": 23,
   "metadata": {
    "ExecuteTime": {
     "end_time": "2020-10-20T20:36:30.976669Z",
     "start_time": "2020-10-20T20:36:30.968024Z"
    },
    "hidden": true
   },
   "outputs": [],
   "source": [
    "# Function to train & test\n",
    "def train_and_test(df, target, feature_num, training_size = None, feature_selection = None, test = False):\n",
    "    \n",
    "    if feature_selection == 'pca':\n",
    "        X = select_features_pca(df, target, feature_num)\n",
    "    elif feature_selection == 'type':\n",
    "        X = select_features_by_type(df, target, feature_num)\n",
    "    \n",
    "    y = df[target]\n",
    "    \n",
    "    # First split data into train, test\n",
    "    X_train, X_test, y_train, y_test = train_test_split(X, y, test_size=0.2, random_state=1)\n",
    "\n",
    "    # Split train data into train, val\n",
    "    X_train, X_val, y_train, y_val = train_test_split(X_train, y_train, test_size=0.25, random_state=1) \n",
    "    \n",
    "    lr = LinearRegression(normalize=True)\n",
    "    \n",
    "     # Train model with small sample size for plotting the learning curve\n",
    "    if training_size:\n",
    "        X_train_sm = X_train[:training_size]\n",
    "        y_train_sm = y_train[:training_size]\n",
    "        X_val_sm = X_val[:training_size]\n",
    "        y_val_sm = y_val[:training_size]\n",
    "        lr.fit(X_train_sm, y_train_sm)\n",
    "        pred_train_sm = lr.predict(X_train_sm)\n",
    "        mse_train_sm = mean_squared_error(y_train_sm, pred_train_sm) \n",
    "        pred_val_sm = lr.predict(X_val_sm) \n",
    "        mse_val_sm = mean_squared_error(y_val_sm, pred_val_sm)\n",
    "        return mse_train_sm, mse_val_sm\n",
    "    \n",
    "    if test:\n",
    "        print('Training model with {} features'.format(feature_num))\n",
    "        lr.fit(X_train, y_train)\n",
    "        pred_train = lr.predict(X_train)\n",
    "        rmse_train = mean_squared_error(y_train, pred_train, squared = False) \n",
    "        pred_test = lr.predict(X_test) \n",
    "        rmse_test = mean_squared_error(y_test, pred_test, squared = False)\n",
    "        print('Model has a training rmse of {}, and test rmse of {}.'.format(rmse_train, rmse_test))\n",
    "        print('*'*20)\n",
    "        return rmse_test\n",
    "\n",
    "    \n",
    "    # Train model\n",
    "    print('Training model with {} features'.format(feature_num))\n",
    "    lr.fit(X_train, y_train)\n",
    "    pred_train = lr.predict(X_train)\n",
    "    rmse_train = mean_squared_error(y_train, pred_train, squared = False) \n",
    "    pred_val = lr.predict(X_val) \n",
    "    rmse_val = mean_squared_error(y_val, pred_val, squared = False)\n",
    "    print('Model has a training rmse of {}, and cross_validation rmse of {}.'.format(rmse_train, rmse_val))\n",
    "    print('*'*20)\n",
    "    \n",
    "    return rmse_train, rmse_val\n",
    "   "
   ]
  },
  {
   "cell_type": "code",
   "execution_count": 24,
   "metadata": {
    "ExecuteTime": {
     "end_time": "2020-10-20T19:51:54.001682Z",
     "start_time": "2020-10-20T19:51:45.882257Z"
    },
    "hidden": true,
    "scrolled": true
   },
   "outputs": [
    {
     "name": "stdout",
     "output_type": "stream",
     "text": [
      "Ver.21:\n",
      "Training model with 30 features\n",
      "Model has a training rmse of 29264.315862340238, and cross_validation rmse of 26513.911458850966.\n",
      "********************\n",
      "Ver.22:\n",
      "Training model with 31 features\n",
      "Model has a training rmse of 28935.46759603898, and cross_validation rmse of 26561.086283456167.\n",
      "********************\n",
      "Ver.23:\n",
      "Training model with 32 features\n",
      "Model has a training rmse of 28929.2327406428, and cross_validation rmse of 26549.236235926983.\n",
      "********************\n",
      "Ver.24:\n",
      "Training model with 33 features\n",
      "Model has a training rmse of 28914.317996221038, and cross_validation rmse of 26569.847704436488.\n",
      "********************\n",
      "Ver.25:\n",
      "Training model with 34 features\n",
      "Model has a training rmse of 28796.53074277462, and cross_validation rmse of 26487.752023101122.\n",
      "********************\n",
      "Ver.26:\n",
      "Training model with 35 features\n",
      "Model has a training rmse of 28873.310962599382, and cross_validation rmse of 26568.01700248483.\n",
      "********************\n",
      "Ver.27:\n",
      "Training model with 36 features\n",
      "Model has a training rmse of 28744.72146006264, and cross_validation rmse of 26535.54591220873.\n",
      "********************\n",
      "Ver.28:\n",
      "Training model with 37 features\n",
      "Model has a training rmse of 28721.683994084357, and cross_validation rmse of 26560.326506727914.\n",
      "********************\n",
      "Ver.29:\n",
      "Training model with 38 features\n",
      "Model has a training rmse of 28633.182928843064, and cross_validation rmse of 26518.688387803075.\n",
      "********************\n",
      "Ver.30:\n",
      "Training model with 39 features\n",
      "Model has a training rmse of 28644.574193695047, and cross_validation rmse of 26565.63864181948.\n",
      "********************\n",
      "Ver.31:\n",
      "Training model with 40 features\n",
      "Model has a training rmse of 28534.402459168978, and cross_validation rmse of 26491.54243919816.\n",
      "********************\n",
      "Ver.32:\n",
      "Training model with 41 features\n",
      "Model has a training rmse of 28570.492747204706, and cross_validation rmse of 26463.640355184038.\n",
      "********************\n",
      "Ver.33:\n",
      "Training model with 42 features\n",
      "Model has a training rmse of 28578.261321702874, and cross_validation rmse of 26521.08254655759.\n",
      "********************\n",
      "Ver.34:\n",
      "Training model with 43 features\n",
      "Model has a training rmse of 28263.917473512593, and cross_validation rmse of 26112.86537580617.\n",
      "********************\n",
      "Ver.35:\n",
      "Training model with 44 features\n",
      "Model has a training rmse of 28291.744434074186, and cross_validation rmse of 26151.309572246824.\n",
      "********************\n",
      "Ver.36:\n",
      "Training model with 45 features\n",
      "Model has a training rmse of 28288.428890755888, and cross_validation rmse of 26098.09473983727.\n",
      "********************\n",
      "Ver.37:\n",
      "Training model with 46 features\n",
      "Model has a training rmse of 28217.955405727153, and cross_validation rmse of 26065.7440551772.\n",
      "********************\n",
      "Ver.38:\n",
      "Training model with 47 features\n",
      "Model has a training rmse of 28210.076713737017, and cross_validation rmse of 26133.6481120017.\n",
      "********************\n",
      "Ver.39:\n",
      "Training model with 48 features\n",
      "Model has a training rmse of 28133.018421489465, and cross_validation rmse of 25953.59890348832.\n",
      "********************\n",
      "Ver.40:\n",
      "Training model with 49 features\n",
      "Model has a training rmse of 28109.48368571282, and cross_validation rmse of 25962.42423051183.\n",
      "********************\n",
      "Ver.41:\n",
      "Training model with 50 features\n",
      "Model has a training rmse of 28112.789181546814, and cross_validation rmse of 25970.62217096052.\n",
      "********************\n",
      "Ver.42:\n",
      "Training model with 51 features\n",
      "Model has a training rmse of 28017.022337749015, and cross_validation rmse of 26091.742093124325.\n",
      "********************\n",
      "Ver.43:\n",
      "Training model with 52 features\n",
      "Model has a training rmse of 28021.48478728256, and cross_validation rmse of 26047.119752397008.\n",
      "********************\n",
      "Ver.44:\n",
      "Training model with 53 features\n",
      "Model has a training rmse of 27923.481282269546, and cross_validation rmse of 26006.446719797783.\n",
      "********************\n",
      "Ver.45:\n",
      "Training model with 54 features\n",
      "Model has a training rmse of 27908.276528270635, and cross_validation rmse of 26114.002693048635.\n",
      "********************\n",
      "Ver.46:\n",
      "Training model with 55 features\n",
      "Model has a training rmse of 27753.698979064546, and cross_validation rmse of 25898.947653581115.\n",
      "********************\n",
      "Ver.47:\n",
      "Training model with 56 features\n",
      "Model has a training rmse of 27804.934548952737, and cross_validation rmse of 26004.00674977478.\n",
      "********************\n",
      "Ver.48:\n",
      "Training model with 57 features\n",
      "Model has a training rmse of 27724.935941030948, and cross_validation rmse of 26054.655943679998.\n",
      "********************\n",
      "Ver.49:\n",
      "Training model with 58 features\n",
      "Model has a training rmse of 27630.398778271465, and cross_validation rmse of 25937.910955618878.\n",
      "********************\n",
      "Ver.50:\n",
      "Training model with 59 features\n",
      "Model has a training rmse of 27634.52019421313, and cross_validation rmse of 25969.03076372998.\n",
      "********************\n",
      "Ver.51:\n",
      "Training model with 60 features\n",
      "Model has a training rmse of 27591.746980106655, and cross_validation rmse of 25728.444475567638.\n",
      "********************\n",
      "Ver.52:\n",
      "Training model with 61 features\n",
      "Model has a training rmse of 27576.09665651932, and cross_validation rmse of 25834.05384867485.\n",
      "********************\n",
      "Ver.53:\n",
      "Training model with 62 features\n",
      "Model has a training rmse of 27544.471105741417, and cross_validation rmse of 25996.085120732332.\n",
      "********************\n",
      "Ver.54:\n",
      "Training model with 63 features\n",
      "Model has a training rmse of 27456.733449500178, and cross_validation rmse of 26010.53532845673.\n",
      "********************\n",
      "Ver.55:\n",
      "Training model with 64 features\n",
      "Model has a training rmse of 27509.648963463864, and cross_validation rmse of 25947.585293927434.\n",
      "********************\n",
      "Ver.56:\n",
      "Training model with 65 features\n",
      "Model has a training rmse of 27237.739108334503, and cross_validation rmse of 26007.05076918434.\n",
      "********************\n",
      "Ver.57:\n",
      "Training model with 66 features\n",
      "Model has a training rmse of 27196.191943907328, and cross_validation rmse of 25771.081739609115.\n",
      "********************\n",
      "Ver.58:\n",
      "Training model with 67 features\n",
      "Model has a training rmse of 27198.673881587307, and cross_validation rmse of 26014.07599303728.\n",
      "********************\n",
      "Ver.59:\n",
      "Training model with 68 features\n",
      "Model has a training rmse of 27138.16489429178, and cross_validation rmse of 25918.044458421005.\n",
      "********************\n",
      "Ver.60:\n",
      "Training model with 69 features\n",
      "Model has a training rmse of 27094.906243185764, and cross_validation rmse of 25813.709654453218.\n",
      "********************\n",
      "Ver.61:\n",
      "Training model with 70 features\n",
      "Model has a training rmse of 27173.236206630027, and cross_validation rmse of 25761.44712170336.\n",
      "********************\n",
      "Ver.62:\n",
      "Training model with 71 features\n",
      "Model has a training rmse of 26895.72092542275, and cross_validation rmse of 25409.429228406872.\n",
      "********************\n",
      "Ver.63:\n",
      "Training model with 72 features\n",
      "Model has a training rmse of 26818.9995781568, and cross_validation rmse of 25708.846679573246.\n",
      "********************\n",
      "Ver.64:\n",
      "Training model with 73 features\n",
      "Model has a training rmse of 26634.327028265838, and cross_validation rmse of 25578.324250987665.\n",
      "********************\n",
      "Ver.65:\n",
      "Training model with 74 features\n",
      "Model has a training rmse of 26582.60976338655, and cross_validation rmse of 25498.4660946213.\n",
      "********************\n",
      "Ver.66:\n",
      "Training model with 75 features\n",
      "Model has a training rmse of 26625.69875486724, and cross_validation rmse of 25532.297889577138.\n",
      "********************\n",
      "Ver.67:\n",
      "Training model with 76 features\n",
      "Model has a training rmse of 26572.690933381826, and cross_validation rmse of 25650.29275927086.\n",
      "********************\n",
      "Ver.68:\n",
      "Training model with 77 features\n",
      "Model has a training rmse of 26417.24471118349, and cross_validation rmse of 25525.119088332318.\n",
      "********************\n",
      "Ver.69:\n",
      "Training model with 78 features\n",
      "Model has a training rmse of 26476.9119000459, and cross_validation rmse of 25705.278235293066.\n",
      "********************\n",
      "Ver.70:\n",
      "Training model with 79 features\n",
      "Model has a training rmse of 26182.568036990393, and cross_validation rmse of 25576.364529215378.\n",
      "********************\n",
      "Ver.71:\n",
      "Training model with 80 features\n",
      "Model has a training rmse of 26202.54279363379, and cross_validation rmse of 25720.128604785914.\n",
      "********************\n",
      "Ver.72:\n",
      "Training model with 81 features\n",
      "Model has a training rmse of 26159.565020455393, and cross_validation rmse of 25635.09343766673.\n",
      "********************\n",
      "Ver.73:\n"
     ]
    },
    {
     "name": "stdout",
     "output_type": "stream",
     "text": [
      "Training model with 82 features\n",
      "Model has a training rmse of 26041.239050720164, and cross_validation rmse of 25654.380283571318.\n",
      "********************\n",
      "Ver.74:\n",
      "Training model with 83 features\n",
      "Model has a training rmse of 25990.327991350285, and cross_validation rmse of 25660.365624021768.\n",
      "********************\n",
      "Ver.75:\n",
      "Training model with 84 features\n",
      "Model has a training rmse of 26096.173645295195, and cross_validation rmse of 25636.150298011242.\n",
      "********************\n",
      "Ver.76:\n",
      "Training model with 85 features\n",
      "Model has a training rmse of 25845.10590519717, and cross_validation rmse of 25700.431915116533.\n",
      "********************\n",
      "Ver.77:\n",
      "Training model with 86 features\n",
      "Model has a training rmse of 25954.345582666996, and cross_validation rmse of 25635.035587473445.\n",
      "********************\n",
      "Ver.78:\n",
      "Training model with 87 features\n",
      "Model has a training rmse of 25989.71614451254, and cross_validation rmse of 25729.050717310976.\n",
      "********************\n",
      "Ver.79:\n",
      "Training model with 88 features\n",
      "Model has a training rmse of 25882.168224167766, and cross_validation rmse of 25840.956567768153.\n",
      "********************\n",
      "Ver.80:\n",
      "Training model with 89 features\n",
      "Model has a training rmse of 25773.24629958125, and cross_validation rmse of 25848.251148969754.\n",
      "********************\n",
      "Ver.81:\n",
      "Training model with 90 features\n",
      "Model has a training rmse of 25892.066800586304, and cross_validation rmse of 25711.23365116974.\n",
      "********************\n",
      "Ver.82:\n",
      "Training model with 91 features\n",
      "Model has a training rmse of 25712.662900050946, and cross_validation rmse of 25533.38839058623.\n",
      "********************\n",
      "Ver.83:\n",
      "Training model with 92 features\n",
      "Model has a training rmse of 25678.80904653742, and cross_validation rmse of 25566.9120236927.\n",
      "********************\n",
      "Ver.84:\n",
      "Training model with 93 features\n",
      "Model has a training rmse of 25717.896499629896, and cross_validation rmse of 25329.450277918746.\n",
      "********************\n",
      "Ver.85:\n",
      "Training model with 94 features\n",
      "Model has a training rmse of 25743.743511996487, and cross_validation rmse of 25523.688950829528.\n",
      "********************\n",
      "Ver.86:\n",
      "Training model with 95 features\n",
      "Model has a training rmse of 25651.79835316505, and cross_validation rmse of 25591.056408444445.\n",
      "********************\n",
      "Ver.87:\n",
      "Training model with 96 features\n",
      "Model has a training rmse of 25606.675194273124, and cross_validation rmse of 25535.415537810975.\n",
      "********************\n",
      "Ver.88:\n",
      "Training model with 97 features\n",
      "Model has a training rmse of 25463.259371899676, and cross_validation rmse of 25292.36342249021.\n",
      "********************\n",
      "Ver.89:\n",
      "Training model with 98 features\n",
      "Model has a training rmse of 25510.98170088117, and cross_validation rmse of 25563.599881235088.\n",
      "********************\n",
      "Ver.90:\n",
      "Training model with 99 features\n",
      "Model has a training rmse of 25512.722573977215, and cross_validation rmse of 25270.737784809295.\n",
      "********************\n"
     ]
    }
   ],
   "source": [
    "# Train and test on different number of numerical features\n",
    "rmses_train = {}\n",
    "rmses_val = {}\n",
    "\n",
    "for i in range(30, 100):\n",
    "    print('Ver.{}:'.format(i-9))\n",
    "    rmse_train, rmse_val = train_and_test(df = non_null_data, \n",
    "                                          target = 'saleprice', \n",
    "                                          feature_num = i, \n",
    "                                          feature_selection='pca')\n",
    "    rmses_train['Model with {} features'.format(i)] = rmse_train\n",
    "    rmses_val['Model with {} features'.format(i)]  = rmse_val"
   ]
  },
  {
   "cell_type": "code",
   "execution_count": 25,
   "metadata": {
    "ExecuteTime": {
     "end_time": "2020-10-20T19:35:29.346429Z",
     "start_time": "2020-10-20T19:35:29.343404Z"
    },
    "hidden": true
   },
   "outputs": [
    {
     "name": "stdout",
     "output_type": "stream",
     "text": [
      "Model with 99 features has the lowest cross-validation rmse: 25270.737784809295\n"
     ]
    }
   ],
   "source": [
    "# Find the model with the lowest cross-validation rmse\n",
    "def best_performance(rmses_val):\n",
    "    min_val_key = min(rmses_val, key=rmses_val.get)\n",
    "    print('{} has the lowest cross-validation rmse:'.format(min_val_key), str(rmses_val[min_val_key]))\n",
    "    \n",
    "best_performance(rmses_val)"
   ]
  },
  {
   "cell_type": "code",
   "execution_count": 28,
   "metadata": {
    "ExecuteTime": {
     "end_time": "2020-10-20T19:36:19.701332Z",
     "start_time": "2020-10-20T19:35:32.409861Z"
    },
    "hidden": true
   },
   "outputs": [
    {
     "ename": "KeyboardInterrupt",
     "evalue": "",
     "output_type": "error",
     "traceback": [
      "\u001b[1;31m---------------------------------------------------------------------------\u001b[0m",
      "\u001b[1;31mKeyboardInterrupt\u001b[0m                         Traceback (most recent call last)",
      "\u001b[1;32m<ipython-input-28-564edb27c7cb>\u001b[0m in \u001b[0;36m<module>\u001b[1;34m\u001b[0m\n\u001b[0;32m      3\u001b[0m \u001b[0mmses_val_sm\u001b[0m \u001b[1;33m=\u001b[0m \u001b[1;33m[\u001b[0m\u001b[1;33m]\u001b[0m\u001b[1;33m\u001b[0m\u001b[1;33m\u001b[0m\u001b[0m\n\u001b[0;32m      4\u001b[0m \u001b[1;32mfor\u001b[0m \u001b[0mm\u001b[0m \u001b[1;32min\u001b[0m \u001b[0mrange\u001b[0m\u001b[1;33m(\u001b[0m\u001b[1;36m1\u001b[0m\u001b[1;33m,\u001b[0m \u001b[1;36m400\u001b[0m\u001b[1;33m)\u001b[0m\u001b[1;33m:\u001b[0m\u001b[1;33m\u001b[0m\u001b[1;33m\u001b[0m\u001b[0m\n\u001b[1;32m----> 5\u001b[1;33m     mse_train_sm, mse_val_sm = train_and_test(df = non_null_data, \n\u001b[0m\u001b[0;32m      6\u001b[0m                                               \u001b[0mtarget\u001b[0m \u001b[1;33m=\u001b[0m \u001b[1;34m'saleprice'\u001b[0m\u001b[1;33m,\u001b[0m\u001b[1;33m\u001b[0m\u001b[1;33m\u001b[0m\u001b[0m\n\u001b[0;32m      7\u001b[0m                                               \u001b[0mfeature_num\u001b[0m \u001b[1;33m=\u001b[0m\u001b[1;36m99\u001b[0m\u001b[1;33m,\u001b[0m\u001b[1;33m\u001b[0m\u001b[1;33m\u001b[0m\u001b[0m\n",
      "\u001b[1;32m<ipython-input-23-4885dacb3448>\u001b[0m in \u001b[0;36mtrain_and_test\u001b[1;34m(df, target, feature_num, training_size, feature_selection, test)\u001b[0m\n\u001b[0;32m      3\u001b[0m \u001b[1;33m\u001b[0m\u001b[0m\n\u001b[0;32m      4\u001b[0m     \u001b[1;32mif\u001b[0m \u001b[0mfeature_selection\u001b[0m \u001b[1;33m==\u001b[0m \u001b[1;34m'pca'\u001b[0m\u001b[1;33m:\u001b[0m\u001b[1;33m\u001b[0m\u001b[1;33m\u001b[0m\u001b[0m\n\u001b[1;32m----> 5\u001b[1;33m         \u001b[0mX\u001b[0m \u001b[1;33m=\u001b[0m \u001b[0mselect_features_pca\u001b[0m\u001b[1;33m(\u001b[0m\u001b[0mdf\u001b[0m\u001b[1;33m,\u001b[0m \u001b[0mtarget\u001b[0m\u001b[1;33m,\u001b[0m \u001b[0mfeature_num\u001b[0m\u001b[1;33m)\u001b[0m\u001b[1;33m\u001b[0m\u001b[1;33m\u001b[0m\u001b[0m\n\u001b[0m\u001b[0;32m      6\u001b[0m     \u001b[1;32melif\u001b[0m \u001b[0mfeature_selection\u001b[0m \u001b[1;33m==\u001b[0m \u001b[1;34m'type'\u001b[0m\u001b[1;33m:\u001b[0m\u001b[1;33m\u001b[0m\u001b[1;33m\u001b[0m\u001b[0m\n\u001b[0;32m      7\u001b[0m         \u001b[0mX\u001b[0m \u001b[1;33m=\u001b[0m \u001b[0mselect_features_by_type\u001b[0m\u001b[1;33m(\u001b[0m\u001b[0mdf\u001b[0m\u001b[1;33m,\u001b[0m \u001b[0mtarget\u001b[0m\u001b[1;33m,\u001b[0m \u001b[0mfeature_num\u001b[0m\u001b[1;33m)\u001b[0m\u001b[1;33m\u001b[0m\u001b[1;33m\u001b[0m\u001b[0m\n",
      "\u001b[1;32m<ipython-input-19-d51e89984657>\u001b[0m in \u001b[0;36mselect_features_pca\u001b[1;34m(df, target, feature_num)\u001b[0m\n\u001b[0;32m     18\u001b[0m     \u001b[1;31m# Fit pca to features\u001b[0m\u001b[1;33m\u001b[0m\u001b[1;33m\u001b[0m\u001b[1;33m\u001b[0m\u001b[0m\n\u001b[0;32m     19\u001b[0m     \u001b[0mpca\u001b[0m \u001b[1;33m=\u001b[0m \u001b[0mPCA\u001b[0m\u001b[1;33m(\u001b[0m\u001b[0mn_components\u001b[0m\u001b[1;33m=\u001b[0m\u001b[0mfeature_num\u001b[0m\u001b[1;33m,\u001b[0m \u001b[0mrandom_state\u001b[0m\u001b[1;33m=\u001b[0m\u001b[1;36m1\u001b[0m\u001b[1;33m)\u001b[0m\u001b[1;33m\u001b[0m\u001b[1;33m\u001b[0m\u001b[0m\n\u001b[1;32m---> 20\u001b[1;33m     \u001b[0mfeatures\u001b[0m \u001b[1;33m=\u001b[0m \u001b[0mpca\u001b[0m\u001b[1;33m.\u001b[0m\u001b[0mfit_transform\u001b[0m\u001b[1;33m(\u001b[0m\u001b[0mall_features\u001b[0m\u001b[1;33m)\u001b[0m\u001b[1;33m\u001b[0m\u001b[1;33m\u001b[0m\u001b[0m\n\u001b[0m\u001b[0;32m     21\u001b[0m \u001b[1;33m\u001b[0m\u001b[0m\n\u001b[0;32m     22\u001b[0m     \u001b[1;31m# Concatenate numerical & categorical features\u001b[0m\u001b[1;33m\u001b[0m\u001b[1;33m\u001b[0m\u001b[1;33m\u001b[0m\u001b[0m\n",
      "\u001b[1;32m~\\anaconda3\\lib\\site-packages\\sklearn\\decomposition\\_pca.py\u001b[0m in \u001b[0;36mfit_transform\u001b[1;34m(self, X, y)\u001b[0m\n\u001b[0;32m    374\u001b[0m         \u001b[0mC\u001b[0m\u001b[1;33m-\u001b[0m\u001b[0mordered\u001b[0m \u001b[0marray\u001b[0m\u001b[1;33m,\u001b[0m \u001b[0muse\u001b[0m \u001b[1;34m'np.ascontiguousarray'\u001b[0m\u001b[1;33m.\u001b[0m\u001b[1;33m\u001b[0m\u001b[1;33m\u001b[0m\u001b[0m\n\u001b[0;32m    375\u001b[0m         \"\"\"\n\u001b[1;32m--> 376\u001b[1;33m         \u001b[0mU\u001b[0m\u001b[1;33m,\u001b[0m \u001b[0mS\u001b[0m\u001b[1;33m,\u001b[0m \u001b[0mV\u001b[0m \u001b[1;33m=\u001b[0m \u001b[0mself\u001b[0m\u001b[1;33m.\u001b[0m\u001b[0m_fit\u001b[0m\u001b[1;33m(\u001b[0m\u001b[0mX\u001b[0m\u001b[1;33m)\u001b[0m\u001b[1;33m\u001b[0m\u001b[1;33m\u001b[0m\u001b[0m\n\u001b[0m\u001b[0;32m    377\u001b[0m         \u001b[0mU\u001b[0m \u001b[1;33m=\u001b[0m \u001b[0mU\u001b[0m\u001b[1;33m[\u001b[0m\u001b[1;33m:\u001b[0m\u001b[1;33m,\u001b[0m \u001b[1;33m:\u001b[0m\u001b[0mself\u001b[0m\u001b[1;33m.\u001b[0m\u001b[0mn_components_\u001b[0m\u001b[1;33m]\u001b[0m\u001b[1;33m\u001b[0m\u001b[1;33m\u001b[0m\u001b[0m\n\u001b[0;32m    378\u001b[0m \u001b[1;33m\u001b[0m\u001b[0m\n",
      "\u001b[1;32m~\\anaconda3\\lib\\site-packages\\sklearn\\decomposition\\_pca.py\u001b[0m in \u001b[0;36m_fit\u001b[1;34m(self, X)\u001b[0m\n\u001b[0;32m    423\u001b[0m             \u001b[1;32mreturn\u001b[0m \u001b[0mself\u001b[0m\u001b[1;33m.\u001b[0m\u001b[0m_fit_full\u001b[0m\u001b[1;33m(\u001b[0m\u001b[0mX\u001b[0m\u001b[1;33m,\u001b[0m \u001b[0mn_components\u001b[0m\u001b[1;33m)\u001b[0m\u001b[1;33m\u001b[0m\u001b[1;33m\u001b[0m\u001b[0m\n\u001b[0;32m    424\u001b[0m         \u001b[1;32melif\u001b[0m \u001b[0mself\u001b[0m\u001b[1;33m.\u001b[0m\u001b[0m_fit_svd_solver\u001b[0m \u001b[1;32min\u001b[0m \u001b[1;33m[\u001b[0m\u001b[1;34m'arpack'\u001b[0m\u001b[1;33m,\u001b[0m \u001b[1;34m'randomized'\u001b[0m\u001b[1;33m]\u001b[0m\u001b[1;33m:\u001b[0m\u001b[1;33m\u001b[0m\u001b[1;33m\u001b[0m\u001b[0m\n\u001b[1;32m--> 425\u001b[1;33m             \u001b[1;32mreturn\u001b[0m \u001b[0mself\u001b[0m\u001b[1;33m.\u001b[0m\u001b[0m_fit_truncated\u001b[0m\u001b[1;33m(\u001b[0m\u001b[0mX\u001b[0m\u001b[1;33m,\u001b[0m \u001b[0mn_components\u001b[0m\u001b[1;33m,\u001b[0m \u001b[0mself\u001b[0m\u001b[1;33m.\u001b[0m\u001b[0m_fit_svd_solver\u001b[0m\u001b[1;33m)\u001b[0m\u001b[1;33m\u001b[0m\u001b[1;33m\u001b[0m\u001b[0m\n\u001b[0m\u001b[0;32m    426\u001b[0m         \u001b[1;32melse\u001b[0m\u001b[1;33m:\u001b[0m\u001b[1;33m\u001b[0m\u001b[1;33m\u001b[0m\u001b[0m\n\u001b[0;32m    427\u001b[0m             raise ValueError(\"Unrecognized svd_solver='{0}'\"\n",
      "\u001b[1;32m~\\anaconda3\\lib\\site-packages\\sklearn\\decomposition\\_pca.py\u001b[0m in \u001b[0;36m_fit_truncated\u001b[1;34m(self, X, n_components, svd_solver)\u001b[0m\n\u001b[0;32m    540\u001b[0m         \u001b[1;32melif\u001b[0m \u001b[0msvd_solver\u001b[0m \u001b[1;33m==\u001b[0m \u001b[1;34m'randomized'\u001b[0m\u001b[1;33m:\u001b[0m\u001b[1;33m\u001b[0m\u001b[1;33m\u001b[0m\u001b[0m\n\u001b[0;32m    541\u001b[0m             \u001b[1;31m# sign flipping is done inside\u001b[0m\u001b[1;33m\u001b[0m\u001b[1;33m\u001b[0m\u001b[1;33m\u001b[0m\u001b[0m\n\u001b[1;32m--> 542\u001b[1;33m             U, S, V = randomized_svd(X, n_components=n_components,\n\u001b[0m\u001b[0;32m    543\u001b[0m                                      \u001b[0mn_iter\u001b[0m\u001b[1;33m=\u001b[0m\u001b[0mself\u001b[0m\u001b[1;33m.\u001b[0m\u001b[0miterated_power\u001b[0m\u001b[1;33m,\u001b[0m\u001b[1;33m\u001b[0m\u001b[1;33m\u001b[0m\u001b[0m\n\u001b[0;32m    544\u001b[0m                                      \u001b[0mflip_sign\u001b[0m\u001b[1;33m=\u001b[0m\u001b[1;32mTrue\u001b[0m\u001b[1;33m,\u001b[0m\u001b[1;33m\u001b[0m\u001b[1;33m\u001b[0m\u001b[0m\n",
      "\u001b[1;32m~\\anaconda3\\lib\\site-packages\\sklearn\\utils\\validation.py\u001b[0m in \u001b[0;36minner_f\u001b[1;34m(*args, **kwargs)\u001b[0m\n\u001b[0;32m     71\u001b[0m                           FutureWarning)\n\u001b[0;32m     72\u001b[0m         \u001b[0mkwargs\u001b[0m\u001b[1;33m.\u001b[0m\u001b[0mupdate\u001b[0m\u001b[1;33m(\u001b[0m\u001b[1;33m{\u001b[0m\u001b[0mk\u001b[0m\u001b[1;33m:\u001b[0m \u001b[0marg\u001b[0m \u001b[1;32mfor\u001b[0m \u001b[0mk\u001b[0m\u001b[1;33m,\u001b[0m \u001b[0marg\u001b[0m \u001b[1;32min\u001b[0m \u001b[0mzip\u001b[0m\u001b[1;33m(\u001b[0m\u001b[0msig\u001b[0m\u001b[1;33m.\u001b[0m\u001b[0mparameters\u001b[0m\u001b[1;33m,\u001b[0m \u001b[0margs\u001b[0m\u001b[1;33m)\u001b[0m\u001b[1;33m}\u001b[0m\u001b[1;33m)\u001b[0m\u001b[1;33m\u001b[0m\u001b[1;33m\u001b[0m\u001b[0m\n\u001b[1;32m---> 73\u001b[1;33m         \u001b[1;32mreturn\u001b[0m \u001b[0mf\u001b[0m\u001b[1;33m(\u001b[0m\u001b[1;33m**\u001b[0m\u001b[0mkwargs\u001b[0m\u001b[1;33m)\u001b[0m\u001b[1;33m\u001b[0m\u001b[1;33m\u001b[0m\u001b[0m\n\u001b[0m\u001b[0;32m     74\u001b[0m     \u001b[1;32mreturn\u001b[0m \u001b[0minner_f\u001b[0m\u001b[1;33m\u001b[0m\u001b[1;33m\u001b[0m\u001b[0m\n\u001b[0;32m     75\u001b[0m \u001b[1;33m\u001b[0m\u001b[0m\n",
      "\u001b[1;32m~\\anaconda3\\lib\\site-packages\\sklearn\\utils\\extmath.py\u001b[0m in \u001b[0;36mrandomized_svd\u001b[1;34m(M, n_components, n_oversamples, n_iter, power_iteration_normalizer, transpose, flip_sign, random_state)\u001b[0m\n\u001b[0;32m    347\u001b[0m         \u001b[0mM\u001b[0m \u001b[1;33m=\u001b[0m \u001b[0mM\u001b[0m\u001b[1;33m.\u001b[0m\u001b[0mT\u001b[0m\u001b[1;33m\u001b[0m\u001b[1;33m\u001b[0m\u001b[0m\n\u001b[0;32m    348\u001b[0m \u001b[1;33m\u001b[0m\u001b[0m\n\u001b[1;32m--> 349\u001b[1;33m     Q = randomized_range_finder(\n\u001b[0m\u001b[0;32m    350\u001b[0m         \u001b[0mM\u001b[0m\u001b[1;33m,\u001b[0m \u001b[0msize\u001b[0m\u001b[1;33m=\u001b[0m\u001b[0mn_random\u001b[0m\u001b[1;33m,\u001b[0m \u001b[0mn_iter\u001b[0m\u001b[1;33m=\u001b[0m\u001b[0mn_iter\u001b[0m\u001b[1;33m,\u001b[0m\u001b[1;33m\u001b[0m\u001b[1;33m\u001b[0m\u001b[0m\n\u001b[0;32m    351\u001b[0m         \u001b[0mpower_iteration_normalizer\u001b[0m\u001b[1;33m=\u001b[0m\u001b[0mpower_iteration_normalizer\u001b[0m\u001b[1;33m,\u001b[0m\u001b[1;33m\u001b[0m\u001b[1;33m\u001b[0m\u001b[0m\n",
      "\u001b[1;32m~\\anaconda3\\lib\\site-packages\\sklearn\\utils\\validation.py\u001b[0m in \u001b[0;36minner_f\u001b[1;34m(*args, **kwargs)\u001b[0m\n\u001b[0;32m     71\u001b[0m                           FutureWarning)\n\u001b[0;32m     72\u001b[0m         \u001b[0mkwargs\u001b[0m\u001b[1;33m.\u001b[0m\u001b[0mupdate\u001b[0m\u001b[1;33m(\u001b[0m\u001b[1;33m{\u001b[0m\u001b[0mk\u001b[0m\u001b[1;33m:\u001b[0m \u001b[0marg\u001b[0m \u001b[1;32mfor\u001b[0m \u001b[0mk\u001b[0m\u001b[1;33m,\u001b[0m \u001b[0marg\u001b[0m \u001b[1;32min\u001b[0m \u001b[0mzip\u001b[0m\u001b[1;33m(\u001b[0m\u001b[0msig\u001b[0m\u001b[1;33m.\u001b[0m\u001b[0mparameters\u001b[0m\u001b[1;33m,\u001b[0m \u001b[0margs\u001b[0m\u001b[1;33m)\u001b[0m\u001b[1;33m}\u001b[0m\u001b[1;33m)\u001b[0m\u001b[1;33m\u001b[0m\u001b[1;33m\u001b[0m\u001b[0m\n\u001b[1;32m---> 73\u001b[1;33m         \u001b[1;32mreturn\u001b[0m \u001b[0mf\u001b[0m\u001b[1;33m(\u001b[0m\u001b[1;33m**\u001b[0m\u001b[0mkwargs\u001b[0m\u001b[1;33m)\u001b[0m\u001b[1;33m\u001b[0m\u001b[1;33m\u001b[0m\u001b[0m\n\u001b[0m\u001b[0;32m     74\u001b[0m     \u001b[1;32mreturn\u001b[0m \u001b[0minner_f\u001b[0m\u001b[1;33m\u001b[0m\u001b[1;33m\u001b[0m\u001b[0m\n\u001b[0;32m     75\u001b[0m \u001b[1;33m\u001b[0m\u001b[0m\n",
      "\u001b[1;32m~\\anaconda3\\lib\\site-packages\\sklearn\\utils\\extmath.py\u001b[0m in \u001b[0;36mrandomized_range_finder\u001b[1;34m(A, size, n_iter, power_iteration_normalizer, random_state)\u001b[0m\n\u001b[0;32m    232\u001b[0m             \u001b[0mQ\u001b[0m \u001b[1;33m=\u001b[0m \u001b[0msafe_sparse_dot\u001b[0m\u001b[1;33m(\u001b[0m\u001b[0mA\u001b[0m\u001b[1;33m.\u001b[0m\u001b[0mT\u001b[0m\u001b[1;33m,\u001b[0m \u001b[0mQ\u001b[0m\u001b[1;33m)\u001b[0m\u001b[1;33m\u001b[0m\u001b[1;33m\u001b[0m\u001b[0m\n\u001b[0;32m    233\u001b[0m         \u001b[1;32melif\u001b[0m \u001b[0mpower_iteration_normalizer\u001b[0m \u001b[1;33m==\u001b[0m \u001b[1;34m'LU'\u001b[0m\u001b[1;33m:\u001b[0m\u001b[1;33m\u001b[0m\u001b[1;33m\u001b[0m\u001b[0m\n\u001b[1;32m--> 234\u001b[1;33m             \u001b[0mQ\u001b[0m\u001b[1;33m,\u001b[0m \u001b[0m_\u001b[0m \u001b[1;33m=\u001b[0m \u001b[0mlinalg\u001b[0m\u001b[1;33m.\u001b[0m\u001b[0mlu\u001b[0m\u001b[1;33m(\u001b[0m\u001b[0msafe_sparse_dot\u001b[0m\u001b[1;33m(\u001b[0m\u001b[0mA\u001b[0m\u001b[1;33m,\u001b[0m \u001b[0mQ\u001b[0m\u001b[1;33m)\u001b[0m\u001b[1;33m,\u001b[0m \u001b[0mpermute_l\u001b[0m\u001b[1;33m=\u001b[0m\u001b[1;32mTrue\u001b[0m\u001b[1;33m)\u001b[0m\u001b[1;33m\u001b[0m\u001b[1;33m\u001b[0m\u001b[0m\n\u001b[0m\u001b[0;32m    235\u001b[0m             \u001b[0mQ\u001b[0m\u001b[1;33m,\u001b[0m \u001b[0m_\u001b[0m \u001b[1;33m=\u001b[0m \u001b[0mlinalg\u001b[0m\u001b[1;33m.\u001b[0m\u001b[0mlu\u001b[0m\u001b[1;33m(\u001b[0m\u001b[0msafe_sparse_dot\u001b[0m\u001b[1;33m(\u001b[0m\u001b[0mA\u001b[0m\u001b[1;33m.\u001b[0m\u001b[0mT\u001b[0m\u001b[1;33m,\u001b[0m \u001b[0mQ\u001b[0m\u001b[1;33m)\u001b[0m\u001b[1;33m,\u001b[0m \u001b[0mpermute_l\u001b[0m\u001b[1;33m=\u001b[0m\u001b[1;32mTrue\u001b[0m\u001b[1;33m)\u001b[0m\u001b[1;33m\u001b[0m\u001b[1;33m\u001b[0m\u001b[0m\n\u001b[0;32m    236\u001b[0m         \u001b[1;32melif\u001b[0m \u001b[0mpower_iteration_normalizer\u001b[0m \u001b[1;33m==\u001b[0m \u001b[1;34m'QR'\u001b[0m\u001b[1;33m:\u001b[0m\u001b[1;33m\u001b[0m\u001b[1;33m\u001b[0m\u001b[0m\n",
      "\u001b[1;32m~\\anaconda3\\lib\\site-packages\\scipy\\linalg\\decomp_lu.py\u001b[0m in \u001b[0;36mlu\u001b[1;34m(a, permute_l, overwrite_a, check_finite)\u001b[0m\n\u001b[0;32m    213\u001b[0m     \u001b[0moverwrite_a\u001b[0m \u001b[1;33m=\u001b[0m \u001b[0moverwrite_a\u001b[0m \u001b[1;32mor\u001b[0m \u001b[1;33m(\u001b[0m\u001b[0m_datacopied\u001b[0m\u001b[1;33m(\u001b[0m\u001b[0ma1\u001b[0m\u001b[1;33m,\u001b[0m \u001b[0ma\u001b[0m\u001b[1;33m)\u001b[0m\u001b[1;33m)\u001b[0m\u001b[1;33m\u001b[0m\u001b[1;33m\u001b[0m\u001b[0m\n\u001b[0;32m    214\u001b[0m     \u001b[0mflu\u001b[0m\u001b[1;33m,\u001b[0m \u001b[1;33m=\u001b[0m \u001b[0mget_flinalg_funcs\u001b[0m\u001b[1;33m(\u001b[0m\u001b[1;33m(\u001b[0m\u001b[1;34m'lu'\u001b[0m\u001b[1;33m,\u001b[0m\u001b[1;33m)\u001b[0m\u001b[1;33m,\u001b[0m \u001b[1;33m(\u001b[0m\u001b[0ma1\u001b[0m\u001b[1;33m,\u001b[0m\u001b[1;33m)\u001b[0m\u001b[1;33m)\u001b[0m\u001b[1;33m\u001b[0m\u001b[1;33m\u001b[0m\u001b[0m\n\u001b[1;32m--> 215\u001b[1;33m     \u001b[0mp\u001b[0m\u001b[1;33m,\u001b[0m \u001b[0ml\u001b[0m\u001b[1;33m,\u001b[0m \u001b[0mu\u001b[0m\u001b[1;33m,\u001b[0m \u001b[0minfo\u001b[0m \u001b[1;33m=\u001b[0m \u001b[0mflu\u001b[0m\u001b[1;33m(\u001b[0m\u001b[0ma1\u001b[0m\u001b[1;33m,\u001b[0m \u001b[0mpermute_l\u001b[0m\u001b[1;33m=\u001b[0m\u001b[0mpermute_l\u001b[0m\u001b[1;33m,\u001b[0m \u001b[0moverwrite_a\u001b[0m\u001b[1;33m=\u001b[0m\u001b[0moverwrite_a\u001b[0m\u001b[1;33m)\u001b[0m\u001b[1;33m\u001b[0m\u001b[1;33m\u001b[0m\u001b[0m\n\u001b[0m\u001b[0;32m    216\u001b[0m     \u001b[1;32mif\u001b[0m \u001b[0minfo\u001b[0m \u001b[1;33m<\u001b[0m \u001b[1;36m0\u001b[0m\u001b[1;33m:\u001b[0m\u001b[1;33m\u001b[0m\u001b[1;33m\u001b[0m\u001b[0m\n\u001b[0;32m    217\u001b[0m         raise ValueError('illegal value in %dth argument of '\n",
      "\u001b[1;31mKeyboardInterrupt\u001b[0m: "
     ]
    }
   ],
   "source": [
    "# Get the learning curve of the model with lowest cross-validation rmse\n",
    "mses_train_sm = []\n",
    "mses_val_sm = []\n",
    "for m in range(1, 400):\n",
    "    mse_train_sm, mse_val_sm = train_and_test(df = non_null_data, \n",
    "                                              target = 'saleprice', \n",
    "                                              feature_num =99, \n",
    "                                              training_size=m,\n",
    "                                             feature_selection='pca')\n",
    "    mses_train_sm.append(mse_train_sm)\n",
    "    mses_val_sm.append(mse_val_sm)"
   ]
  },
  {
   "cell_type": "code",
   "execution_count": 29,
   "metadata": {
    "ExecuteTime": {
     "end_time": "2020-10-20T20:02:55.315650Z",
     "start_time": "2020-10-20T20:02:55.200285Z"
    },
    "hidden": true
   },
   "outputs": [
    {
     "data": {
      "text/plain": [
       "Text(0.5, 1.0, 'Learning curve for unregularized linear regression')"
      ]
     },
     "execution_count": 29,
     "metadata": {},
     "output_type": "execute_result"
    },
    {
     "data": {
      "image/png": "[encoded data removed]",
      "text/plain": [
       "<Figure size 432x288 with 1 Axes>"
      ]
     },
     "metadata": {
      "needs_background": "light"
     },
     "output_type": "display_data"
    }
   ],
   "source": [
    "plt.plot(mses_train_sm, color = 'red', label = 'training error')\n",
    "plt.plot(mses_val_sm, color = 'orange', label = 'cross-validation error')\n",
    "plt.legend()\n",
    "plt.xlim(1,400)\n",
    "plt.ylim(0, 0.1e10)\n",
    "plt.title('Learning curve for unregularized linear regression')"
   ]
  },
  {
   "cell_type": "markdown",
   "metadata": {
    "heading_collapsed": true,
    "hidden": true
   },
   "source": [
    "### Model using f_regression & OneHotEncoder as feature selection"
   ]
  },
  {
   "cell_type": "code",
   "execution_count": 30,
   "metadata": {
    "ExecuteTime": {
     "end_time": "2020-10-20T20:22:08.018517Z",
     "start_time": "2020-10-20T20:22:04.964009Z"
    },
    "hidden": true
   },
   "outputs": [
    {
     "name": "stdout",
     "output_type": "stream",
     "text": [
      "Ver.1:\n",
      "Training model with 1 features\n"
     ]
    },
    {
     "name": "stderr",
     "output_type": "stream",
     "text": [
      "C:\\Users\\Roman\\anaconda3\\lib\\site-packages\\sklearn\\utils\\validation.py:68: FutureWarning: Pass k=1 as keyword args. From version 0.25 passing these as positional arguments will result in an error\n",
      "  warnings.warn(\"Pass {} as keyword args. From version 0.25 \"\n"
     ]
    },
    {
     "name": "stdout",
     "output_type": "stream",
     "text": [
      "Model has a training rmse of 29995.450317143182, and cross_validation rmse of 2.3431345623561124e+18.\n",
      "********************\n",
      "Ver.2:\n"
     ]
    },
    {
     "name": "stderr",
     "output_type": "stream",
     "text": [
      "C:\\Users\\Roman\\anaconda3\\lib\\site-packages\\sklearn\\utils\\validation.py:68: FutureWarning: Pass k=2 as keyword args. From version 0.25 passing these as positional arguments will result in an error\n",
      "  warnings.warn(\"Pass {} as keyword args. From version 0.25 \"\n"
     ]
    },
    {
     "name": "stdout",
     "output_type": "stream",
     "text": [
      "Training model with 2 features\n",
      "Model has a training rmse of 25099.323325176843, and cross_validation rmse of 3.045901940307835e+17.\n",
      "********************\n",
      "Ver.3:\n"
     ]
    },
    {
     "name": "stderr",
     "output_type": "stream",
     "text": [
      "C:\\Users\\Roman\\anaconda3\\lib\\site-packages\\sklearn\\utils\\validation.py:68: FutureWarning: Pass k=3 as keyword args. From version 0.25 passing these as positional arguments will result in an error\n",
      "  warnings.warn(\"Pass {} as keyword args. From version 0.25 \"\n"
     ]
    },
    {
     "name": "stdout",
     "output_type": "stream",
     "text": [
      "Training model with 3 features\n",
      "Model has a training rmse of 25181.037686415395, and cross_validation rmse of 6.941603094883337e+17.\n",
      "********************\n",
      "Ver.4:\n"
     ]
    },
    {
     "name": "stderr",
     "output_type": "stream",
     "text": [
      "C:\\Users\\Roman\\anaconda3\\lib\\site-packages\\sklearn\\utils\\validation.py:68: FutureWarning: Pass k=4 as keyword args. From version 0.25 passing these as positional arguments will result in an error\n",
      "  warnings.warn(\"Pass {} as keyword args. From version 0.25 \"\n"
     ]
    },
    {
     "name": "stdout",
     "output_type": "stream",
     "text": [
      "Training model with 4 features\n",
      "Model has a training rmse of 24650.22512783588, and cross_validation rmse of 2.4600303862313664e+17.\n",
      "********************\n",
      "Ver.5:\n"
     ]
    },
    {
     "name": "stderr",
     "output_type": "stream",
     "text": [
      "C:\\Users\\Roman\\anaconda3\\lib\\site-packages\\sklearn\\utils\\validation.py:68: FutureWarning: Pass k=5 as keyword args. From version 0.25 passing these as positional arguments will result in an error\n",
      "  warnings.warn(\"Pass {} as keyword args. From version 0.25 \"\n"
     ]
    },
    {
     "name": "stdout",
     "output_type": "stream",
     "text": [
      "Training model with 5 features\n",
      "Model has a training rmse of 24816.805467848997, and cross_validation rmse of 6.103098983671012e+17.\n",
      "********************\n",
      "Ver.6:\n"
     ]
    },
    {
     "name": "stderr",
     "output_type": "stream",
     "text": [
      "C:\\Users\\Roman\\anaconda3\\lib\\site-packages\\sklearn\\utils\\validation.py:68: FutureWarning: Pass k=6 as keyword args. From version 0.25 passing these as positional arguments will result in an error\n",
      "  warnings.warn(\"Pass {} as keyword args. From version 0.25 \"\n"
     ]
    },
    {
     "name": "stdout",
     "output_type": "stream",
     "text": [
      "Training model with 6 features\n",
      "Model has a training rmse of 24737.4569257603, and cross_validation rmse of 7.20307649311279e+17.\n",
      "********************\n",
      "Ver.7:\n"
     ]
    },
    {
     "name": "stderr",
     "output_type": "stream",
     "text": [
      "C:\\Users\\Roman\\anaconda3\\lib\\site-packages\\sklearn\\utils\\validation.py:68: FutureWarning: Pass k=7 as keyword args. From version 0.25 passing these as positional arguments will result in an error\n",
      "  warnings.warn(\"Pass {} as keyword args. From version 0.25 \"\n"
     ]
    },
    {
     "name": "stdout",
     "output_type": "stream",
     "text": [
      "Training model with 7 features\n",
      "Model has a training rmse of 24674.90550256847, and cross_validation rmse of 6.902635483980108e+17.\n",
      "********************\n",
      "Ver.8:\n"
     ]
    },
    {
     "name": "stderr",
     "output_type": "stream",
     "text": [
      "C:\\Users\\Roman\\anaconda3\\lib\\site-packages\\sklearn\\utils\\validation.py:68: FutureWarning: Pass k=8 as keyword args. From version 0.25 passing these as positional arguments will result in an error\n",
      "  warnings.warn(\"Pass {} as keyword args. From version 0.25 \"\n"
     ]
    },
    {
     "name": "stdout",
     "output_type": "stream",
     "text": [
      "Training model with 8 features\n",
      "Model has a training rmse of 24549.235596468992, and cross_validation rmse of 4.5388357316318266e+17.\n",
      "********************\n",
      "Ver.9:\n"
     ]
    },
    {
     "name": "stderr",
     "output_type": "stream",
     "text": [
      "C:\\Users\\Roman\\anaconda3\\lib\\site-packages\\sklearn\\utils\\validation.py:68: FutureWarning: Pass k=9 as keyword args. From version 0.25 passing these as positional arguments will result in an error\n",
      "  warnings.warn(\"Pass {} as keyword args. From version 0.25 \"\n"
     ]
    },
    {
     "name": "stdout",
     "output_type": "stream",
     "text": [
      "Training model with 9 features\n",
      "Model has a training rmse of 24504.48559887612, and cross_validation rmse of 8.531325158990491e+16.\n",
      "********************\n",
      "Ver.10:\n"
     ]
    },
    {
     "name": "stderr",
     "output_type": "stream",
     "text": [
      "C:\\Users\\Roman\\anaconda3\\lib\\site-packages\\sklearn\\utils\\validation.py:68: FutureWarning: Pass k=10 as keyword args. From version 0.25 passing these as positional arguments will result in an error\n",
      "  warnings.warn(\"Pass {} as keyword args. From version 0.25 \"\n"
     ]
    },
    {
     "name": "stdout",
     "output_type": "stream",
     "text": [
      "Training model with 10 features\n",
      "Model has a training rmse of 24514.875305051464, and cross_validation rmse of 3.818820175008858e+17.\n",
      "********************\n",
      "Ver.11:\n"
     ]
    },
    {
     "name": "stderr",
     "output_type": "stream",
     "text": [
      "C:\\Users\\Roman\\anaconda3\\lib\\site-packages\\sklearn\\utils\\validation.py:68: FutureWarning: Pass k=11 as keyword args. From version 0.25 passing these as positional arguments will result in an error\n",
      "  warnings.warn(\"Pass {} as keyword args. From version 0.25 \"\n"
     ]
    },
    {
     "name": "stdout",
     "output_type": "stream",
     "text": [
      "Training model with 11 features\n",
      "Model has a training rmse of 24728.844122589235, and cross_validation rmse of 8.134344404658673e+17.\n",
      "********************\n",
      "Ver.12:\n"
     ]
    },
    {
     "name": "stderr",
     "output_type": "stream",
     "text": [
      "C:\\Users\\Roman\\anaconda3\\lib\\site-packages\\sklearn\\utils\\validation.py:68: FutureWarning: Pass k=12 as keyword args. From version 0.25 passing these as positional arguments will result in an error\n",
      "  warnings.warn(\"Pass {} as keyword args. From version 0.25 \"\n"
     ]
    },
    {
     "name": "stdout",
     "output_type": "stream",
     "text": [
      "Training model with 12 features\n",
      "Model has a training rmse of 24284.55370416052, and cross_validation rmse of 1.1693595764155549e+17.\n",
      "********************\n",
      "Ver.13:\n"
     ]
    },
    {
     "name": "stderr",
     "output_type": "stream",
     "text": [
      "C:\\Users\\Roman\\anaconda3\\lib\\site-packages\\sklearn\\utils\\validation.py:68: FutureWarning: Pass k=13 as keyword args. From version 0.25 passing these as positional arguments will result in an error\n",
      "  warnings.warn(\"Pass {} as keyword args. From version 0.25 \"\n"
     ]
    },
    {
     "name": "stdout",
     "output_type": "stream",
     "text": [
      "Training model with 13 features\n",
      "Model has a training rmse of 24225.13397560852, and cross_validation rmse of 1.700287912826121e+17.\n",
      "********************\n",
      "Ver.14:\n"
     ]
    },
    {
     "name": "stderr",
     "output_type": "stream",
     "text": [
      "C:\\Users\\Roman\\anaconda3\\lib\\site-packages\\sklearn\\utils\\validation.py:68: FutureWarning: Pass k=14 as keyword args. From version 0.25 passing these as positional arguments will result in an error\n",
      "  warnings.warn(\"Pass {} as keyword args. From version 0.25 \"\n"
     ]
    },
    {
     "name": "stdout",
     "output_type": "stream",
     "text": [
      "Training model with 14 features\n",
      "Model has a training rmse of 23991.139209539633, and cross_validation rmse of 1.0838609687733196e+18.\n",
      "********************\n",
      "Ver.15:\n",
      "Training model with 15 features\n"
     ]
    },
    {
     "name": "stderr",
     "output_type": "stream",
     "text": [
      "C:\\Users\\Roman\\anaconda3\\lib\\site-packages\\sklearn\\utils\\validation.py:68: FutureWarning: Pass k=15 as keyword args. From version 0.25 passing these as positional arguments will result in an error\n",
      "  warnings.warn(\"Pass {} as keyword args. From version 0.25 \"\n"
     ]
    },
    {
     "name": "stdout",
     "output_type": "stream",
     "text": [
      "Model has a training rmse of 23853.145893152123, and cross_validation rmse of 8.437289959218345e+17.\n",
      "********************\n",
      "Ver.16:\n"
     ]
    },
    {
     "name": "stderr",
     "output_type": "stream",
     "text": [
      "C:\\Users\\Roman\\anaconda3\\lib\\site-packages\\sklearn\\utils\\validation.py:68: FutureWarning: Pass k=16 as keyword args. From version 0.25 passing these as positional arguments will result in an error\n",
      "  warnings.warn(\"Pass {} as keyword args. From version 0.25 \"\n"
     ]
    },
    {
     "name": "stdout",
     "output_type": "stream",
     "text": [
      "Training model with 16 features\n",
      "Model has a training rmse of 23844.227806572766, and cross_validation rmse of 2.1765993617125517e+17.\n",
      "********************\n",
      "Ver.17:\n"
     ]
    },
    {
     "name": "stderr",
     "output_type": "stream",
     "text": [
      "C:\\Users\\Roman\\anaconda3\\lib\\site-packages\\sklearn\\utils\\validation.py:68: FutureWarning: Pass k=17 as keyword args. From version 0.25 passing these as positional arguments will result in an error\n",
      "  warnings.warn(\"Pass {} as keyword args. From version 0.25 \"\n"
     ]
    },
    {
     "name": "stdout",
     "output_type": "stream",
     "text": [
      "Training model with 17 features\n",
      "Model has a training rmse of 23809.324683260853, and cross_validation rmse of 7.779643719781139e+17.\n",
      "********************\n",
      "Ver.18:\n"
     ]
    },
    {
     "name": "stderr",
     "output_type": "stream",
     "text": [
      "C:\\Users\\Roman\\anaconda3\\lib\\site-packages\\sklearn\\utils\\validation.py:68: FutureWarning: Pass k=18 as keyword args. From version 0.25 passing these as positional arguments will result in an error\n",
      "  warnings.warn(\"Pass {} as keyword args. From version 0.25 \"\n"
     ]
    },
    {
     "name": "stdout",
     "output_type": "stream",
     "text": [
      "Training model with 18 features\n",
      "Model has a training rmse of 23864.664963508556, and cross_validation rmse of 3.1282792999477005e+17.\n",
      "********************\n",
      "Ver.19:\n"
     ]
    },
    {
     "name": "stderr",
     "output_type": "stream",
     "text": [
      "C:\\Users\\Roman\\anaconda3\\lib\\site-packages\\sklearn\\utils\\validation.py:68: FutureWarning: Pass k=19 as keyword args. From version 0.25 passing these as positional arguments will result in an error\n",
      "  warnings.warn(\"Pass {} as keyword args. From version 0.25 \"\n"
     ]
    },
    {
     "name": "stdout",
     "output_type": "stream",
     "text": [
      "Training model with 19 features\n",
      "Model has a training rmse of 23722.60971027633, and cross_validation rmse of 2.9860547888345536e+17.\n",
      "********************\n",
      "Ver.20:\n"
     ]
    },
    {
     "name": "stderr",
     "output_type": "stream",
     "text": [
      "C:\\Users\\Roman\\anaconda3\\lib\\site-packages\\sklearn\\utils\\validation.py:68: FutureWarning: Pass k=20 as keyword args. From version 0.25 passing these as positional arguments will result in an error\n",
      "  warnings.warn(\"Pass {} as keyword args. From version 0.25 \"\n"
     ]
    },
    {
     "name": "stdout",
     "output_type": "stream",
     "text": [
      "Training model with 20 features\n",
      "Model has a training rmse of 23706.969866478983, and cross_validation rmse of 1.9079426483352202e+17.\n",
      "********************\n",
      "Ver.21:\n"
     ]
    },
    {
     "name": "stderr",
     "output_type": "stream",
     "text": [
      "C:\\Users\\Roman\\anaconda3\\lib\\site-packages\\sklearn\\utils\\validation.py:68: FutureWarning: Pass k=21 as keyword args. From version 0.25 passing these as positional arguments will result in an error\n",
      "  warnings.warn(\"Pass {} as keyword args. From version 0.25 \"\n"
     ]
    },
    {
     "name": "stdout",
     "output_type": "stream",
     "text": [
      "Training model with 21 features\n",
      "Model has a training rmse of 23656.63874035654, and cross_validation rmse of 1.0016215129719311e+18.\n",
      "********************\n",
      "Ver.22:\n"
     ]
    },
    {
     "name": "stderr",
     "output_type": "stream",
     "text": [
      "C:\\Users\\Roman\\anaconda3\\lib\\site-packages\\sklearn\\utils\\validation.py:68: FutureWarning: Pass k=22 as keyword args. From version 0.25 passing these as positional arguments will result in an error\n",
      "  warnings.warn(\"Pass {} as keyword args. From version 0.25 \"\n"
     ]
    },
    {
     "name": "stdout",
     "output_type": "stream",
     "text": [
      "Training model with 22 features\n",
      "Model has a training rmse of 23502.807164615337, and cross_validation rmse of 5.706995405171335e+17.\n",
      "********************\n",
      "Ver.23:\n"
     ]
    },
    {
     "name": "stderr",
     "output_type": "stream",
     "text": [
      "C:\\Users\\Roman\\anaconda3\\lib\\site-packages\\sklearn\\utils\\validation.py:68: FutureWarning: Pass k=23 as keyword args. From version 0.25 passing these as positional arguments will result in an error\n",
      "  warnings.warn(\"Pass {} as keyword args. From version 0.25 \"\n"
     ]
    },
    {
     "name": "stdout",
     "output_type": "stream",
     "text": [
      "Training model with 23 features\n",
      "Model has a training rmse of 23494.047132590335, and cross_validation rmse of 4.962268211951776e+17.\n",
      "********************\n",
      "Ver.24:\n"
     ]
    },
    {
     "name": "stderr",
     "output_type": "stream",
     "text": [
      "C:\\Users\\Roman\\anaconda3\\lib\\site-packages\\sklearn\\utils\\validation.py:68: FutureWarning: Pass k=24 as keyword args. From version 0.25 passing these as positional arguments will result in an error\n",
      "  warnings.warn(\"Pass {} as keyword args. From version 0.25 \"\n"
     ]
    },
    {
     "name": "stdout",
     "output_type": "stream",
     "text": [
      "Training model with 24 features\n",
      "Model has a training rmse of 23514.41111770685, and cross_validation rmse of 1.5462438352525827e+18.\n",
      "********************\n",
      "Ver.25:\n"
     ]
    },
    {
     "name": "stderr",
     "output_type": "stream",
     "text": [
      "C:\\Users\\Roman\\anaconda3\\lib\\site-packages\\sklearn\\utils\\validation.py:68: FutureWarning: Pass k=25 as keyword args. From version 0.25 passing these as positional arguments will result in an error\n",
      "  warnings.warn(\"Pass {} as keyword args. From version 0.25 \"\n"
     ]
    },
    {
     "name": "stdout",
     "output_type": "stream",
     "text": [
      "Training model with 25 features\n",
      "Model has a training rmse of 23458.479723051303, and cross_validation rmse of 3.0263060232274304e+17.\n",
      "********************\n",
      "Ver.26:\n"
     ]
    },
    {
     "name": "stderr",
     "output_type": "stream",
     "text": [
      "C:\\Users\\Roman\\anaconda3\\lib\\site-packages\\sklearn\\utils\\validation.py:68: FutureWarning: Pass k=26 as keyword args. From version 0.25 passing these as positional arguments will result in an error\n",
      "  warnings.warn(\"Pass {} as keyword args. From version 0.25 \"\n"
     ]
    },
    {
     "name": "stdout",
     "output_type": "stream",
     "text": [
      "Training model with 26 features\n",
      "Model has a training rmse of 23331.067474488715, and cross_validation rmse of 5.394600330773336e+17.\n",
      "********************\n",
      "Ver.27:\n"
     ]
    },
    {
     "name": "stderr",
     "output_type": "stream",
     "text": [
      "C:\\Users\\Roman\\anaconda3\\lib\\site-packages\\sklearn\\utils\\validation.py:68: FutureWarning: Pass k=27 as keyword args. From version 0.25 passing these as positional arguments will result in an error\n",
      "  warnings.warn(\"Pass {} as keyword args. From version 0.25 \"\n"
     ]
    },
    {
     "name": "stdout",
     "output_type": "stream",
     "text": [
      "Training model with 27 features\n",
      "Model has a training rmse of 23013.79448096219, and cross_validation rmse of 4.194372607563285e+17.\n",
      "********************\n",
      "Ver.28:\n"
     ]
    },
    {
     "name": "stderr",
     "output_type": "stream",
     "text": [
      "C:\\Users\\Roman\\anaconda3\\lib\\site-packages\\sklearn\\utils\\validation.py:68: FutureWarning: Pass k=28 as keyword args. From version 0.25 passing these as positional arguments will result in an error\n",
      "  warnings.warn(\"Pass {} as keyword args. From version 0.25 \"\n"
     ]
    },
    {
     "name": "stdout",
     "output_type": "stream",
     "text": [
      "Training model with 28 features\n",
      "Model has a training rmse of 22997.626797952256, and cross_validation rmse of 1.204666285691333e+17.\n",
      "********************\n",
      "Ver.29:\n"
     ]
    },
    {
     "name": "stderr",
     "output_type": "stream",
     "text": [
      "C:\\Users\\Roman\\anaconda3\\lib\\site-packages\\sklearn\\utils\\validation.py:68: FutureWarning: Pass k=29 as keyword args. From version 0.25 passing these as positional arguments will result in an error\n",
      "  warnings.warn(\"Pass {} as keyword args. From version 0.25 \"\n"
     ]
    },
    {
     "name": "stdout",
     "output_type": "stream",
     "text": [
      "Training model with 29 features\n",
      "Model has a training rmse of 22961.150866296823, and cross_validation rmse of 3.0720540090526584e+16.\n",
      "********************\n",
      "Ver.30:\n"
     ]
    },
    {
     "name": "stderr",
     "output_type": "stream",
     "text": [
      "C:\\Users\\Roman\\anaconda3\\lib\\site-packages\\sklearn\\utils\\validation.py:68: FutureWarning: Pass k=30 as keyword args. From version 0.25 passing these as positional arguments will result in an error\n",
      "  warnings.warn(\"Pass {} as keyword args. From version 0.25 \"\n"
     ]
    },
    {
     "name": "stdout",
     "output_type": "stream",
     "text": [
      "Training model with 30 features\n",
      "Model has a training rmse of 22961.449525143802, and cross_validation rmse of 2.683402987801268e+17.\n",
      "********************\n",
      "Ver.31:\n"
     ]
    },
    {
     "name": "stderr",
     "output_type": "stream",
     "text": [
      "C:\\Users\\Roman\\anaconda3\\lib\\site-packages\\sklearn\\utils\\validation.py:68: FutureWarning: Pass k=31 as keyword args. From version 0.25 passing these as positional arguments will result in an error\n",
      "  warnings.warn(\"Pass {} as keyword args. From version 0.25 \"\n"
     ]
    },
    {
     "name": "stdout",
     "output_type": "stream",
     "text": [
      "Training model with 31 features\n",
      "Model has a training rmse of 22940.697552304828, and cross_validation rmse of 3.898656608113598e+16.\n",
      "********************\n",
      "Ver.32:\n"
     ]
    },
    {
     "name": "stderr",
     "output_type": "stream",
     "text": [
      "C:\\Users\\Roman\\anaconda3\\lib\\site-packages\\sklearn\\utils\\validation.py:68: FutureWarning: Pass k=32 as keyword args. From version 0.25 passing these as positional arguments will result in an error\n",
      "  warnings.warn(\"Pass {} as keyword args. From version 0.25 \"\n"
     ]
    },
    {
     "name": "stdout",
     "output_type": "stream",
     "text": [
      "Training model with 32 features\n",
      "Model has a training rmse of 22928.21212034047, and cross_validation rmse of 1.2218052066584474e+17.\n",
      "********************\n",
      "Ver.33:\n"
     ]
    },
    {
     "name": "stderr",
     "output_type": "stream",
     "text": [
      "C:\\Users\\Roman\\anaconda3\\lib\\site-packages\\sklearn\\utils\\validation.py:68: FutureWarning: Pass k=33 as keyword args. From version 0.25 passing these as positional arguments will result in an error\n",
      "  warnings.warn(\"Pass {} as keyword args. From version 0.25 \"\n"
     ]
    },
    {
     "name": "stdout",
     "output_type": "stream",
     "text": [
      "Training model with 33 features\n",
      "Model has a training rmse of 22920.583549934232, and cross_validation rmse of 1.4192808031601635e+17.\n",
      "********************\n",
      "Ver.34:\n"
     ]
    },
    {
     "name": "stderr",
     "output_type": "stream",
     "text": [
      "C:\\Users\\Roman\\anaconda3\\lib\\site-packages\\sklearn\\utils\\validation.py:68: FutureWarning: Pass k=34 as keyword args. From version 0.25 passing these as positional arguments will result in an error\n",
      "  warnings.warn(\"Pass {} as keyword args. From version 0.25 \"\n"
     ]
    },
    {
     "name": "stdout",
     "output_type": "stream",
     "text": [
      "Training model with 34 features\n",
      "Model has a training rmse of 22906.913170258093, and cross_validation rmse of 3.043254197343083e+17.\n",
      "********************\n",
      "Ver.35:\n"
     ]
    },
    {
     "name": "stderr",
     "output_type": "stream",
     "text": [
      "C:\\Users\\Roman\\anaconda3\\lib\\site-packages\\sklearn\\utils\\validation.py:68: FutureWarning: Pass k=35 as keyword args. From version 0.25 passing these as positional arguments will result in an error\n",
      "  warnings.warn(\"Pass {} as keyword args. From version 0.25 \"\n"
     ]
    },
    {
     "name": "stdout",
     "output_type": "stream",
     "text": [
      "Training model with 35 features\n",
      "Model has a training rmse of 22269.986529764617, and cross_validation rmse of 5.21579035018423e+17.\n",
      "********************\n",
      "Ver.36:\n"
     ]
    },
    {
     "name": "stderr",
     "output_type": "stream",
     "text": [
      "C:\\Users\\Roman\\anaconda3\\lib\\site-packages\\sklearn\\utils\\validation.py:68: FutureWarning: Pass k=36 as keyword args. From version 0.25 passing these as positional arguments will result in an error\n",
      "  warnings.warn(\"Pass {} as keyword args. From version 0.25 \"\n"
     ]
    },
    {
     "name": "stdout",
     "output_type": "stream",
     "text": [
      "Training model with 36 features\n",
      "Model has a training rmse of 22296.22539581206, and cross_validation rmse of 3.095724576991579e+17.\n",
      "********************\n"
     ]
    }
   ],
   "source": [
    "# Train and test on different number of numerical features with type sensitive feature selection\n",
    "rmses_train_bytype = {}\n",
    "rmses_val_bytype = {}\n",
    "\n",
    "# There are 37 numerical columns in total\n",
    "for i in range(1, 37):\n",
    "    print('Ver.{}:'.format(i))\n",
    "    rmse_train, rmse_val = train_and_test(df = non_null_data, \n",
    "                                          target = 'saleprice', \n",
    "                                          feature_num = i, \n",
    "                                          feature_selection='type')\n",
    "    rmses_train_bytype['Model with {} numerical features'.format(i)] = rmse_train\n",
    "    rmses_val_bytype['Model with {} numerical features'.format(i)]  = rmse_val"
   ]
  },
  {
   "cell_type": "code",
   "execution_count": 31,
   "metadata": {
    "ExecuteTime": {
     "end_time": "2020-10-20T20:22:08.878611Z",
     "start_time": "2020-10-20T20:22:08.875742Z"
    },
    "hidden": true
   },
   "outputs": [
    {
     "name": "stdout",
     "output_type": "stream",
     "text": [
      "Model with 29 numerical features has the lowest cross-validation rmse: 3.0720540090526584e+16\n"
     ]
    }
   ],
   "source": [
    "best_performance(rmses_val_bytype)"
   ]
  },
  {
   "cell_type": "code",
   "execution_count": 32,
   "metadata": {
    "ExecuteTime": {
     "end_time": "2020-10-20T20:22:40.443251Z",
     "start_time": "2020-10-20T20:22:11.451707Z"
    },
    "hidden": true
   },
   "outputs": [
    {
     "name": "stderr",
     "output_type": "stream",
     "text": [
      "C:\\Users\\Roman\\anaconda3\\lib\\site-packages\\sklearn\\utils\\validation.py:68: FutureWarning: Pass k=29 as keyword args. From version 0.25 passing these as positional arguments will result in an error\n",
      "  warnings.warn(\"Pass {} as keyword args. From version 0.25 \"\n",
      "C:\\Users\\Roman\\anaconda3\\lib\\site-packages\\sklearn\\utils\\validation.py:68: FutureWarning: Pass k=29 as keyword args. From version 0.25 passing these as positional arguments will result in an error\n",
      "  warnings.warn(\"Pass {} as keyword args. From version 0.25 \"\n",
      "C:\\Users\\Roman\\anaconda3\\lib\\site-packages\\sklearn\\utils\\validation.py:68: FutureWarning: Pass k=29 as keyword args. From version 0.25 passing these as positional arguments will result in an error\n",
      "  warnings.warn(\"Pass {} as keyword args. From version 0.25 \"\n",
      "C:\\Users\\Roman\\anaconda3\\lib\\site-packages\\sklearn\\utils\\validation.py:68: FutureWarning: Pass k=29 as keyword args. From version 0.25 passing these as positional arguments will result in an error\n",
      "  warnings.warn(\"Pass {} as keyword args. From version 0.25 \"\n",
      "C:\\Users\\Roman\\anaconda3\\lib\\site-packages\\sklearn\\utils\\validation.py:68: FutureWarning: Pass k=29 as keyword args. From version 0.25 passing these as positional arguments will result in an error\n",
      "  warnings.warn(\"Pass {} as keyword args. From version 0.25 \"\n",
      "C:\\Users\\Roman\\anaconda3\\lib\\site-packages\\sklearn\\utils\\validation.py:68: FutureWarning: Pass k=29 as keyword args. From version 0.25 passing these as positional arguments will result in an error\n",
      "  warnings.warn(\"Pass {} as keyword args. From version 0.25 \"\n",
      "C:\\Users\\Roman\\anaconda3\\lib\\site-packages\\sklearn\\utils\\validation.py:68: FutureWarning: Pass k=29 as keyword args. From version 0.25 passing these as positional arguments will result in an error\n",
      "  warnings.warn(\"Pass {} as keyword args. From version 0.25 \"\n",
      "C:\\Users\\Roman\\anaconda3\\lib\\site-packages\\sklearn\\utils\\validation.py:68: FutureWarning: Pass k=29 as keyword args. From version 0.25 passing these as positional arguments will result in an error\n",
      "  warnings.warn(\"Pass {} as keyword args. From version 0.25 \"\n",
      "C:\\Users\\Roman\\anaconda3\\lib\\site-packages\\sklearn\\utils\\validation.py:68: FutureWarning: Pass k=29 as keyword args. From version 0.25 passing these as positional arguments will result in an error\n",
      "  warnings.warn(\"Pass {} as keyword args. From version 0.25 \"\n",
      "C:\\Users\\Roman\\anaconda3\\lib\\site-packages\\sklearn\\utils\\validation.py:68: FutureWarning: Pass k=29 as keyword args. From version 0.25 passing these as positional arguments will result in an error\n",
      "  warnings.warn(\"Pass {} as keyword args. From version 0.25 \"\n",
      "C:\\Users\\Roman\\anaconda3\\lib\\site-packages\\sklearn\\utils\\validation.py:68: FutureWarning: Pass k=29 as keyword args. From version 0.25 passing these as positional arguments will result in an error\n",
      "  warnings.warn(\"Pass {} as keyword args. From version 0.25 \"\n",
      "C:\\Users\\Roman\\anaconda3\\lib\\site-packages\\sklearn\\utils\\validation.py:68: FutureWarning: Pass k=29 as keyword args. From version 0.25 passing these as positional arguments will result in an error\n",
      "  warnings.warn(\"Pass {} as keyword args. From version 0.25 \"\n",
      "C:\\Users\\Roman\\anaconda3\\lib\\site-packages\\sklearn\\utils\\validation.py:68: FutureWarning: Pass k=29 as keyword args. From version 0.25 passing these as positional arguments will result in an error\n",
      "  warnings.warn(\"Pass {} as keyword args. From version 0.25 \"\n",
      "C:\\Users\\Roman\\anaconda3\\lib\\site-packages\\sklearn\\utils\\validation.py:68: FutureWarning: Pass k=29 as keyword args. From version 0.25 passing these as positional arguments will result in an error\n",
      "  warnings.warn(\"Pass {} as keyword args. From version 0.25 \"\n",
      "C:\\Users\\Roman\\anaconda3\\lib\\site-packages\\sklearn\\utils\\validation.py:68: FutureWarning: Pass k=29 as keyword args. From version 0.25 passing these as positional arguments will result in an error\n",
      "  warnings.warn(\"Pass {} as keyword args. From version 0.25 \"\n",
      "C:\\Users\\Roman\\anaconda3\\lib\\site-packages\\sklearn\\utils\\validation.py:68: FutureWarning: Pass k=29 as keyword args. From version 0.25 passing these as positional arguments will result in an error\n",
      "  warnings.warn(\"Pass {} as keyword args. From version 0.25 \"\n",
      "C:\\Users\\Roman\\anaconda3\\lib\\site-packages\\sklearn\\utils\\validation.py:68: FutureWarning: Pass k=29 as keyword args. From version 0.25 passing these as positional arguments will result in an error\n",
      "  warnings.warn(\"Pass {} as keyword args. From version 0.25 \"\n",
      "C:\\Users\\Roman\\anaconda3\\lib\\site-packages\\sklearn\\utils\\validation.py:68: FutureWarning: Pass k=29 as keyword args. From version 0.25 passing these as positional arguments will result in an error\n",
      "  warnings.warn(\"Pass {} as keyword args. From version 0.25 \"\n",
      "C:\\Users\\Roman\\anaconda3\\lib\\site-packages\\sklearn\\utils\\validation.py:68: FutureWarning: Pass k=29 as keyword args. From version 0.25 passing these as positional arguments will result in an error\n",
      "  warnings.warn(\"Pass {} as keyword args. From version 0.25 \"\n",
      "C:\\Users\\Roman\\anaconda3\\lib\\site-packages\\sklearn\\utils\\validation.py:68: FutureWarning: Pass k=29 as keyword args. From version 0.25 passing these as positional arguments will result in an error\n",
      "  warnings.warn(\"Pass {} as keyword args. From version 0.25 \"\n",
      "C:\\Users\\Roman\\anaconda3\\lib\\site-packages\\sklearn\\utils\\validation.py:68: FutureWarning: Pass k=29 as keyword args. From version 0.25 passing these as positional arguments will result in an error\n",
      "  warnings.warn(\"Pass {} as keyword args. From version 0.25 \"\n",
      "C:\\Users\\Roman\\anaconda3\\lib\\site-packages\\sklearn\\utils\\validation.py:68: FutureWarning: Pass k=29 as keyword args. From version 0.25 passing these as positional arguments will result in an error\n",
      "  warnings.warn(\"Pass {} as keyword args. From version 0.25 \"\n",
      "C:\\Users\\Roman\\anaconda3\\lib\\site-packages\\sklearn\\utils\\validation.py:68: FutureWarning: Pass k=29 as keyword args. From version 0.25 passing these as positional arguments will result in an error\n",
      "  warnings.warn(\"Pass {} as keyword args. From version 0.25 \"\n",
      "C:\\Users\\Roman\\anaconda3\\lib\\site-packages\\sklearn\\utils\\validation.py:68: FutureWarning: Pass k=29 as keyword args. From version 0.25 passing these as positional arguments will result in an error\n",
      "  warnings.warn(\"Pass {} as keyword args. From version 0.25 \"\n",
      "C:\\Users\\Roman\\anaconda3\\lib\\site-packages\\sklearn\\utils\\validation.py:68: FutureWarning: Pass k=29 as keyword args. From version 0.25 passing these as positional arguments will result in an error\n",
      "  warnings.warn(\"Pass {} as keyword args. From version 0.25 \"\n",
      "C:\\Users\\Roman\\anaconda3\\lib\\site-packages\\sklearn\\utils\\validation.py:68: FutureWarning: Pass k=29 as keyword args. From version 0.25 passing these as positional arguments will result in an error\n",
      "  warnings.warn(\"Pass {} as keyword args. From version 0.25 \"\n",
      "C:\\Users\\Roman\\anaconda3\\lib\\site-packages\\sklearn\\utils\\validation.py:68: FutureWarning: Pass k=29 as keyword args. From version 0.25 passing these as positional arguments will result in an error\n",
      "  warnings.warn(\"Pass {} as keyword args. From version 0.25 \"\n",
      "C:\\Users\\Roman\\anaconda3\\lib\\site-packages\\sklearn\\utils\\validation.py:68: FutureWarning: Pass k=29 as keyword args. From version 0.25 passing these as positional arguments will result in an error\n",
      "  warnings.warn(\"Pass {} as keyword args. From version 0.25 \"\n",
      "C:\\Users\\Roman\\anaconda3\\lib\\site-packages\\sklearn\\utils\\validation.py:68: FutureWarning: Pass k=29 as keyword args. From version 0.25 passing these as positional arguments will result in an error\n",
      "  warnings.warn(\"Pass {} as keyword args. From version 0.25 \"\n",
      "C:\\Users\\Roman\\anaconda3\\lib\\site-packages\\sklearn\\utils\\validation.py:68: FutureWarning: Pass k=29 as keyword args. From version 0.25 passing these as positional arguments will result in an error\n",
      "  warnings.warn(\"Pass {} as keyword args. From version 0.25 \"\n",
      "C:\\Users\\Roman\\anaconda3\\lib\\site-packages\\sklearn\\utils\\validation.py:68: FutureWarning: Pass k=29 as keyword args. From version 0.25 passing these as positional arguments will result in an error\n",
      "  warnings.warn(\"Pass {} as keyword args. From version 0.25 \"\n",
      "C:\\Users\\Roman\\anaconda3\\lib\\site-packages\\sklearn\\utils\\validation.py:68: FutureWarning: Pass k=29 as keyword args. From version 0.25 passing these as positional arguments will result in an error\n",
      "  warnings.warn(\"Pass {} as keyword args. From version 0.25 \"\n"
     ]
    },
    {
     "name": "stderr",
     "output_type": "stream",
     "text": [
      "C:\\Users\\Roman\\anaconda3\\lib\\site-packages\\sklearn\\utils\\validation.py:68: FutureWarning: Pass k=29 as keyword args. From version 0.25 passing these as positional arguments will result in an error\n",
      "  warnings.warn(\"Pass {} as keyword args. From version 0.25 \"\n",
      "C:\\Users\\Roman\\anaconda3\\lib\\site-packages\\sklearn\\utils\\validation.py:68: FutureWarning: Pass k=29 as keyword args. From version 0.25 passing these as positional arguments will result in an error\n",
      "  warnings.warn(\"Pass {} as keyword args. From version 0.25 \"\n",
      "C:\\Users\\Roman\\anaconda3\\lib\\site-packages\\sklearn\\utils\\validation.py:68: FutureWarning: Pass k=29 as keyword args. From version 0.25 passing these as positional arguments will result in an error\n",
      "  warnings.warn(\"Pass {} as keyword args. From version 0.25 \"\n",
      "C:\\Users\\Roman\\anaconda3\\lib\\site-packages\\sklearn\\utils\\validation.py:68: FutureWarning: Pass k=29 as keyword args. From version 0.25 passing these as positional arguments will result in an error\n",
      "  warnings.warn(\"Pass {} as keyword args. From version 0.25 \"\n",
      "C:\\Users\\Roman\\anaconda3\\lib\\site-packages\\sklearn\\utils\\validation.py:68: FutureWarning: Pass k=29 as keyword args. From version 0.25 passing these as positional arguments will result in an error\n",
      "  warnings.warn(\"Pass {} as keyword args. From version 0.25 \"\n",
      "C:\\Users\\Roman\\anaconda3\\lib\\site-packages\\sklearn\\utils\\validation.py:68: FutureWarning: Pass k=29 as keyword args. From version 0.25 passing these as positional arguments will result in an error\n",
      "  warnings.warn(\"Pass {} as keyword args. From version 0.25 \"\n",
      "C:\\Users\\Roman\\anaconda3\\lib\\site-packages\\sklearn\\utils\\validation.py:68: FutureWarning: Pass k=29 as keyword args. From version 0.25 passing these as positional arguments will result in an error\n",
      "  warnings.warn(\"Pass {} as keyword args. From version 0.25 \"\n",
      "C:\\Users\\Roman\\anaconda3\\lib\\site-packages\\sklearn\\utils\\validation.py:68: FutureWarning: Pass k=29 as keyword args. From version 0.25 passing these as positional arguments will result in an error\n",
      "  warnings.warn(\"Pass {} as keyword args. From version 0.25 \"\n",
      "C:\\Users\\Roman\\anaconda3\\lib\\site-packages\\sklearn\\utils\\validation.py:68: FutureWarning: Pass k=29 as keyword args. From version 0.25 passing these as positional arguments will result in an error\n",
      "  warnings.warn(\"Pass {} as keyword args. From version 0.25 \"\n",
      "C:\\Users\\Roman\\anaconda3\\lib\\site-packages\\sklearn\\utils\\validation.py:68: FutureWarning: Pass k=29 as keyword args. From version 0.25 passing these as positional arguments will result in an error\n",
      "  warnings.warn(\"Pass {} as keyword args. From version 0.25 \"\n",
      "C:\\Users\\Roman\\anaconda3\\lib\\site-packages\\sklearn\\utils\\validation.py:68: FutureWarning: Pass k=29 as keyword args. From version 0.25 passing these as positional arguments will result in an error\n",
      "  warnings.warn(\"Pass {} as keyword args. From version 0.25 \"\n",
      "C:\\Users\\Roman\\anaconda3\\lib\\site-packages\\sklearn\\utils\\validation.py:68: FutureWarning: Pass k=29 as keyword args. From version 0.25 passing these as positional arguments will result in an error\n",
      "  warnings.warn(\"Pass {} as keyword args. From version 0.25 \"\n",
      "C:\\Users\\Roman\\anaconda3\\lib\\site-packages\\sklearn\\utils\\validation.py:68: FutureWarning: Pass k=29 as keyword args. From version 0.25 passing these as positional arguments will result in an error\n",
      "  warnings.warn(\"Pass {} as keyword args. From version 0.25 \"\n",
      "C:\\Users\\Roman\\anaconda3\\lib\\site-packages\\sklearn\\utils\\validation.py:68: FutureWarning: Pass k=29 as keyword args. From version 0.25 passing these as positional arguments will result in an error\n",
      "  warnings.warn(\"Pass {} as keyword args. From version 0.25 \"\n",
      "C:\\Users\\Roman\\anaconda3\\lib\\site-packages\\sklearn\\utils\\validation.py:68: FutureWarning: Pass k=29 as keyword args. From version 0.25 passing these as positional arguments will result in an error\n",
      "  warnings.warn(\"Pass {} as keyword args. From version 0.25 \"\n",
      "C:\\Users\\Roman\\anaconda3\\lib\\site-packages\\sklearn\\utils\\validation.py:68: FutureWarning: Pass k=29 as keyword args. From version 0.25 passing these as positional arguments will result in an error\n",
      "  warnings.warn(\"Pass {} as keyword args. From version 0.25 \"\n",
      "C:\\Users\\Roman\\anaconda3\\lib\\site-packages\\sklearn\\utils\\validation.py:68: FutureWarning: Pass k=29 as keyword args. From version 0.25 passing these as positional arguments will result in an error\n",
      "  warnings.warn(\"Pass {} as keyword args. From version 0.25 \"\n",
      "C:\\Users\\Roman\\anaconda3\\lib\\site-packages\\sklearn\\utils\\validation.py:68: FutureWarning: Pass k=29 as keyword args. From version 0.25 passing these as positional arguments will result in an error\n",
      "  warnings.warn(\"Pass {} as keyword args. From version 0.25 \"\n",
      "C:\\Users\\Roman\\anaconda3\\lib\\site-packages\\sklearn\\utils\\validation.py:68: FutureWarning: Pass k=29 as keyword args. From version 0.25 passing these as positional arguments will result in an error\n",
      "  warnings.warn(\"Pass {} as keyword args. From version 0.25 \"\n",
      "C:\\Users\\Roman\\anaconda3\\lib\\site-packages\\sklearn\\utils\\validation.py:68: FutureWarning: Pass k=29 as keyword args. From version 0.25 passing these as positional arguments will result in an error\n",
      "  warnings.warn(\"Pass {} as keyword args. From version 0.25 \"\n",
      "C:\\Users\\Roman\\anaconda3\\lib\\site-packages\\sklearn\\utils\\validation.py:68: FutureWarning: Pass k=29 as keyword args. From version 0.25 passing these as positional arguments will result in an error\n",
      "  warnings.warn(\"Pass {} as keyword args. From version 0.25 \"\n",
      "C:\\Users\\Roman\\anaconda3\\lib\\site-packages\\sklearn\\utils\\validation.py:68: FutureWarning: Pass k=29 as keyword args. From version 0.25 passing these as positional arguments will result in an error\n",
      "  warnings.warn(\"Pass {} as keyword args. From version 0.25 \"\n",
      "C:\\Users\\Roman\\anaconda3\\lib\\site-packages\\sklearn\\utils\\validation.py:68: FutureWarning: Pass k=29 as keyword args. From version 0.25 passing these as positional arguments will result in an error\n",
      "  warnings.warn(\"Pass {} as keyword args. From version 0.25 \"\n",
      "C:\\Users\\Roman\\anaconda3\\lib\\site-packages\\sklearn\\utils\\validation.py:68: FutureWarning: Pass k=29 as keyword args. From version 0.25 passing these as positional arguments will result in an error\n",
      "  warnings.warn(\"Pass {} as keyword args. From version 0.25 \"\n",
      "C:\\Users\\Roman\\anaconda3\\lib\\site-packages\\sklearn\\utils\\validation.py:68: FutureWarning: Pass k=29 as keyword args. From version 0.25 passing these as positional arguments will result in an error\n",
      "  warnings.warn(\"Pass {} as keyword args. From version 0.25 \"\n",
      "C:\\Users\\Roman\\anaconda3\\lib\\site-packages\\sklearn\\utils\\validation.py:68: FutureWarning: Pass k=29 as keyword args. From version 0.25 passing these as positional arguments will result in an error\n",
      "  warnings.warn(\"Pass {} as keyword args. From version 0.25 \"\n",
      "C:\\Users\\Roman\\anaconda3\\lib\\site-packages\\sklearn\\utils\\validation.py:68: FutureWarning: Pass k=29 as keyword args. From version 0.25 passing these as positional arguments will result in an error\n",
      "  warnings.warn(\"Pass {} as keyword args. From version 0.25 \"\n",
      "C:\\Users\\Roman\\anaconda3\\lib\\site-packages\\sklearn\\utils\\validation.py:68: FutureWarning: Pass k=29 as keyword args. From version 0.25 passing these as positional arguments will result in an error\n",
      "  warnings.warn(\"Pass {} as keyword args. From version 0.25 \"\n",
      "C:\\Users\\Roman\\anaconda3\\lib\\site-packages\\sklearn\\utils\\validation.py:68: FutureWarning: Pass k=29 as keyword args. From version 0.25 passing these as positional arguments will result in an error\n",
      "  warnings.warn(\"Pass {} as keyword args. From version 0.25 \"\n",
      "C:\\Users\\Roman\\anaconda3\\lib\\site-packages\\sklearn\\utils\\validation.py:68: FutureWarning: Pass k=29 as keyword args. From version 0.25 passing these as positional arguments will result in an error\n",
      "  warnings.warn(\"Pass {} as keyword args. From version 0.25 \"\n",
      "C:\\Users\\Roman\\anaconda3\\lib\\site-packages\\sklearn\\utils\\validation.py:68: FutureWarning: Pass k=29 as keyword args. From version 0.25 passing these as positional arguments will result in an error\n",
      "  warnings.warn(\"Pass {} as keyword args. From version 0.25 \"\n",
      "C:\\Users\\Roman\\anaconda3\\lib\\site-packages\\sklearn\\utils\\validation.py:68: FutureWarning: Pass k=29 as keyword args. From version 0.25 passing these as positional arguments will result in an error\n",
      "  warnings.warn(\"Pass {} as keyword args. From version 0.25 \"\n"
     ]
    },
    {
     "name": "stderr",
     "output_type": "stream",
     "text": [
      "C:\\Users\\Roman\\anaconda3\\lib\\site-packages\\sklearn\\utils\\validation.py:68: FutureWarning: Pass k=29 as keyword args. From version 0.25 passing these as positional arguments will result in an error\n",
      "  warnings.warn(\"Pass {} as keyword args. From version 0.25 \"\n",
      "C:\\Users\\Roman\\anaconda3\\lib\\site-packages\\sklearn\\utils\\validation.py:68: FutureWarning: Pass k=29 as keyword args. From version 0.25 passing these as positional arguments will result in an error\n",
      "  warnings.warn(\"Pass {} as keyword args. From version 0.25 \"\n",
      "C:\\Users\\Roman\\anaconda3\\lib\\site-packages\\sklearn\\utils\\validation.py:68: FutureWarning: Pass k=29 as keyword args. From version 0.25 passing these as positional arguments will result in an error\n",
      "  warnings.warn(\"Pass {} as keyword args. From version 0.25 \"\n",
      "C:\\Users\\Roman\\anaconda3\\lib\\site-packages\\sklearn\\utils\\validation.py:68: FutureWarning: Pass k=29 as keyword args. From version 0.25 passing these as positional arguments will result in an error\n",
      "  warnings.warn(\"Pass {} as keyword args. From version 0.25 \"\n",
      "C:\\Users\\Roman\\anaconda3\\lib\\site-packages\\sklearn\\utils\\validation.py:68: FutureWarning: Pass k=29 as keyword args. From version 0.25 passing these as positional arguments will result in an error\n",
      "  warnings.warn(\"Pass {} as keyword args. From version 0.25 \"\n",
      "C:\\Users\\Roman\\anaconda3\\lib\\site-packages\\sklearn\\utils\\validation.py:68: FutureWarning: Pass k=29 as keyword args. From version 0.25 passing these as positional arguments will result in an error\n",
      "  warnings.warn(\"Pass {} as keyword args. From version 0.25 \"\n"
     ]
    },
    {
     "ename": "SystemError",
     "evalue": "PyEval_EvalFrameEx returned a result with an error set",
     "output_type": "error",
     "traceback": [
      "\u001b[1;31m---------------------------------------------------------------------------\u001b[0m",
      "\u001b[1;31mKeyboardInterrupt\u001b[0m                         Traceback (most recent call last)",
      "\u001b[1;32m~\\anaconda3\\lib\\site-packages\\pandas\\core\\dtypes\\dtypes.py\u001b[0m in \u001b[0;36m__hash__\u001b[1;34m(self)\u001b[0m\n\u001b[0;32m    389\u001b[0m         \u001b[1;31m# We *do* want to include the real self.ordered here\u001b[0m\u001b[1;33m\u001b[0m\u001b[1;33m\u001b[0m\u001b[1;33m\u001b[0m\u001b[0m\n\u001b[1;32m--> 390\u001b[1;33m         \u001b[1;32mreturn\u001b[0m \u001b[0mint\u001b[0m\u001b[1;33m(\u001b[0m\u001b[0mself\u001b[0m\u001b[1;33m.\u001b[0m\u001b[0m_hash_categories\u001b[0m\u001b[1;33m(\u001b[0m\u001b[0mself\u001b[0m\u001b[1;33m.\u001b[0m\u001b[0mcategories\u001b[0m\u001b[1;33m,\u001b[0m \u001b[0mself\u001b[0m\u001b[1;33m.\u001b[0m\u001b[0mordered\u001b[0m\u001b[1;33m)\u001b[0m\u001b[1;33m)\u001b[0m\u001b[1;33m\u001b[0m\u001b[1;33m\u001b[0m\u001b[0m\n\u001b[0m\u001b[0;32m    391\u001b[0m \u001b[1;33m\u001b[0m\u001b[0m\n",
      "\u001b[1;32m~\\anaconda3\\lib\\site-packages\\pandas\\core\\dtypes\\dtypes.py\u001b[0m in \u001b[0;36m_hash_categories\u001b[1;34m(categories, ordered)\u001b[0m\n\u001b[0;32m    473\u001b[0m \u001b[1;33m\u001b[0m\u001b[0m\n\u001b[1;32m--> 474\u001b[1;33m             \u001b[0mcat_array\u001b[0m \u001b[1;33m=\u001b[0m \u001b[0mhash_array\u001b[0m\u001b[1;33m(\u001b[0m\u001b[0mnp\u001b[0m\u001b[1;33m.\u001b[0m\u001b[0masarray\u001b[0m\u001b[1;33m(\u001b[0m\u001b[0mcategories\u001b[0m\u001b[1;33m)\u001b[0m\u001b[1;33m,\u001b[0m \u001b[0mcategorize\u001b[0m\u001b[1;33m=\u001b[0m\u001b[1;32mFalse\u001b[0m\u001b[1;33m)\u001b[0m\u001b[1;33m\u001b[0m\u001b[1;33m\u001b[0m\u001b[0m\n\u001b[0m\u001b[0;32m    475\u001b[0m         \u001b[1;32mif\u001b[0m \u001b[0mordered\u001b[0m\u001b[1;33m:\u001b[0m\u001b[1;33m\u001b[0m\u001b[1;33m\u001b[0m\u001b[0m\n",
      "\u001b[1;32m~\\anaconda3\\lib\\site-packages\\pandas\\core\\util\\hashing.py\u001b[0m in \u001b[0;36mhash_array\u001b[1;34m(vals, encoding, hash_key, categorize)\u001b[0m\n\u001b[0;32m    310\u001b[0m         \u001b[1;32mtry\u001b[0m\u001b[1;33m:\u001b[0m\u001b[1;33m\u001b[0m\u001b[1;33m\u001b[0m\u001b[0m\n\u001b[1;32m--> 311\u001b[1;33m             \u001b[0mvals\u001b[0m \u001b[1;33m=\u001b[0m \u001b[0mhashing\u001b[0m\u001b[1;33m.\u001b[0m\u001b[0mhash_object_array\u001b[0m\u001b[1;33m(\u001b[0m\u001b[0mvals\u001b[0m\u001b[1;33m,\u001b[0m \u001b[0mhash_key\u001b[0m\u001b[1;33m,\u001b[0m \u001b[0mencoding\u001b[0m\u001b[1;33m)\u001b[0m\u001b[1;33m\u001b[0m\u001b[1;33m\u001b[0m\u001b[0m\n\u001b[0m\u001b[0;32m    312\u001b[0m         \u001b[1;32mexcept\u001b[0m \u001b[0mTypeError\u001b[0m\u001b[1;33m:\u001b[0m\u001b[1;33m\u001b[0m\u001b[1;33m\u001b[0m\u001b[0m\n",
      "\u001b[1;31mKeyboardInterrupt\u001b[0m: ",
      "\nThe above exception was the direct cause of the following exception:\n",
      "\u001b[1;31mSystemError\u001b[0m                               Traceback (most recent call last)",
      "\u001b[1;32m~\\anaconda3\\lib\\site-packages\\pandas\\core\\dtypes\\dtypes.py\u001b[0m in \u001b[0;36m__hash__\u001b[1;34m(self)\u001b[0m\n\u001b[0;32m    383\u001b[0m         \u001b[1;31m# space for when we have unknown categories to avoid a conflict\u001b[0m\u001b[1;33m\u001b[0m\u001b[1;33m\u001b[0m\u001b[1;33m\u001b[0m\u001b[0m\n\u001b[1;32m--> 384\u001b[1;33m         \u001b[1;32mif\u001b[0m \u001b[0mself\u001b[0m\u001b[1;33m.\u001b[0m\u001b[0mcategories\u001b[0m \u001b[1;32mis\u001b[0m \u001b[1;32mNone\u001b[0m\u001b[1;33m:\u001b[0m\u001b[1;33m\u001b[0m\u001b[1;33m\u001b[0m\u001b[0m\n\u001b[0m\u001b[0;32m    385\u001b[0m             \u001b[1;32mif\u001b[0m \u001b[0mself\u001b[0m\u001b[1;33m.\u001b[0m\u001b[0mordered\u001b[0m\u001b[1;33m:\u001b[0m\u001b[1;33m\u001b[0m\u001b[1;33m\u001b[0m\u001b[0m\n",
      "\u001b[1;31mSystemError\u001b[0m: PyEval_EvalFrameEx returned a result with an error set",
      "\nThe above exception was the direct cause of the following exception:\n",
      "\u001b[1;31mSystemError\u001b[0m                               Traceback (most recent call last)",
      "\u001b[1;32m<ipython-input-32-547538777b9a>\u001b[0m in \u001b[0;36m<module>\u001b[1;34m\u001b[0m\n\u001b[0;32m      3\u001b[0m \u001b[0mmses_val_sm_bytype\u001b[0m \u001b[1;33m=\u001b[0m \u001b[1;33m[\u001b[0m\u001b[1;33m]\u001b[0m\u001b[1;33m\u001b[0m\u001b[1;33m\u001b[0m\u001b[0m\n\u001b[0;32m      4\u001b[0m \u001b[1;32mfor\u001b[0m \u001b[0mm\u001b[0m \u001b[1;32min\u001b[0m \u001b[0mrange\u001b[0m\u001b[1;33m(\u001b[0m\u001b[1;36m1\u001b[0m\u001b[1;33m,\u001b[0m \u001b[1;36m400\u001b[0m\u001b[1;33m)\u001b[0m\u001b[1;33m:\u001b[0m\u001b[1;33m\u001b[0m\u001b[1;33m\u001b[0m\u001b[0m\n\u001b[1;32m----> 5\u001b[1;33m     mse_train_sm_bytype, mse_val_sm_bytype = train_and_test(df = non_null_data, \n\u001b[0m\u001b[0;32m      6\u001b[0m                                               \u001b[0mtarget\u001b[0m \u001b[1;33m=\u001b[0m \u001b[1;34m'saleprice'\u001b[0m\u001b[1;33m,\u001b[0m\u001b[1;33m\u001b[0m\u001b[1;33m\u001b[0m\u001b[0m\n\u001b[0;32m      7\u001b[0m                                               \u001b[0mfeature_num\u001b[0m \u001b[1;33m=\u001b[0m \u001b[1;36m29\u001b[0m\u001b[1;33m,\u001b[0m \u001b[1;31m# Indicates number of numerical features\u001b[0m\u001b[1;33m\u001b[0m\u001b[1;33m\u001b[0m\u001b[0m\n",
      "\u001b[1;32m<ipython-input-23-4885dacb3448>\u001b[0m in \u001b[0;36mtrain_and_test\u001b[1;34m(df, target, feature_num, training_size, feature_selection, test)\u001b[0m\n\u001b[0;32m      5\u001b[0m         \u001b[0mX\u001b[0m \u001b[1;33m=\u001b[0m \u001b[0mselect_features_pca\u001b[0m\u001b[1;33m(\u001b[0m\u001b[0mdf\u001b[0m\u001b[1;33m,\u001b[0m \u001b[0mtarget\u001b[0m\u001b[1;33m,\u001b[0m \u001b[0mfeature_num\u001b[0m\u001b[1;33m)\u001b[0m\u001b[1;33m\u001b[0m\u001b[1;33m\u001b[0m\u001b[0m\n\u001b[0;32m      6\u001b[0m     \u001b[1;32melif\u001b[0m \u001b[0mfeature_selection\u001b[0m \u001b[1;33m==\u001b[0m \u001b[1;34m'type'\u001b[0m\u001b[1;33m:\u001b[0m\u001b[1;33m\u001b[0m\u001b[1;33m\u001b[0m\u001b[0m\n\u001b[1;32m----> 7\u001b[1;33m         \u001b[0mX\u001b[0m \u001b[1;33m=\u001b[0m \u001b[0mselect_features_by_type\u001b[0m\u001b[1;33m(\u001b[0m\u001b[0mdf\u001b[0m\u001b[1;33m,\u001b[0m \u001b[0mtarget\u001b[0m\u001b[1;33m,\u001b[0m \u001b[0mfeature_num\u001b[0m\u001b[1;33m)\u001b[0m\u001b[1;33m\u001b[0m\u001b[1;33m\u001b[0m\u001b[0m\n\u001b[0m\u001b[0;32m      8\u001b[0m \u001b[1;33m\u001b[0m\u001b[0m\n\u001b[0;32m      9\u001b[0m     \u001b[0my\u001b[0m \u001b[1;33m=\u001b[0m \u001b[0mdf\u001b[0m\u001b[1;33m[\u001b[0m\u001b[0mtarget\u001b[0m\u001b[1;33m]\u001b[0m\u001b[1;33m\u001b[0m\u001b[1;33m\u001b[0m\u001b[0m\n",
      "\u001b[1;32m<ipython-input-21-4f307e208b1e>\u001b[0m in \u001b[0;36mselect_features_by_type\u001b[1;34m(df, target, numerical_num)\u001b[0m\n\u001b[0;32m      2\u001b[0m \u001b[1;32mdef\u001b[0m \u001b[0mselect_features_by_type\u001b[0m\u001b[1;33m(\u001b[0m\u001b[0mdf\u001b[0m\u001b[1;33m,\u001b[0m \u001b[0mtarget\u001b[0m\u001b[1;33m,\u001b[0m \u001b[0mnumerical_num\u001b[0m\u001b[1;33m)\u001b[0m\u001b[1;33m:\u001b[0m\u001b[1;33m\u001b[0m\u001b[1;33m\u001b[0m\u001b[0m\n\u001b[0;32m      3\u001b[0m     \u001b[1;31m# Seperate numerical features and categorical features\u001b[0m\u001b[1;33m\u001b[0m\u001b[1;33m\u001b[0m\u001b[1;33m\u001b[0m\u001b[0m\n\u001b[1;32m----> 4\u001b[1;33m     \u001b[0mnumerical_features\u001b[0m \u001b[1;33m=\u001b[0m \u001b[0mdf\u001b[0m\u001b[1;33m.\u001b[0m\u001b[0mdrop\u001b[0m\u001b[1;33m(\u001b[0m\u001b[0mtarget\u001b[0m\u001b[1;33m,\u001b[0m \u001b[0maxis\u001b[0m \u001b[1;33m=\u001b[0m \u001b[1;36m1\u001b[0m\u001b[1;33m)\u001b[0m\u001b[1;33m.\u001b[0m\u001b[0mselect_dtypes\u001b[0m\u001b[1;33m(\u001b[0m\u001b[0mnp\u001b[0m\u001b[1;33m.\u001b[0m\u001b[0mnumber\u001b[0m\u001b[1;33m)\u001b[0m\u001b[1;33m\u001b[0m\u001b[1;33m\u001b[0m\u001b[0m\n\u001b[0m\u001b[0;32m      5\u001b[0m     \u001b[0mcategorical_features\u001b[0m \u001b[1;33m=\u001b[0m \u001b[0mdf\u001b[0m\u001b[1;33m.\u001b[0m\u001b[0mselect_dtypes\u001b[0m\u001b[1;33m(\u001b[0m\u001b[1;34m'category'\u001b[0m\u001b[1;33m)\u001b[0m\u001b[1;33m\u001b[0m\u001b[1;33m\u001b[0m\u001b[0m\n\u001b[0;32m      6\u001b[0m \u001b[1;33m\u001b[0m\u001b[0m\n",
      "\u001b[1;32m~\\anaconda3\\lib\\site-packages\\pandas\\core\\frame.py\u001b[0m in \u001b[0;36mselect_dtypes\u001b[1;34m(self, include, exclude)\u001b[0m\n\u001b[0;32m   3460\u001b[0m             \u001b[1;32mreturn\u001b[0m \u001b[0mextracted_dtypes\u001b[0m\u001b[1;33m\u001b[0m\u001b[1;33m\u001b[0m\u001b[0m\n\u001b[0;32m   3461\u001b[0m \u001b[1;33m\u001b[0m\u001b[0m\n\u001b[1;32m-> 3462\u001b[1;33m         \u001b[0munique_dtypes\u001b[0m \u001b[1;33m=\u001b[0m \u001b[0mself\u001b[0m\u001b[1;33m.\u001b[0m\u001b[0mdtypes\u001b[0m\u001b[1;33m.\u001b[0m\u001b[0munique\u001b[0m\u001b[1;33m(\u001b[0m\u001b[1;33m)\u001b[0m\u001b[1;33m\u001b[0m\u001b[1;33m\u001b[0m\u001b[0m\n\u001b[0m\u001b[0;32m   3463\u001b[0m \u001b[1;33m\u001b[0m\u001b[0m\n\u001b[0;32m   3464\u001b[0m         \u001b[1;32mif\u001b[0m \u001b[0minclude\u001b[0m\u001b[1;33m:\u001b[0m\u001b[1;33m\u001b[0m\u001b[1;33m\u001b[0m\u001b[0m\n",
      "\u001b[1;32m~\\anaconda3\\lib\\site-packages\\pandas\\core\\series.py\u001b[0m in \u001b[0;36munique\u001b[1;34m(self)\u001b[0m\n\u001b[0;32m   1814\u001b[0m         \u001b[0mCategories\u001b[0m \u001b[1;33m(\u001b[0m\u001b[1;36m3\u001b[0m\u001b[1;33m,\u001b[0m \u001b[0mobject\u001b[0m\u001b[1;33m)\u001b[0m\u001b[1;33m:\u001b[0m \u001b[1;33m[\u001b[0m\u001b[0ma\u001b[0m \u001b[1;33m<\u001b[0m \u001b[0mb\u001b[0m \u001b[1;33m<\u001b[0m \u001b[0mc\u001b[0m\u001b[1;33m]\u001b[0m\u001b[1;33m\u001b[0m\u001b[1;33m\u001b[0m\u001b[0m\n\u001b[0;32m   1815\u001b[0m         \"\"\"\n\u001b[1;32m-> 1816\u001b[1;33m         \u001b[0mresult\u001b[0m \u001b[1;33m=\u001b[0m \u001b[0msuper\u001b[0m\u001b[1;33m(\u001b[0m\u001b[1;33m)\u001b[0m\u001b[1;33m.\u001b[0m\u001b[0munique\u001b[0m\u001b[1;33m(\u001b[0m\u001b[1;33m)\u001b[0m\u001b[1;33m\u001b[0m\u001b[1;33m\u001b[0m\u001b[0m\n\u001b[0m\u001b[0;32m   1817\u001b[0m         \u001b[1;32mreturn\u001b[0m \u001b[0mresult\u001b[0m\u001b[1;33m\u001b[0m\u001b[1;33m\u001b[0m\u001b[0m\n\u001b[0;32m   1818\u001b[0m \u001b[1;33m\u001b[0m\u001b[0m\n",
      "\u001b[1;32m~\\anaconda3\\lib\\site-packages\\pandas\\core\\base.py\u001b[0m in \u001b[0;36munique\u001b[1;34m(self)\u001b[0m\n\u001b[0;32m   1244\u001b[0m             \u001b[0mresult\u001b[0m \u001b[1;33m=\u001b[0m \u001b[0mvalues\u001b[0m\u001b[1;33m.\u001b[0m\u001b[0munique\u001b[0m\u001b[1;33m(\u001b[0m\u001b[1;33m)\u001b[0m\u001b[1;33m\u001b[0m\u001b[1;33m\u001b[0m\u001b[0m\n\u001b[0;32m   1245\u001b[0m         \u001b[1;32melse\u001b[0m\u001b[1;33m:\u001b[0m\u001b[1;33m\u001b[0m\u001b[1;33m\u001b[0m\u001b[0m\n\u001b[1;32m-> 1246\u001b[1;33m             \u001b[0mresult\u001b[0m \u001b[1;33m=\u001b[0m \u001b[0munique1d\u001b[0m\u001b[1;33m(\u001b[0m\u001b[0mvalues\u001b[0m\u001b[1;33m)\u001b[0m\u001b[1;33m\u001b[0m\u001b[1;33m\u001b[0m\u001b[0m\n\u001b[0m\u001b[0;32m   1247\u001b[0m \u001b[1;33m\u001b[0m\u001b[0m\n\u001b[0;32m   1248\u001b[0m         \u001b[1;32mreturn\u001b[0m \u001b[0mresult\u001b[0m\u001b[1;33m\u001b[0m\u001b[1;33m\u001b[0m\u001b[0m\n",
      "\u001b[1;32m~\\anaconda3\\lib\\site-packages\\pandas\\core\\algorithms.py\u001b[0m in \u001b[0;36munique\u001b[1;34m(values)\u001b[0m\n\u001b[0;32m    380\u001b[0m \u001b[1;33m\u001b[0m\u001b[0m\n\u001b[0;32m    381\u001b[0m     \u001b[0mtable\u001b[0m \u001b[1;33m=\u001b[0m \u001b[0mhtable\u001b[0m\u001b[1;33m(\u001b[0m\u001b[0mlen\u001b[0m\u001b[1;33m(\u001b[0m\u001b[0mvalues\u001b[0m\u001b[1;33m)\u001b[0m\u001b[1;33m)\u001b[0m\u001b[1;33m\u001b[0m\u001b[1;33m\u001b[0m\u001b[0m\n\u001b[1;32m--> 382\u001b[1;33m     \u001b[0muniques\u001b[0m \u001b[1;33m=\u001b[0m \u001b[0mtable\u001b[0m\u001b[1;33m.\u001b[0m\u001b[0munique\u001b[0m\u001b[1;33m(\u001b[0m\u001b[0mvalues\u001b[0m\u001b[1;33m)\u001b[0m\u001b[1;33m\u001b[0m\u001b[1;33m\u001b[0m\u001b[0m\n\u001b[0m\u001b[0;32m    383\u001b[0m     \u001b[0muniques\u001b[0m \u001b[1;33m=\u001b[0m \u001b[0m_reconstruct_data\u001b[0m\u001b[1;33m(\u001b[0m\u001b[0muniques\u001b[0m\u001b[1;33m,\u001b[0m \u001b[0moriginal\u001b[0m\u001b[1;33m.\u001b[0m\u001b[0mdtype\u001b[0m\u001b[1;33m,\u001b[0m \u001b[0moriginal\u001b[0m\u001b[1;33m)\u001b[0m\u001b[1;33m\u001b[0m\u001b[1;33m\u001b[0m\u001b[0m\n\u001b[0;32m    384\u001b[0m     \u001b[1;32mreturn\u001b[0m \u001b[0muniques\u001b[0m\u001b[1;33m\u001b[0m\u001b[1;33m\u001b[0m\u001b[0m\n",
      "\u001b[1;32mpandas\\_libs\\hashtable_class_helper.pxi\u001b[0m in \u001b[0;36mpandas._libs.hashtable.PyObjectHashTable.unique\u001b[1;34m()\u001b[0m\n",
      "\u001b[1;32mpandas\\_libs\\hashtable_class_helper.pxi\u001b[0m in \u001b[0;36mpandas._libs.hashtable.PyObjectHashTable._unique\u001b[1;34m()\u001b[0m\n",
      "\u001b[1;32m~\\anaconda3\\lib\\site-packages\\pandas\\core\\dtypes\\dtypes.py\u001b[0m in \u001b[0;36m__hash__\u001b[1;34m(self)\u001b[0m\n\u001b[0;32m    382\u001b[0m         \u001b[1;31m# _hash_categories returns a uint64, so use the negative\u001b[0m\u001b[1;33m\u001b[0m\u001b[1;33m\u001b[0m\u001b[1;33m\u001b[0m\u001b[0m\n\u001b[0;32m    383\u001b[0m         \u001b[1;31m# space for when we have unknown categories to avoid a conflict\u001b[0m\u001b[1;33m\u001b[0m\u001b[1;33m\u001b[0m\u001b[1;33m\u001b[0m\u001b[0m\n\u001b[1;32m--> 384\u001b[1;33m         \u001b[1;32mif\u001b[0m \u001b[0mself\u001b[0m\u001b[1;33m.\u001b[0m\u001b[0mcategories\u001b[0m \u001b[1;32mis\u001b[0m \u001b[1;32mNone\u001b[0m\u001b[1;33m:\u001b[0m\u001b[1;33m\u001b[0m\u001b[1;33m\u001b[0m\u001b[0m\n\u001b[0m\u001b[0;32m    385\u001b[0m             \u001b[1;32mif\u001b[0m \u001b[0mself\u001b[0m\u001b[1;33m.\u001b[0m\u001b[0mordered\u001b[0m\u001b[1;33m:\u001b[0m\u001b[1;33m\u001b[0m\u001b[1;33m\u001b[0m\u001b[0m\n\u001b[0;32m    386\u001b[0m                 \u001b[1;32mreturn\u001b[0m \u001b[1;33m-\u001b[0m\u001b[1;36m1\u001b[0m\u001b[1;33m\u001b[0m\u001b[1;33m\u001b[0m\u001b[0m\n",
      "\u001b[1;31mSystemError\u001b[0m: PyEval_EvalFrameEx returned a result with an error set"
     ]
    }
   ],
   "source": [
    "# Get the learning curve of the model with lowest cross-validation rmse\n",
    "mses_train_sm_bytype = []\n",
    "mses_val_sm_bytype = []\n",
    "for m in range(1, 400):\n",
    "    mse_train_sm_bytype, mse_val_sm_bytype = train_and_test(df = non_null_data, \n",
    "                                              target = 'saleprice', \n",
    "                                              feature_num = 29, # Indicates number of numerical features\n",
    "                                              training_size=m,\n",
    "                                             feature_selection='type')\n",
    "    mses_train_sm_bytype.append(mse_train_sm_bytype)\n",
    "    mses_val_sm_bytype.append(mse_val_sm_bytype)"
   ]
  },
  {
   "cell_type": "code",
   "execution_count": 33,
   "metadata": {
    "ExecuteTime": {
     "end_time": "2020-10-20T20:22:40.571459Z",
     "start_time": "2020-10-20T20:22:40.444544Z"
    },
    "hidden": true
   },
   "outputs": [
    {
     "data": {
      "text/plain": [
       "Text(0.5, 1.0, 'Learning curve for unregularized linear regression feature by type')"
      ]
     },
     "execution_count": 33,
     "metadata": {},
     "output_type": "execute_result"
    },
    {
     "data": {
      "image/png": "[encoded data removed]",
      "text/plain": [
       "<Figure size 432x288 with 1 Axes>"
      ]
     },
     "metadata": {
      "needs_background": "light"
     },
     "output_type": "display_data"
    }
   ],
   "source": [
    "plt.plot(mses_train_sm, color = 'red', label = 'training error')\n",
    "plt.plot(mses_val_sm, color = 'orange', label = 'cross-validation error')\n",
    "plt.legend()\n",
    "plt.xlim(1,400)\n",
    "plt.ylim(0, 0.1e10)\n",
    "plt.title('Learning curve for unregularized linear regression feature by type')"
   ]
  },
  {
   "cell_type": "markdown",
   "metadata": {
    "hidden": true
   },
   "source": [
    "**The learning curve above -- the low training error and high cross-validation error indicates over fitting, aka high variance. Next, let's try regularizing the model with a lambda value.**"
   ]
  },
  {
   "cell_type": "markdown",
   "metadata": {
    "ExecuteTime": {
     "end_time": "2020-10-20T19:58:26.914815Z",
     "start_time": "2020-10-20T19:58:26.912096Z"
    },
    "hidden": true
   },
   "source": [
    "<img src=\"High_variance.png\">"
   ]
  },
  {
   "cell_type": "markdown",
   "metadata": {
    "heading_collapsed": true,
    "hidden": true
   },
   "source": [
    "### Test unregularized model with best parameters on all models"
   ]
  },
  {
   "cell_type": "code",
   "execution_count": null,
   "metadata": {
    "ExecuteTime": {
     "end_time": "2020-10-20T20:38:44.181127Z",
     "start_time": "2020-10-20T20:38:44.052408Z"
    },
    "hidden": true
   },
   "outputs": [],
   "source": [
    "# Best pca params\n",
    "train_and_test(non_null_data, 'saleprice', feature_num = 99, feature_selection = 'pca', test = True)"
   ]
  },
  {
   "cell_type": "code",
   "execution_count": null,
   "metadata": {
    "ExecuteTime": {
     "end_time": "2020-10-20T20:39:18.026271Z",
     "start_time": "2020-10-20T20:39:17.933572Z"
    },
    "hidden": true
   },
   "outputs": [],
   "source": [
    "# Best bytype params\n",
    "train_and_test(non_null_data, 'saleprice', feature_num = 29, feature_selection = 'type', test = True)"
   ]
  },
  {
   "cell_type": "markdown",
   "metadata": {
    "hidden": true
   },
   "source": [
    "Above with a low training error and really high test error is typical over fitting."
   ]
  },
  {
   "cell_type": "markdown",
   "metadata": {
    "heading_collapsed": true
   },
   "source": [
    "## Regularized Linear Regression\n",
    "---\n",
    "In this section, we will leave the feature columns be, and use Linear Regression model with l2(Ridge) regularization. <br><br>\n",
    "We will compare the regularized Linear Regression with our previous unregularized Linear Regression, also, with or without feature selection"
   ]
  },
  {
   "cell_type": "markdown",
   "metadata": {
    "heading_collapsed": true,
    "hidden": true
   },
   "source": [
    "### Regularized Linear Regression without feature selection"
   ]
  },
  {
   "cell_type": "code",
   "execution_count": null,
   "metadata": {
    "ExecuteTime": {
     "end_time": "2020-10-20T20:42:42.693916Z",
     "start_time": "2020-10-20T20:42:42.684113Z"
    },
    "hidden": true
   },
   "outputs": [],
   "source": [
    "# Function to train & test with Ridge\n",
    "def regularized_train_and_test(df, target, alpha, \n",
    "                               training_size = None, \n",
    "                               feature_selection = None, \n",
    "                               feature_number = None,\n",
    "                               test = False):\n",
    "    \n",
    "    if feature_selection == 'type':\n",
    "        X = select_features_by_type(df, target, feature_number)\n",
    "    elif feature_selection == 'pca':\n",
    "        X = select_features_pca(df, target, feature_number)\n",
    "        \n",
    "    else:\n",
    "        # Get dummies for categorized data\n",
    "        categorized_features = df.select_dtypes('category')\n",
    "        categorized_features = pd.get_dummies(categorized_features)\n",
    "        # Get numerical features \n",
    "        numerical_features = df.select_dtypes(np.number).drop(target, axis = 1)\n",
    "        X = pd.concat([numerical_features, categorized_features], axis = 1)\n",
    "\n",
    "    \n",
    "    y = df[target]\n",
    "    \n",
    "    # First split data into train, test\n",
    "    X_train, X_test, y_train, y_test = train_test_split(X, y, test_size=0.2, random_state=1)\n",
    "\n",
    "    # Split train data into train, val\n",
    "    X_train, X_val, y_train, y_val = train_test_split(X_train, y_train, test_size=0.25, random_state=1) \n",
    "    \n",
    "    model = Ridge(alpha = alpha)\n",
    "    \n",
    "    # Train model with small sample size for plotting the learning curve\n",
    "    if training_size:\n",
    "        X_train_sm = X_train[:training_size]\n",
    "        y_train_sm = y_train[:training_size]\n",
    "        X_val_sm = X_val[:training_size]\n",
    "        y_val_sm = y_val[:training_size]\n",
    "        model.fit(X_train_sm, y_train_sm)\n",
    "        pred_train_sm = model.predict(X_train_sm)\n",
    "        mse_train_sm = mean_squared_error(y_train_sm, pred_train_sm) \n",
    "        pred_val_sm = model.predict(X_val_sm) \n",
    "        mse_val_sm = mean_squared_error(y_val_sm, pred_val_sm)\n",
    "        return mse_train_sm, mse_val_sm\n",
    "    \n",
    "    if test:\n",
    "        model.fit(X_train, y_train)\n",
    "        pred_train = model.predict(X_train)\n",
    "        rmse_train = mean_squared_error(y_train, pred_train, squared = False) \n",
    "        pred_test = model.predict(X_test) \n",
    "        rmse_test = mean_squared_error(y_test, pred_test, squared = False)\n",
    "        print('Model has a training rmse of {}, and test rmse of {}.'.format(rmse_train, rmse_test))\n",
    "        return rmse_test\n",
    "    \n",
    "    \n",
    "    # Train model\n",
    "    print('Training model with regularization alpha: {}'.format(alpha))\n",
    "    model.fit(X_train, y_train)\n",
    "    pred_train = model.predict(X_train)\n",
    "    rmse_train = mean_squared_error(y_train, pred_train, squared = False) \n",
    "    pred_val = model.predict(X_val) \n",
    "    rmse_val = mean_squared_error(y_val, pred_val, squared = False)\n",
    "    print('Model has a training rmse of {}, and cross_validation rmse of {}.'.format(rmse_train, rmse_val))\n",
    "    \n",
    "    return rmse_train, rmse_val"
   ]
  },
  {
   "cell_type": "code",
   "execution_count": null,
   "metadata": {
    "ExecuteTime": {
     "end_time": "2020-10-20T20:25:47.940582Z",
     "start_time": "2020-10-20T20:25:43.682568Z"
    },
    "hidden": true,
    "scrolled": true
   },
   "outputs": [],
   "source": [
    "# Train and test on different number of alpha without any feature selection\n",
    "r_rmses_train = {}\n",
    "r_rmses_val = {}\n",
    "\n",
    "for alpha in range(1,50):\n",
    "    rmse_train, rmse_val = regularized_train_and_test(non_null_data, 'saleprice', alpha)\n",
    "    r_rmses_train['Model with alpha: {}'.format(alpha)] = rmse_train\n",
    "    r_rmses_val['Model with alpha: {}'.format(alpha)]  = rmse_val"
   ]
  },
  {
   "cell_type": "code",
   "execution_count": null,
   "metadata": {
    "ExecuteTime": {
     "end_time": "2020-10-20T20:23:33.025547Z",
     "start_time": "2020-10-20T20:23:33.022141Z"
    },
    "hidden": true,
    "scrolled": true
   },
   "outputs": [],
   "source": [
    "# Find the model with the lowest cross-validation rmse\n",
    "best_performance(r_rmses_val)"
   ]
  },
  {
   "cell_type": "code",
   "execution_count": null,
   "metadata": {
    "ExecuteTime": {
     "end_time": "2020-10-20T20:23:57.118858Z",
     "start_time": "2020-10-20T20:23:33.026818Z"
    },
    "hidden": true
   },
   "outputs": [],
   "source": [
    "r_mses_train_sm = []\n",
    "r_mses_val_sm = []\n",
    "\n",
    "for m in range(1,300):\n",
    "    r_mse_train_sm, r_mse_val_sm = regularized_train_and_test(non_null_data, 'saleprice', 22, training_size = m)\n",
    "    r_mses_train_sm.append(r_mse_train_sm)\n",
    "    r_mses_val_sm.append(r_mse_val_sm)    "
   ]
  },
  {
   "cell_type": "code",
   "execution_count": null,
   "metadata": {
    "ExecuteTime": {
     "end_time": "2020-10-20T20:23:57.255521Z",
     "start_time": "2020-10-20T20:23:57.120020Z"
    },
    "hidden": true
   },
   "outputs": [],
   "source": [
    "plt.plot(r_mses_train_sm, color = 'red', label = 'regularized_training error')\n",
    "plt.plot(r_mses_val_sm, color = 'orange', label = 'regularized_cross-validation error')\n",
    "plt.xlim(1,100)\n",
    "plt.ylim(0, 0.2e10)\n",
    "plt.title('Learning curve for regularized linear regression without feature seleciton')\n",
    "plt.legend()"
   ]
  },
  {
   "cell_type": "markdown",
   "metadata": {
    "hidden": true
   },
   "source": [
    "### Regularized Linear Regression with feature selection"
   ]
  },
  {
   "cell_type": "code",
   "execution_count": null,
   "metadata": {
    "ExecuteTime": {
     "end_time": "2020-10-20T20:26:30.803318Z",
     "start_time": "2020-10-20T20:26:27.015534Z"
    },
    "hidden": true,
    "scrolled": true
   },
   "outputs": [],
   "source": [
    "# Train and test on different number of alpha with feature selection\n",
    "r_rmses_train_type = {}\n",
    "r_rmses_val_type = {}\n",
    "\n",
    "for alpha in range(1,50):\n",
    "    rmse_train, rmse_val = regularized_train_and_test(non_null_data, \n",
    "                                                      'saleprice', \n",
    "                                                      alpha, \n",
    "                                                      feature_selection='type', \n",
    "                                                      feature_number=29)\n",
    "    r_rmses_train_type['Model with alpha: {}'.format(alpha)] = rmse_train\n",
    "    r_rmses_val_type['Model with alpha: {}'.format(alpha)]  = rmse_val"
   ]
  },
  {
   "cell_type": "code",
   "execution_count": null,
   "metadata": {
    "ExecuteTime": {
     "end_time": "2020-10-20T20:24:01.038666Z",
     "start_time": "2020-10-20T20:24:01.035286Z"
    },
    "hidden": true
   },
   "outputs": [],
   "source": [
    "best_performance(r_rmses_val_type)"
   ]
  },
  {
   "cell_type": "code",
   "execution_count": null,
   "metadata": {
    "ExecuteTime": {
     "end_time": "2020-10-20T20:24:22.585730Z",
     "start_time": "2020-10-20T20:24:01.040189Z"
    },
    "hidden": true
   },
   "outputs": [],
   "source": [
    "# Find learning curve for best performance \n",
    "r_mses_train_sm_type = []\n",
    "r_mses_val_sm_type = []\n",
    "\n",
    "for m in range(1,300):\n",
    "    r_mse_train_sm, r_mse_val_sm = regularized_train_and_test(non_null_data, \n",
    "                                                              'saleprice', \n",
    "                                                              alpha = 21, \n",
    "                                                              training_size = m, \n",
    "                                                              feature_selection='type', \n",
    "                                                              numerical_number=29)\n",
    "    r_mses_train_sm_type.append(r_mse_train_sm)\n",
    "    r_mses_val_sm_type.append(r_mse_val_sm)    "
   ]
  },
  {
   "cell_type": "code",
   "execution_count": null,
   "metadata": {
    "ExecuteTime": {
     "end_time": "2020-10-20T20:24:22.730659Z",
     "start_time": "2020-10-20T20:24:22.587105Z"
    },
    "hidden": true
   },
   "outputs": [],
   "source": [
    "plt.plot(r_mses_train_sm_type, color = 'red', label = 'regularized_training error')\n",
    "plt.plot(r_mses_val_sm_type, color = 'orange', label = 'regularized_cross-validation error')\n",
    "plt.xlim(1,100)\n",
    "plt.ylim(0, 0.2e10)\n",
    "plt.title('Learning curve for regularized linear regression with feature selection')\n",
    "plt.legend()"
   ]
  },
  {
   "cell_type": "markdown",
   "metadata": {
    "hidden": true
   },
   "source": [
    "### Regularized Linear Regression with PCA"
   ]
  },
  {
   "cell_type": "code",
   "execution_count": null,
   "metadata": {
    "ExecuteTime": {
     "end_time": "2020-10-20T20:27:39.807565Z",
     "start_time": "2020-10-20T20:27:33.573985Z"
    },
    "hidden": true,
    "scrolled": true
   },
   "outputs": [],
   "source": [
    "# Train and test on different number of alpha with feature selection\n",
    "r_rmses_train_pca = {}\n",
    "r_rmses_val_pca = {}\n",
    "\n",
    "for alpha in range(1,50):\n",
    "    rmse_train, rmse_val = regularized_train_and_test(non_null_data, \n",
    "                                                      'saleprice', \n",
    "                                                      alpha, \n",
    "                                                      feature_selection='pca', \n",
    "                                                      feature_number = 99)\n",
    "    r_rmses_train_pca['Model with alpha: {}'.format(alpha)] = rmse_train\n",
    "    r_rmses_val_pca['Model with alpha: {}'.format(alpha)]  = rmse_val"
   ]
  },
  {
   "cell_type": "code",
   "execution_count": null,
   "metadata": {
    "ExecuteTime": {
     "end_time": "2020-10-20T20:27:52.145616Z",
     "start_time": "2020-10-20T20:27:52.142879Z"
    },
    "hidden": true
   },
   "outputs": [],
   "source": [
    "best_performance(r_rmses_val_pca)"
   ]
  },
  {
   "cell_type": "code",
   "execution_count": null,
   "metadata": {
    "ExecuteTime": {
     "end_time": "2020-10-20T20:30:21.907298Z",
     "start_time": "2020-10-20T20:29:45.651042Z"
    },
    "hidden": true
   },
   "outputs": [],
   "source": [
    "# Learning curve for Regularized Linear Regression with feature selection\n",
    "# Find learning curve for best performance \n",
    "r_mses_train_sm_pca = []\n",
    "r_mses_val_sm_pca = []\n",
    "\n",
    "for m in range(1,300):\n",
    "    r_mse_train_sm, r_mse_val_sm = regularized_train_and_test(non_null_data, \n",
    "                                                              'saleprice', \n",
    "                                                              alpha = 49, \n",
    "                                                              training_size = m, \n",
    "                                                              feature_selection='pca', \n",
    "                                                              feature_number=99)\n",
    "    r_mses_train_sm_pca.append(r_mse_train_sm)\n",
    "    r_mses_val_sm_pca.append(r_mse_val_sm)    "
   ]
  },
  {
   "cell_type": "code",
   "execution_count": null,
   "metadata": {
    "ExecuteTime": {
     "end_time": "2020-10-20T20:30:22.045421Z",
     "start_time": "2020-10-20T20:30:21.908593Z"
    },
    "hidden": true
   },
   "outputs": [],
   "source": [
    "plt.plot(r_mses_train_sm_pca, color = 'red', label = 'regularized_training error')\n",
    "plt.plot(r_mses_val_sm_pca, color = 'orange', label = 'regularized_cross-validation error')\n",
    "plt.xlim(1,100)\n",
    "plt.ylim(0, 0.2e10)\n",
    "plt.title('Learning curve for regularized linear regression with pca')\n",
    "plt.legend()"
   ]
  },
  {
   "cell_type": "markdown",
   "metadata": {
    "hidden": true
   },
   "source": [
    "### Test regularized model with best parameters"
   ]
  },
  {
   "cell_type": "code",
   "execution_count": null,
   "metadata": {
    "ExecuteTime": {
     "end_time": "2020-10-20T20:45:31.838166Z",
     "start_time": "2020-10-20T20:45:31.744826Z"
    },
    "hidden": true
   },
   "outputs": [],
   "source": [
    "# Best without feature selection\n",
    "regularized_train_and_test(non_null_data, \n",
    "                           'saleprice', \n",
    "                            alpha = 22,\n",
    "                            test = True)"
   ]
  },
  {
   "cell_type": "code",
   "execution_count": null,
   "metadata": {
    "ExecuteTime": {
     "end_time": "2020-10-20T20:47:13.593182Z",
     "start_time": "2020-10-20T20:47:13.508315Z"
    },
    "hidden": true
   },
   "outputs": [],
   "source": [
    "# Best with by type feature selection\n",
    "regularized_train_and_test(non_null_data, \n",
    "                           'saleprice', \n",
    "                            alpha = 21, \n",
    "                            feature_selection = 'type', \n",
    "                            feature_number = 29,\n",
    "                            test = True)"
   ]
  },
  {
   "cell_type": "code",
   "execution_count": null,
   "metadata": {
    "ExecuteTime": {
     "end_time": "2020-10-20T20:48:24.536815Z",
     "start_time": "2020-10-20T20:48:24.406089Z"
    },
    "hidden": true
   },
   "outputs": [],
   "source": [
    "# Best with pca \n",
    "regularized_train_and_test(non_null_data, \n",
    "                           'saleprice', \n",
    "                            alpha = 49, \n",
    "                            feature_selection = 'pca', \n",
    "                            feature_number = 99,\n",
    "                            test = True)"
   ]
  },
  {
   "cell_type": "markdown",
   "metadata": {
    "heading_collapsed": true
   },
   "source": [
    "# Conclusion:\n",
    "***Results:***\n",
    "\n",
    "  \n",
    "|                 | no feature selection | pca | feature selection by type |\n",
    "|-----------------|----------------------|-----|---------------------------|\n",
    "|**unregularized**| none | **cv:** 25271 **test:** 34157 | **cv:** 3.7e15 **test:** 2.4e15 |\n",
    "| **regularized** | **cv:** 24076 **test:** 33185 | **cv:** 24968 **test:** 34665| **cv:** 24293 **test:** 32342 |\n",
    "    \n",
    "---\n",
    "***From the results above, we can conclude:***\n",
    "* Regularized Linear Regression delivers better results in general.\n",
    "* With a large number of features, i.e a linear regression model with a high oder polynomial function, can lead to over fitting. But with regularized Linear Regression, it can generalize and give the best performance. This refers to the last column in our results.\n",
    "\n",
    "--- \n",
    "***Next steps:***\n",
    "* Explore [column transformer](https://scikit-learn.org/stable/auto_examples/compose/plot_column_transformer_mixed_types.html) pipelines for the case of datasets that contain heterogeneous data types. "
   ]
  }
 ],
 "metadata": {
  "anaconda-cloud": {},
  "kernelspec": {
   "display_name": "Python 3",
   "language": "python",
   "name": "python3"
  },
  "language_info": {
   "codemirror_mode": {
    "name": "ipython",
    "version": 3
   },
   "file_extension": ".py",
   "mimetype": "text/x-python",
   "name": "python",
   "nbconvert_exporter": "python",
   "pygments_lexer": "ipython3",
   "version": "3.8.3"
  },
  "toc": {
   "base_numbering": 1,
   "nav_menu": {},
   "number_sections": true,
   "sideBar": true,
   "skip_h1_title": false,
   "title_cell": "Table of Contents",
   "title_sidebar": "Contents",
   "toc_cell": false,
   "toc_position": {},
   "toc_section_display": true,
   "toc_window_display": false
  }
 },
 "nbformat": 4,
 "nbformat_minor": 2
}
